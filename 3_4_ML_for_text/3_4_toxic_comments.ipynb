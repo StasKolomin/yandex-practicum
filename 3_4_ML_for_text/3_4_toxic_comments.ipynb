{
 "cells": [
  {
   "cell_type": "markdown",
   "metadata": {},
   "source": [
    "Интернет-магазин «Викишоп» запускает новый сервис. Теперь пользователи могут редактировать и дополнять описания товаров, как в вики-сообществах. То есть клиенты предлагают свои правки и комментируют изменения других. Магазину нужен инструмент, который будет искать токсичные комментарии и отправлять их на модерацию. \n",
    "\n",
    "Обучите модель классифицировать комментарии на позитивные и негативные. В вашем распоряжении набор данных с разметкой о токсичности правок.\n",
    "\n",
    "Постройте модель со значением метрики качества *F1* не меньше 0.75. \n",
    "\n",
    "### Инструкция по выполнению проекта\n",
    "\n",
    "1. Загрузите и подготовьте данные.\n",
    "2. Обучите разные модели. \n",
    "3. Сделайте выводы.\n",
    "\n",
    "Для выполнения проекта применять *BERT* необязательно, но вы можете попробовать.\n",
    "\n",
    "### Описание данных\n",
    "\n",
    "Данные находятся в файле `toxic_comments.csv`. Столбец *text* в нём содержит текст комментария, а *toxic* — целевой признак."
   ]
  },
  {
   "cell_type": "markdown",
   "metadata": {},
   "source": [
    "# 1. Подготовка"
   ]
  },
  {
   "cell_type": "raw",
   "metadata": {},
   "source": [
    "!pip install tqdm"
   ]
  },
  {
   "cell_type": "raw",
   "metadata": {},
   "source": [
    "!pip install transformers"
   ]
  },
  {
   "cell_type": "raw",
   "metadata": {},
   "source": [
    "!pip install torch===1.7.0+cu110 torchvision===0.8.1+cu110 torchaudio===0.7.0 -f https://download.pytorch.org/whl/torch_stable.html"
   ]
  },
  {
   "cell_type": "code",
   "execution_count": 1,
   "metadata": {},
   "outputs": [],
   "source": [
    "import pandas as pd\n",
    "import numpy as np\n",
    "from tqdm import notebook\n",
    "import matplotlib.pyplot as plt\n",
    "import torch\n",
    "import transformers\n",
    "\n",
    "import re\n",
    "\n",
    "import nltk\n",
    "from nltk.corpus import stopwords as nltk_stopwords\n",
    "from nltk.stem import WordNetLemmatizer\n",
    "from nltk.stem.snowball import SnowballStemmer\n",
    "\n",
    "from sklearn.feature_extraction.text import CountVectorizer # мешок слов\n",
    "from sklearn.feature_extraction.text import TfidfVectorizer # TF-IDF\n",
    "from sklearn.utils import shuffle\n",
    "\n",
    "from sklearn.model_selection import GridSearchCV, train_test_split\n",
    "from sklearn.metrics import f1_score\n",
    "from sklearn.linear_model import LogisticRegression\n",
    "from sklearn.ensemble import RandomForestClassifier\n",
    "import lightgbm as lgb"
   ]
  },
  {
   "cell_type": "code",
   "execution_count": 2,
   "metadata": {},
   "outputs": [],
   "source": [
    "pd.set_option('max_colwidth', 100)"
   ]
  },
  {
   "cell_type": "code",
   "execution_count": 3,
   "metadata": {
    "scrolled": false
   },
   "outputs": [
    {
     "name": "stdout",
     "output_type": "stream",
     "text": [
      "<class 'pandas.core.frame.DataFrame'>\n",
      "RangeIndex: 159571 entries, 0 to 159570\n",
      "Data columns (total 2 columns):\n",
      " #   Column  Non-Null Count   Dtype \n",
      "---  ------  --------------   ----- \n",
      " 0   text    159571 non-null  object\n",
      " 1   toxic   159571 non-null  int64 \n",
      "dtypes: int64(1), object(1)\n",
      "memory usage: 2.4+ MB\n",
      "None\n"
     ]
    },
    {
     "data": {
      "text/html": [
       "<div>\n",
       "<style scoped>\n",
       "    .dataframe tbody tr th:only-of-type {\n",
       "        vertical-align: middle;\n",
       "    }\n",
       "\n",
       "    .dataframe tbody tr th {\n",
       "        vertical-align: top;\n",
       "    }\n",
       "\n",
       "    .dataframe thead th {\n",
       "        text-align: right;\n",
       "    }\n",
       "</style>\n",
       "<table border=\"1\" class=\"dataframe\">\n",
       "  <thead>\n",
       "    <tr style=\"text-align: right;\">\n",
       "      <th></th>\n",
       "      <th>text</th>\n",
       "      <th>toxic</th>\n",
       "    </tr>\n",
       "  </thead>\n",
       "  <tbody>\n",
       "    <tr>\n",
       "      <th>0</th>\n",
       "      <td>Explanation\\nWhy the edits made under my username Hardcore Metallica Fan were reverted? They wer...</td>\n",
       "      <td>0</td>\n",
       "    </tr>\n",
       "    <tr>\n",
       "      <th>1</th>\n",
       "      <td>D'aww! He matches this background colour I'm seemingly stuck with. Thanks.  (talk) 21:51, Januar...</td>\n",
       "      <td>0</td>\n",
       "    </tr>\n",
       "    <tr>\n",
       "      <th>2</th>\n",
       "      <td>Hey man, I'm really not trying to edit war. It's just that this guy is constantly removing relev...</td>\n",
       "      <td>0</td>\n",
       "    </tr>\n",
       "    <tr>\n",
       "      <th>3</th>\n",
       "      <td>\"\\nMore\\nI can't make any real suggestions on improvement - I wondered if the section statistics...</td>\n",
       "      <td>0</td>\n",
       "    </tr>\n",
       "    <tr>\n",
       "      <th>4</th>\n",
       "      <td>You, sir, are my hero. Any chance you remember what page that's on?</td>\n",
       "      <td>0</td>\n",
       "    </tr>\n",
       "  </tbody>\n",
       "</table>\n",
       "</div>"
      ],
      "text/plain": [
       "                                                                                                  text  \\\n",
       "0  Explanation\\nWhy the edits made under my username Hardcore Metallica Fan were reverted? They wer...   \n",
       "1  D'aww! He matches this background colour I'm seemingly stuck with. Thanks.  (talk) 21:51, Januar...   \n",
       "2  Hey man, I'm really not trying to edit war. It's just that this guy is constantly removing relev...   \n",
       "3  \"\\nMore\\nI can't make any real suggestions on improvement - I wondered if the section statistics...   \n",
       "4                                  You, sir, are my hero. Any chance you remember what page that's on?   \n",
       "\n",
       "   toxic  \n",
       "0      0  \n",
       "1      0  \n",
       "2      0  \n",
       "3      0  \n",
       "4      0  "
      ]
     },
     "metadata": {},
     "output_type": "display_data"
    }
   ],
   "source": [
    "# универсальное чтение данных\n",
    "name = 'toxic_comments.csv'\n",
    "\n",
    "try:\n",
    "    # local\n",
    "    data = pd.read_csv(\"./datasets/\" + name)\n",
    "except:\n",
    "    try:\n",
    "        # https://jupyterhub.praktikum-services.ru/\n",
    "        data = pd.read_csv(\"/datasets/\" + name)\n",
    "    except:\n",
    "        # https://praktikum.yandex.ru/\n",
    "        data = pd.read_csv(\"https://...\" + name)\n",
    "finally:\n",
    "#     original_data = data.copy() \n",
    "    print(data.info())\n",
    "    display(data.head())\n"
   ]
  },
  {
   "cell_type": "markdown",
   "metadata": {},
   "source": [
    "## Очистка текста"
   ]
  },
  {
   "cell_type": "code",
   "execution_count": 4,
   "metadata": {},
   "outputs": [],
   "source": [
    "# удаляем с помощью регулярок символы не состоящие в алфавите\n",
    "def clear_text(text): # строка на вход\n",
    "    pattern = r'[^a-zA-Z ]'\n",
    "    new_text = re.sub(pattern, ' ', text)\n",
    "    new_text = ' '.join(new_text.split())\n",
    "    return new_text # строка на выход"
   ]
  },
  {
   "cell_type": "code",
   "execution_count": 5,
   "metadata": {},
   "outputs": [],
   "source": [
    "data['text'] = data['text'].apply(clear_text)"
   ]
  },
  {
   "cell_type": "markdown",
   "metadata": {},
   "source": [
    "## Леммантизация"
   ]
  },
  {
   "cell_type": "code",
   "execution_count": 6,
   "metadata": {},
   "outputs": [],
   "source": [
    "stemmer = SnowballStemmer(\"english\")\n",
    "def lemmatize(text):\n",
    "    return ' '.join([stemmer.stem(word) for word in text.split()])"
   ]
  },
  {
   "cell_type": "markdown",
   "metadata": {},
   "source": [
    "Для отображения прогресса"
   ]
  },
  {
   "cell_type": "code",
   "execution_count": 7,
   "metadata": {
    "scrolled": false
   },
   "outputs": [
    {
     "name": "stderr",
     "output_type": "stream",
     "text": [
      "C:\\Users\\stask\\anaconda3\\envs\\practicum\\lib\\site-packages\\tqdm\\std.py:703: FutureWarning: The Panel class is removed from pandas. Accessing it from the top-level namespace will also be removed in the next version\n",
      "  from pandas import Panel\n"
     ]
    },
    {
     "data": {
      "application/vnd.jupyter.widget-view+json": {
       "model_id": "ad1ab36bc92c4f7691f11c732f558ddc",
       "version_major": 2,
       "version_minor": 0
      },
      "text/plain": [
       "HBox(children=(HTML(value=''), FloatProgress(value=0.0, max=159571.0), HTML(value='')))"
      ]
     },
     "metadata": {},
     "output_type": "display_data"
    },
    {
     "name": "stdout",
     "output_type": "stream",
     "text": [
      "\n"
     ]
    }
   ],
   "source": [
    "notebook.tqdm.pandas()\n",
    "data['lemm'] = data.text.progress_apply(lemmatize)"
   ]
  },
  {
   "cell_type": "markdown",
   "metadata": {},
   "source": [
    "## Разделение данных"
   ]
  },
  {
   "cell_type": "markdown",
   "metadata": {},
   "source": [
    "При анализе нужно учитывать наличие дисбаланса классов"
   ]
  },
  {
   "cell_type": "code",
   "execution_count": 8,
   "metadata": {},
   "outputs": [
    {
     "name": "stdout",
     "output_type": "stream",
     "text": [
      "Balance: 0.10167887648758234\n"
     ]
    }
   ],
   "source": [
    "print('Balance:', data.toxic.mean())"
   ]
  },
  {
   "cell_type": "code",
   "execution_count": 9,
   "metadata": {},
   "outputs": [],
   "source": [
    "train, test = train_test_split(data, random_state=12345, test_size=0.25, stratify=data.toxic)"
   ]
  },
  {
   "cell_type": "code",
   "execution_count": 10,
   "metadata": {},
   "outputs": [
    {
     "name": "stdout",
     "output_type": "stream",
     "text": [
      "train balance: 0.10168117782716957\n",
      "test balance: 0.1016719725265084\n"
     ]
    }
   ],
   "source": [
    "print('train balance:', train.toxic.mean())\n",
    "print('test balance:', test.toxic.mean())"
   ]
  },
  {
   "cell_type": "markdown",
   "metadata": {},
   "source": [
    "## TF-IDF"
   ]
  },
  {
   "cell_type": "code",
   "execution_count": 11,
   "metadata": {},
   "outputs": [],
   "source": [
    "# выделяем корпус текстов из данных train\n",
    "corpus = train['lemm'].values"
   ]
  },
  {
   "cell_type": "code",
   "execution_count": 12,
   "metadata": {},
   "outputs": [
    {
     "name": "stderr",
     "output_type": "stream",
     "text": [
      "[nltk_data] Downloading package stopwords to\n",
      "[nltk_data]     C:\\Users\\stask\\AppData\\Roaming\\nltk_data...\n",
      "[nltk_data]   Package stopwords is already up-to-date!\n"
     ]
    }
   ],
   "source": [
    "# для преобразования TF-IDF не будем учитывать слова, не несущие смысловой нагрузки\n",
    "nltk.download('stopwords')\n",
    "stopwords = set(nltk_stopwords.words('english'))\n",
    "\n",
    "# инициализируем счетчик TF-IDF\n",
    "tf_model = TfidfVectorizer(stop_words=stopwords)\n",
    "\n",
    "# обучааем и преобразуем корпус слов на выборке train\n",
    "tf_idf_train = tf_model.fit_transform(corpus)"
   ]
  },
  {
   "cell_type": "code",
   "execution_count": 13,
   "metadata": {},
   "outputs": [],
   "source": [
    "# преобразуем корпус слов выборки test\n",
    "tf_idf_test = tf_model.transform(test['lemm'].values)"
   ]
  },
  {
   "cell_type": "markdown",
   "metadata": {},
   "source": [
    "# 2.1. Обучение после TF-IDF"
   ]
  },
  {
   "cell_type": "markdown",
   "metadata": {},
   "source": [
    "## LogisticRegression"
   ]
  },
  {
   "cell_type": "markdown",
   "metadata": {},
   "source": [
    "Подбор гиперпараметров закомментировал, т.к. обучался локально на хорошей мощности"
   ]
  },
  {
   "cell_type": "raw",
   "metadata": {},
   "source": [
    "%%time\n",
    "model = LogisticRegression(solver='saga')\n",
    "\n",
    "\n",
    "parametrs = {\n",
    "    'C': np.logspace(start = 1, stop = 2, num = 16, dtype='float')\n",
    "}\n",
    "\n",
    "\n",
    "grid = GridSearchCV(model, parametrs, scoring='f1', cv=3, verbose=1, n_jobs=-1)\n",
    "grid.fit(tf_idf_train, train.toxic.values)"
   ]
  },
  {
   "cell_type": "raw",
   "metadata": {},
   "source": [
    "print(grid.best_params_)\n",
    "print(grid.best_score_)"
   ]
  },
  {
   "cell_type": "raw",
   "metadata": {},
   "source": [
    "{'C': 13.593563908785255}\n",
    "0.7652530601623131"
   ]
  },
  {
   "cell_type": "code",
   "execution_count": 14,
   "metadata": {},
   "outputs": [
    {
     "name": "stdout",
     "output_type": "stream",
     "text": [
      "Wall time: 6.65 s\n"
     ]
    },
    {
     "data": {
      "text/plain": [
       "LogisticRegression(C=13, class_weight=None, dual=False, fit_intercept=True,\n",
       "                   intercept_scaling=1, l1_ratio=None, max_iter=100,\n",
       "                   multi_class='warn', n_jobs=None, penalty='l2',\n",
       "                   random_state=12345, solver='saga', tol=0.0001, verbose=0,\n",
       "                   warm_start=False)"
      ]
     },
     "execution_count": 14,
     "metadata": {},
     "output_type": "execute_result"
    }
   ],
   "source": [
    "%%time\n",
    "model = LogisticRegression(solver='saga', C=13, random_state=12345)\n",
    "model.fit(tf_idf_train, train.toxic.values)"
   ]
  },
  {
   "cell_type": "code",
   "execution_count": 15,
   "metadata": {},
   "outputs": [
    {
     "name": "stdout",
     "output_type": "stream",
     "text": [
      "Test f1: 0.7875\n"
     ]
    }
   ],
   "source": [
    "predicted = model.predict(tf_idf_test)\n",
    "print(\"Test f1: {:.4f}\".format(f1_score(predicted, test.toxic.values)))"
   ]
  },
  {
   "cell_type": "markdown",
   "metadata": {},
   "source": [
    "Формально, требуемое значение метрики F1 достигнуто, смотрим, что можно еще выжать"
   ]
  },
  {
   "cell_type": "markdown",
   "metadata": {},
   "source": [
    "<div style=\"background: #cceeaa; padding: 5px; border: 1px solid green; border-radius: 5px;\">\n",
    "    <font color='green'> <b><u>КОММЕНТАРИЙ РЕВЬЮЕРА</u></b>\n",
    "</font>\n",
    "<font color='green'><br>отлично!"
   ]
  },
  {
   "cell_type": "markdown",
   "metadata": {},
   "source": [
    "### Оценка F1 при изменении порога"
   ]
  },
  {
   "cell_type": "code",
   "execution_count": 16,
   "metadata": {},
   "outputs": [
    {
     "name": "stderr",
     "output_type": "stream",
     "text": [
      "C:\\Users\\stask\\anaconda3\\envs\\practicum\\lib\\site-packages\\ipykernel_launcher.py:8: DeprecationWarning: The default dtype for empty Series will be 'object' instead of 'float64' in a future version. Specify a dtype explicitly to silence this warning.\n",
      "  \n"
     ]
    }
   ],
   "source": [
    "# посмотрим, можно ли еще повысить метрику модели\n",
    "model = LogisticRegression(solver='saga', C=13, random_state=12345)\n",
    "model.fit(tf_idf_train, train.toxic.values)\n",
    "probabilities_valid = model.predict_proba(tf_idf_test)\n",
    "probabilities_one_valid = probabilities_valid[:, 1]\n",
    "\n",
    "# данные для графика\n",
    "y = pd.Series(index=np.arange(0, 1, 0.01))\n",
    "\n",
    "for threshold in y.index:\n",
    "    predicted_valid = probabilities_one_valid > threshold\n",
    "    f1 = f1_score(test.toxic.values, predicted_valid)\n",
    "    y[threshold] = f1\n",
    "    \n",
    "#     print(\"Порог = {:.2f} | F1 = {:.4f}\".format(threshold, f1))"
   ]
  },
  {
   "cell_type": "code",
   "execution_count": 17,
   "metadata": {
    "scrolled": false
   },
   "outputs": [
    {
     "data": {
      "image/png": "[encoded data removed]",
      "text/plain": [
       "<Figure size 720x360 with 1 Axes>"
      ]
     },
     "metadata": {
      "needs_background": "light"
     },
     "output_type": "display_data"
    }
   ],
   "source": [
    "# кривая F1\n",
    "y.plot(grid=True, figsize=(10,5), title='Оценка F1 при изменении порога')\n",
    "# пороговое значение 0.75 по заданию\n",
    "plt.plot(y.index, [0.75]*len(y))\n",
    "\n",
    "plt.xlabel('Порог принятия решения о принадлежности к классу')\n",
    "plt.ylabel('F1-score')\n",
    "plt.show()"
   ]
  },
  {
   "cell_type": "markdown",
   "metadata": {},
   "source": [
    "При изменении порога принятия решения возможно еще немного увеличить метрику.\n",
    "\n",
    "PS: Я знаю, что на тесте не корректно выбирать порог, поэтому график нарисован по тестовой выборке просто для наглядности"
   ]
  },
  {
   "cell_type": "markdown",
   "metadata": {},
   "source": [
    "## RandomForestClassifier"
   ]
  },
  {
   "cell_type": "markdown",
   "metadata": {},
   "source": [
    "Подбор гиперпараметров и обучение закомментировал, т.к. обучался локально на хорошей мощности"
   ]
  },
  {
   "cell_type": "raw",
   "metadata": {},
   "source": [
    "%%time\n",
    "model = RandomForestClassifier(random_state=12345, class_weight='balanced')\n",
    "\n",
    "\n",
    "parametrs = {\n",
    "    'max_depth': np.linspace(start = 200, stop = 500, num = 5, dtype='int'), # максимальная глубина дерева\n",
    "}\n",
    "\n",
    "\n",
    "grid = GridSearchCV(model, parametrs, scoring='f1', cv=3, verbose=1, n_jobs=-1)\n",
    "grid.fit(tf_idf_train, train.toxic.values)"
   ]
  },
  {
   "cell_type": "raw",
   "metadata": {},
   "source": [
    "print(grid.best_params_)\n",
    "print(grid.best_score_)"
   ]
  },
  {
   "cell_type": "raw",
   "metadata": {},
   "source": [
    "{'max_depth': 425}\n",
    "0.5968453097423964"
   ]
  },
  {
   "cell_type": "raw",
   "metadata": {},
   "source": [
    "%%time\n",
    "model = RandomForestClassifier(\n",
    "    n_estimators=425,\n",
    "    random_state=12345,\n",
    "    class_weight='balanced',\n",
    "    n_jobs=-1,\n",
    ")\n",
    "model.fit(tf_idf_train, train.toxic.values)"
   ]
  },
  {
   "cell_type": "raw",
   "metadata": {},
   "source": [
    "Wall time: 6min 3s\n",
    "RandomForestClassifier(bootstrap=True, class_weight='balanced',\n",
    "                       criterion='gini', max_depth=None, max_features='auto',\n",
    "                       max_leaf_nodes=None, min_impurity_decrease=0.0,\n",
    "                       min_impurity_split=None, min_samples_leaf=1,\n",
    "                       min_samples_split=2, min_weight_fraction_leaf=0.0,\n",
    "                       n_estimators=425, n_jobs=-1, oob_score=False,\n",
    "                       random_state=12345, verbose=0, warm_start=False)"
   ]
  },
  {
   "cell_type": "raw",
   "metadata": {},
   "source": [
    "predicted = model.predict(tf_idf_test)\n",
    "f1_score(predicted, test.toxic.values)"
   ]
  },
  {
   "cell_type": "raw",
   "metadata": {},
   "source": [
    "0.6427756963674865"
   ]
  },
  {
   "cell_type": "markdown",
   "metadata": {},
   "source": [
    "Случайный лес гораздо сложнее настроить, так как обучение происходит значительно медленнее. При этом значение метрики не дотягивает до порогового значения."
   ]
  },
  {
   "cell_type": "markdown",
   "metadata": {},
   "source": [
    "## LGBMClassifier"
   ]
  },
  {
   "cell_type": "markdown",
   "metadata": {},
   "source": [
    "Подбор гиперпараметров закомментировал"
   ]
  },
  {
   "cell_type": "raw",
   "metadata": {},
   "source": [
    "%%time\n",
    "model = lgb.LGBMClassifier(class_weight='balanced')\n",
    "\n",
    "parametrs = {\n",
    "    'n_estimators':np.linspace(start = 100, stop = 500, num = 2, dtype='int'),\n",
    "    'num_iterations':np.linspace(start = 1000, stop = 1500, num = 2, dtype='int'),\n",
    "    'max_depth': [None] + list(np.linspace(start = 8, stop = 12, num = 3, dtype='int')),\n",
    "}\n",
    "\n",
    "\n",
    "grid = GridSearchCV(model, parametrs, scoring='f1', cv=3, verbose=1, n_jobs=-1)\n",
    "grid.fit(tf_idf_train, train.toxic.values)"
   ]
  },
  {
   "cell_type": "raw",
   "metadata": {},
   "source": [
    "print(grid.best_params_)\n",
    "print(grid.best_score_)"
   ]
  },
  {
   "cell_type": "markdown",
   "metadata": {},
   "source": [
    "Модель с дефолтными параметрами дает результат лучше, чем при попытке подбора других гиперпараметров. Поэтому просто добавим количество деревьев (немного улучшает score)"
   ]
  },
  {
   "cell_type": "raw",
   "metadata": {},
   "source": [
    "Закомментировал, т.к. не дождался выполнения на сервере практикума. Результат скопировал с локальной машины"
   ]
  },
  {
   "cell_type": "raw",
   "metadata": {},
   "source": [
    "%%time\n",
    "model = lgb.LGBMClassifier(n_estimators=500)\n",
    "\n",
    "model.fit(tf_idf_train, train.toxic.values)\n",
    "predicted = model.predict(tf_idf_test)\n",
    "print(\"Test f1: {:.4f}\".format(f1_score(predicted, test.toxic.values)))"
   ]
  },
  {
   "cell_type": "raw",
   "metadata": {},
   "source": [
    "Test f1: 0.7854\n",
    "Wall time: 39.2 s"
   ]
  },
  {
   "cell_type": "markdown",
   "metadata": {},
   "source": [
    "Значение метрики модели практически совпадает с логистической регрессией, но скорость вычислений гораздо больше."
   ]
  },
  {
   "cell_type": "markdown",
   "metadata": {},
   "source": [
    "# 2.2. Обучение с BERT\n",
    "PS: Вычисления ниже, моя попытка разобраться как работать с BERT. Код заключен в RAW ячейки, т.к. многие вычисления могут быть долгими"
   ]
  },
  {
   "cell_type": "markdown",
   "metadata": {},
   "source": [
    "## BERT: 1 вариант работы\n",
    "Обучимся на несбалансированных данных"
   ]
  },
  {
   "cell_type": "raw",
   "metadata": {},
   "source": [
    "# инициализируем преобразователь для текста и саму модель класса BertModel\n",
    "tokenizer = transformers.BertTokenizer.from_pretrained('bert-base-uncased')\n",
    "model = transformers.BertModel.from_pretrained('bert-base-uncased')"
   ]
  },
  {
   "cell_type": "raw",
   "metadata": {},
   "source": [
    "# возьмем данные для обучения с дисбалансом классов\n",
    "bert_data = data[['text','toxic']].sample(5000)\n",
    "\n",
    "# выделим токены из текстов ограниченной длины (768)\n",
    "# так как при большей длине увеличивается число токенов\n",
    "# которое ограничено 512\n",
    "tokenized = bert_data['text'].apply(lambda x: tokenizer.encode(x[:768], add_special_tokens=True))\n",
    "\n",
    "# вычисляем максимальное кол-во токенов в предложении\n",
    "max_len = max(map(len, tokenized)) \n",
    "\n",
    "# добавляем \"0\" для строк, у которых длина меньше максимальной\n",
    "padded = np.array([i + [0]*(max_len - len(i)) for i in tokenized.values]) \n",
    "\n",
    "# создаем маску, чтобы выделить значимые токены\n",
    "attention_mask = np.where(padded != 0, 1, 0) "
   ]
  },
  {
   "cell_type": "markdown",
   "metadata": {},
   "source": [
    "!!! код ниже выполняется 40 минут"
   ]
  },
  {
   "cell_type": "raw",
   "metadata": {},
   "source": [
    "# размер батча, чем больше, тем больше потребление RAM\n",
    "batch_size = 500 \n",
    "embeddings = []\n",
    "for i in notebook.tqdm(range(padded.shape[0] // batch_size)):\n",
    "        batch = torch.LongTensor(padded[batch_size*i:batch_size*(i+1)]) \n",
    "        attention_mask_batch = torch.LongTensor(attention_mask[batch_size*i:batch_size*(i+1)])\n",
    "        \n",
    "        with torch.no_grad():\n",
    "            batch_embeddings = model(batch, attention_mask=attention_mask_batch)\n",
    "        \n",
    "        embeddings.append(batch_embeddings[0][:,0,:])"
   ]
  },
  {
   "cell_type": "raw",
   "metadata": {},
   "source": [
    "# полученные эмбеддинги будут нашими признаками для обучения модели\n",
    "features = np.concatenate(embeddings) \n",
    "target = bert_data['toxic']"
   ]
  },
  {
   "cell_type": "raw",
   "metadata": {},
   "source": [
    "# разбиваем на обучающую и тестовую выборки\n",
    "features_train, features_test, target_train, target_test = train_test_split(features, target, test_size=0.2, random_state=123)"
   ]
  },
  {
   "cell_type": "raw",
   "metadata": {},
   "source": [
    "#обучим модель логистической регрессии на эмбеддингах\n",
    "model = LogisticRegression(solver='saga', random_state=12345)\n",
    "model.fit(features_train, target_train)\n",
    "\n",
    "pred_train = model.predict(features_train)\n",
    "pred_test = model.predict(features_test)\n",
    "\n",
    "print('Train f1: {:.4f}'.format(f1_score(target_train, pred_train)))\n",
    "print('Test f1: {:.4f}'.format(f1_score(pred_test, target_test)))"
   ]
  },
  {
   "cell_type": "raw",
   "metadata": {},
   "source": [
    "Train f1: 0.8676\n",
    "Test f1: 0.6632"
   ]
  },
  {
   "cell_type": "markdown",
   "metadata": {},
   "source": [
    "При обучении на несбалансированной получаем весьма скромные результаты. Пробуем сбалансировать"
   ]
  },
  {
   "cell_type": "markdown",
   "metadata": {},
   "source": [
    "## BERT: 2 вариант работы\n",
    "Пробуем обучить модель на сбалансированных данных, проверить результат на реальных (несбалансированных)"
   ]
  },
  {
   "cell_type": "raw",
   "metadata": {},
   "source": [
    "# инициализируем преобразователь для текста и саму модель класса BertModel\n",
    "tokenizer = transformers.BertTokenizer.from_pretrained('bert-base-uncased')\n",
    "model = transformers.BertModel.from_pretrained('bert-base-uncased')"
   ]
  },
  {
   "cell_type": "markdown",
   "metadata": {},
   "source": [
    "### train\n",
    "Сбалансированные данные для обучения"
   ]
  },
  {
   "cell_type": "raw",
   "metadata": {},
   "source": [
    "#берём только часть данных, а также сбалансируем классы для модели\n",
    "df_ones = data[data['toxic'] == 1][['text','toxic']].sample(2000, random_state=123)\n",
    "df_zeros = data[data['toxic'] == 0][['text','toxic']].sample(2000, random_state=123)\n",
    "bert_data = shuffle(pd.concat([df_ones] + [df_zeros]))"
   ]
  },
  {
   "cell_type": "raw",
   "metadata": {},
   "source": [
    "# выделим токены из текстов ограниченной длины (768)\n",
    "# так как при большей длине увеличивается число токенов\n",
    "# которое ограничено 512\n",
    "tokenized = bert_data['text'].apply(lambda x: tokenizer.encode(x[:768], add_special_tokens=True))\n",
    "\n",
    "# вычисляем максимальное кол-во токенов в предложении\n",
    "max_len = max(map(len, tokenized)) \n",
    "\n",
    "# добавляем \"0\" для строк, у которых длина меньше максимальной\n",
    "padded = np.array([i + [0]*(max_len - len(i)) for i in tokenized.values]) \n",
    "\n",
    "# создаем маску, чтобы выделить значимые токены\n",
    "attention_mask = np.where(padded != 0, 1, 0) "
   ]
  },
  {
   "cell_type": "markdown",
   "metadata": {},
   "source": [
    "!!! код ниже выполняется 40 минут"
   ]
  },
  {
   "cell_type": "raw",
   "metadata": {},
   "source": [
    "# размер батча, чем больше, тем больше потребление RAM\n",
    "batch_size = 500 \n",
    "embeddings = []\n",
    "for i in notebook.tqdm(range(padded.shape[0] // batch_size)):\n",
    "        batch = torch.LongTensor(padded[batch_size*i:batch_size*(i+1)]) \n",
    "        attention_mask_batch = torch.LongTensor(attention_mask[batch_size*i:batch_size*(i+1)])\n",
    "        \n",
    "        with torch.no_grad():\n",
    "            batch_embeddings = model(batch, attention_mask=attention_mask_batch)\n",
    "        \n",
    "        embeddings.append(batch_embeddings[0][:,0,:])"
   ]
  },
  {
   "cell_type": "raw",
   "metadata": {},
   "source": [
    "# полученные эмбеддинги будут нашими признаками для обучения модели\n",
    "features = np.concatenate(embeddings) \n",
    "target = bert_data['toxic']"
   ]
  },
  {
   "cell_type": "markdown",
   "metadata": {},
   "source": [
    "### test\n",
    "Несбалансированные данные для теста"
   ]
  },
  {
   "cell_type": "raw",
   "metadata": {},
   "source": [
    "bert_data = data[['text','toxic']].sample(1000)"
   ]
  },
  {
   "cell_type": "raw",
   "metadata": {},
   "source": [
    "# выделим токены из текстов ограниченной длины (768)\n",
    "# так как при большей длине увеличивается число токенов\n",
    "# которое ограничено 512\n",
    "tokenized = bert_data['text'].apply(lambda x: tokenizer.encode(x[:768], add_special_tokens=True))\n",
    "\n",
    "# вычисляем максимальное кол-во токенов в предложении\n",
    "max_len = max(map(len, tokenized)) \n",
    "\n",
    "# добавляем \"0\" для строк, у которых длина меньше максимальной\n",
    "padded = np.array([i + [0]*(max_len - len(i)) for i in tokenized.values]) \n",
    "\n",
    "# создаем маску, чтобы выделить значимые токены\n",
    "attention_mask = np.where(padded != 0, 1, 0) "
   ]
  },
  {
   "cell_type": "markdown",
   "metadata": {},
   "source": [
    "!!! код ниже выполняется 5 минут"
   ]
  },
  {
   "cell_type": "raw",
   "metadata": {},
   "source": [
    "# размер батча, чем больше, тем больше потребление RAM\n",
    "batch_size = 500 \n",
    "embeddings = []\n",
    "for i in notebook.tqdm(range(padded.shape[0] // batch_size)):\n",
    "        batch = torch.LongTensor(padded[batch_size*i:batch_size*(i+1)]) \n",
    "        attention_mask_batch = torch.LongTensor(attention_mask[batch_size*i:batch_size*(i+1)])\n",
    "        \n",
    "        with torch.no_grad():\n",
    "            batch_embeddings = model(batch, attention_mask=attention_mask_batch)\n",
    "        \n",
    "        embeddings.append(batch_embeddings[0][:,0,:])"
   ]
  },
  {
   "cell_type": "raw",
   "metadata": {},
   "source": [
    "features_test = np.concatenate(embeddings) #полученные эмбеддинги будут нашими признаками для обучения модели\n",
    "target_test = bert_data['toxic']"
   ]
  },
  {
   "cell_type": "markdown",
   "metadata": {},
   "source": [
    "### Модель"
   ]
  },
  {
   "cell_type": "raw",
   "metadata": {},
   "source": [
    "#обучим модель логистической регрессии на эмбеддингах\n",
    "model = LogisticRegression(solver='saga', random_state=123, C=10)\n",
    "model.fit(features_train, target_train)\n",
    "\n",
    "pred_train = model.predict(features_train)\n",
    "pred_test = model.predict(features_test)\n",
    "\n",
    "print('Train f1: {:.4f}'.format(f1_score(target_train, pred_train)))\n",
    "print('Test f1: {:.4f}'.format(f1_score(pred_test, target_test)))"
   ]
  },
  {
   "cell_type": "raw",
   "metadata": {},
   "source": [
    "Train f1: 0.8824\n",
    "Test f1: 0.6250"
   ]
  },
  {
   "cell_type": "markdown",
   "metadata": {},
   "source": [
    "Результат даже хуже, чем в первом варианте"
   ]
  },
  {
   "cell_type": "markdown",
   "metadata": {},
   "source": [
    "# 3. Выводы\n",
    "\n",
    "Лучшее значение F1 метрики показала **линейная регрессия** после преобразования **TF-IDF**: **0.7875**\n",
    "\n",
    "Близко к этому значения подбирается LightGBM, но проигрывает по скорости.\n",
    "\n",
    "Интернет-магазин «Викишоп» в качестве инстумента для определения токсичных комментариев может использовать следующий алгоритм:\n",
    "- [Очистка текстов от лишних символов](#Очистка-текста)\n",
    "- [Леммантизация слов](#Леммантизация)\n",
    "- [Рассчет TF-IDF для слов](#TF-IDF)\n",
    "- [Модель LogisticRegression](#LogisticRegression)"
   ]
  }
 ],
 "metadata": {
  "kernelspec": {
   "display_name": "Python 3",
   "language": "python",
   "name": "python3"
  },
  "language_info": {
   "codemirror_mode": {
    "name": "ipython",
    "version": 3
   },
   "file_extension": ".py",
   "mimetype": "text/x-python",
   "name": "python",
   "nbconvert_exporter": "python",
   "pygments_lexer": "ipython3",
   "version": "3.8.5"
  },
  "toc": {
   "base_numbering": 1,
   "nav_menu": {},
   "number_sections": true,
   "sideBar": true,
   "skip_h1_title": true,
   "title_cell": "Table of Contents",
   "title_sidebar": "Contents",
   "toc_cell": false,
   "toc_position": {},
   "toc_section_display": true,
   "toc_window_display": false
  }
 },
 "nbformat": 4,
 "nbformat_minor": 2
}

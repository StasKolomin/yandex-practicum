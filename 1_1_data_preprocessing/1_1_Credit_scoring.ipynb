{
 "cells": [
  {
   "cell_type": "markdown",
   "metadata": {},
   "source": [
    "## Исследование надёжности заёмщиков\n",
    "\n",
    "Заказчик — кредитный отдел банка. Нужно разобраться, влияет ли семейное положение и количество детей клиента на факт погашения кредита в срок. Входные данные от банка — статистика о платёжеспособности клиентов.\n",
    "\n",
    "Результаты исследования будут учтены при построении модели **кредитного скоринга** — специальной системы, которая оценивает способность потенциального заёмщика вернуть кредит банку."
   ]
  },
  {
   "cell_type": "markdown",
   "metadata": {},
   "source": [
    "### Шаг 1. Откройте файл с данными и изучите общую информацию. "
   ]
  },
  {
   "cell_type": "code",
   "execution_count": 1,
   "metadata": {
    "scrolled": true
   },
   "outputs": [
    {
     "name": "stdout",
     "output_type": "stream",
     "text": [
      "<class 'pandas.core.frame.DataFrame'>\n",
      "RangeIndex: 21525 entries, 0 to 21524\n",
      "Data columns (total 12 columns):\n",
      "children            21525 non-null int64\n",
      "days_employed       19351 non-null float64\n",
      "dob_years           21525 non-null int64\n",
      "education           21525 non-null object\n",
      "education_id        21525 non-null int64\n",
      "family_status       21525 non-null object\n",
      "family_status_id    21525 non-null int64\n",
      "gender              21525 non-null object\n",
      "income_type         21525 non-null object\n",
      "debt                21525 non-null int64\n",
      "total_income        19351 non-null float64\n",
      "purpose             21525 non-null object\n",
      "dtypes: float64(2), int64(5), object(5)\n",
      "memory usage: 2.0+ MB\n"
     ]
    },
    {
     "data": {
      "text/html": [
       "<div>\n",
       "<style scoped>\n",
       "    .dataframe tbody tr th:only-of-type {\n",
       "        vertical-align: middle;\n",
       "    }\n",
       "\n",
       "    .dataframe tbody tr th {\n",
       "        vertical-align: top;\n",
       "    }\n",
       "\n",
       "    .dataframe thead th {\n",
       "        text-align: right;\n",
       "    }\n",
       "</style>\n",
       "<table border=\"1\" class=\"dataframe\">\n",
       "  <thead>\n",
       "    <tr style=\"text-align: right;\">\n",
       "      <th></th>\n",
       "      <th>children</th>\n",
       "      <th>days_employed</th>\n",
       "      <th>dob_years</th>\n",
       "      <th>education</th>\n",
       "      <th>education_id</th>\n",
       "      <th>family_status</th>\n",
       "      <th>family_status_id</th>\n",
       "      <th>gender</th>\n",
       "      <th>income_type</th>\n",
       "      <th>debt</th>\n",
       "      <th>total_income</th>\n",
       "      <th>purpose</th>\n",
       "    </tr>\n",
       "  </thead>\n",
       "  <tbody>\n",
       "    <tr>\n",
       "      <td>0</td>\n",
       "      <td>1</td>\n",
       "      <td>-8437.673028</td>\n",
       "      <td>42</td>\n",
       "      <td>высшее</td>\n",
       "      <td>0</td>\n",
       "      <td>женат / замужем</td>\n",
       "      <td>0</td>\n",
       "      <td>F</td>\n",
       "      <td>сотрудник</td>\n",
       "      <td>0</td>\n",
       "      <td>253875.639453</td>\n",
       "      <td>покупка жилья</td>\n",
       "    </tr>\n",
       "    <tr>\n",
       "      <td>1</td>\n",
       "      <td>1</td>\n",
       "      <td>-4024.803754</td>\n",
       "      <td>36</td>\n",
       "      <td>среднее</td>\n",
       "      <td>1</td>\n",
       "      <td>женат / замужем</td>\n",
       "      <td>0</td>\n",
       "      <td>F</td>\n",
       "      <td>сотрудник</td>\n",
       "      <td>0</td>\n",
       "      <td>112080.014102</td>\n",
       "      <td>приобретение автомобиля</td>\n",
       "    </tr>\n",
       "    <tr>\n",
       "      <td>2</td>\n",
       "      <td>0</td>\n",
       "      <td>-5623.422610</td>\n",
       "      <td>33</td>\n",
       "      <td>Среднее</td>\n",
       "      <td>1</td>\n",
       "      <td>женат / замужем</td>\n",
       "      <td>0</td>\n",
       "      <td>M</td>\n",
       "      <td>сотрудник</td>\n",
       "      <td>0</td>\n",
       "      <td>145885.952297</td>\n",
       "      <td>покупка жилья</td>\n",
       "    </tr>\n",
       "    <tr>\n",
       "      <td>3</td>\n",
       "      <td>3</td>\n",
       "      <td>-4124.747207</td>\n",
       "      <td>32</td>\n",
       "      <td>среднее</td>\n",
       "      <td>1</td>\n",
       "      <td>женат / замужем</td>\n",
       "      <td>0</td>\n",
       "      <td>M</td>\n",
       "      <td>сотрудник</td>\n",
       "      <td>0</td>\n",
       "      <td>267628.550329</td>\n",
       "      <td>дополнительное образование</td>\n",
       "    </tr>\n",
       "    <tr>\n",
       "      <td>4</td>\n",
       "      <td>0</td>\n",
       "      <td>340266.072047</td>\n",
       "      <td>53</td>\n",
       "      <td>среднее</td>\n",
       "      <td>1</td>\n",
       "      <td>гражданский брак</td>\n",
       "      <td>1</td>\n",
       "      <td>F</td>\n",
       "      <td>пенсионер</td>\n",
       "      <td>0</td>\n",
       "      <td>158616.077870</td>\n",
       "      <td>сыграть свадьбу</td>\n",
       "    </tr>\n",
       "  </tbody>\n",
       "</table>\n",
       "</div>"
      ],
      "text/plain": [
       "   children  days_employed  dob_years education  education_id  \\\n",
       "0         1   -8437.673028         42    высшее             0   \n",
       "1         1   -4024.803754         36   среднее             1   \n",
       "2         0   -5623.422610         33   Среднее             1   \n",
       "3         3   -4124.747207         32   среднее             1   \n",
       "4         0  340266.072047         53   среднее             1   \n",
       "\n",
       "      family_status  family_status_id gender income_type  debt   total_income  \\\n",
       "0   женат / замужем                 0      F   сотрудник     0  253875.639453   \n",
       "1   женат / замужем                 0      F   сотрудник     0  112080.014102   \n",
       "2   женат / замужем                 0      M   сотрудник     0  145885.952297   \n",
       "3   женат / замужем                 0      M   сотрудник     0  267628.550329   \n",
       "4  гражданский брак                 1      F   пенсионер     0  158616.077870   \n",
       "\n",
       "                      purpose  \n",
       "0               покупка жилья  \n",
       "1     приобретение автомобиля  \n",
       "2               покупка жилья  \n",
       "3  дополнительное образование  \n",
       "4             сыграть свадьбу  "
      ]
     },
     "execution_count": 1,
     "metadata": {},
     "output_type": "execute_result"
    }
   ],
   "source": [
    "import pandas as pd\n",
    "\n",
    "data = pd.read_csv('/datasets/data.csv')\n",
    "data.info()\n",
    "data.head()"
   ]
  },
  {
   "cell_type": "markdown",
   "metadata": {},
   "source": [
    "### Вывод"
   ]
  },
  {
   "cell_type": "markdown",
   "metadata": {},
   "source": [
    "Всего 21525 записей. Имеются пропуски в данных и некорректные значения.\n",
    "\n",
    "| Признак | Тип | Описание |\n",
    "|:-|:-|:-|\n",
    "| children |int64 | категориальное значение (дети), должно быть >= 0 |\n",
    "| days_employed |float64 | количественное значение (стаж в днях), должно быть >= 0, имеются пропуски |\n",
    "| dob_years |int64 | категориальное значение (возраст в годах), должно быть >= 18, можно делить по возрастным группам |\n",
    "| education |object | категориальное значение (образование), связано с 'education_id' |\n",
    "| education_id |int64 | категориальное значение (образование), связано с 'education' |\n",
    "| family_status |object | категориальное значение (семейное положение), связано с 'family_status_id' |\n",
    "| family_status_id | nt64 | категориальное значение (семейное положение), связано с 'family_status' |\n",
    "| gender |object | категориальное значение (пол), должно быть 'M' или 'F' |\n",
    "| income_type |object | категориальное значение (занятость), вероятно, будет правильно присвоить ID |\n",
    "| debt |int64 | категориальное значение (имел ли задолженность), должно быть 0 или 1 |\n",
    "| total_income |float64 | количественное значение (заработок), должно быть >= 0, имеются пропуски |\n",
    "| purpose |object | категориальное значение (уель кредита), вероятно, будет правильно присвоить ID |\n"
   ]
  },
  {
   "cell_type": "markdown",
   "metadata": {},
   "source": [
    "### Шаг 2. Предобработка данных"
   ]
  },
  {
   "cell_type": "markdown",
   "metadata": {},
   "source": [
    "### Обработка пропусков"
   ]
  },
  {
   "cell_type": "code",
   "execution_count": 2,
   "metadata": {},
   "outputs": [
    {
     "name": "stdout",
     "output_type": "stream",
     "text": [
      "children               0\n",
      "days_employed       2174\n",
      "dob_years              0\n",
      "education              0\n",
      "education_id           0\n",
      "family_status          0\n",
      "family_status_id       0\n",
      "gender                 0\n",
      "income_type            0\n",
      "debt                   0\n",
      "total_income        2174\n",
      "purpose                0\n",
      "dtype: int64\n",
      "\n",
      "Значения столбца 'children':\n",
      " 0     14149\n",
      " 1      4818\n",
      " 2      2055\n",
      " 3       330\n",
      " 20       76\n",
      "-1        47\n",
      " 4        41\n",
      " 5         9\n",
      "Name: children, dtype: int64\n"
     ]
    }
   ],
   "source": [
    "# создаем копию данных, с которыми будем работать\n",
    "scoring = data.copy(deep=True)\n",
    "# данные в колонках ['days_employed','dob_years', 'education', 'education_id', 'gender', 'income_type', 'debt']\n",
    "# не связаны с поставленной задачей, поэтому\n",
    "# значимые пропуски остались только в колонке 'total_income'\n",
    "print(scoring.isna().sum())\n",
    "\n",
    "# заполняем пропуски в З/П медианой\n",
    "scoring['total_income'] = scoring['total_income'].fillna(data['total_income'].median())\n",
    "\n",
    "# в колонке 'children' имеются ошибочные значения -1 и 20\n",
    "print('\\nЗначения столбца \\'children\\':', scoring['children'].value_counts(), sep='\\n')\n",
    "# заменяем на наиболее вероятные\n",
    "scoring['children'] = scoring['children'].replace(-1, 1)\n",
    "scoring['children'] = scoring['children'].replace(20, 2)"
   ]
  },
  {
   "cell_type": "markdown",
   "metadata": {},
   "source": [
    "### Вывод"
   ]
  },
  {
   "cell_type": "markdown",
   "metadata": {},
   "source": [
    "Вероятнее всего клиенты банка не указывали уровень доходов, поэтому ~10% пропусков по З/П. Их правильнее заполнять медианой, а не средним значением, т.к. медиана лучше характеризует \"среднестатистического\" человека. Не значимые для поставленных вопросов данные в дальнейшем можно будет отбросить.\n",
    "Так же считаю правильным заменить значения \"-1\" и \"20\" на \"1\" и \"2\" соответственно, т.к. скорее всего это опечатки. Сильных отклонений в статистике это не вызовет, т.к. таких значений ~0.5%"
   ]
  },
  {
   "cell_type": "markdown",
   "metadata": {},
   "source": [
    "### Замена типа данных"
   ]
  },
  {
   "cell_type": "code",
   "execution_count": 3,
   "metadata": {},
   "outputs": [],
   "source": [
    "# можно преобразовать данные в столце 'total_income' в int\n",
    "scoring['total_income'] = scoring['total_income'].astype(int)\n",
    "scoring.info()"
   ]
  },
  {
   "cell_type": "markdown",
   "metadata": {},
   "source": [
    "### Вывод"
   ]
  },
  {
   "cell_type": "markdown",
   "metadata": {},
   "source": [
    "Точность в З/П в несколько знаков после запятой излишняя. Вполне достаточно целого числа."
   ]
  },
  {
   "cell_type": "markdown",
   "metadata": {},
   "source": [
    "### Обработка дубликатов"
   ]
  },
  {
   "cell_type": "code",
   "execution_count": 4,
   "metadata": {},
   "outputs": [
    {
     "name": "stdout",
     "output_type": "stream",
     "text": [
      "Количество дублей до смены регистра: 54\n",
      "Количество дублей после смены регистра: 71\n"
     ]
    }
   ],
   "source": [
    "# перед удалением лучше все строки привести к нижнему регистру\n",
    "print('Количество дублей до смены регистра:', scoring.duplicated().sum())\n",
    "\n",
    "# список названий столбцов со строковыми значениями\n",
    "names_str_columns = list(scoring.select_dtypes(include=['object']).columns)\n",
    "\n",
    "# приведение к нижнему регистру\n",
    "for name in names_str_columns:\n",
    "    scoring[name] = scoring[name].str.lower()\n",
    "print('Количество дублей после смены регистра:', scoring.duplicated().sum())\n",
    "\n",
    "# удаляем повторы\n",
    "scoring = scoring.drop_duplicates().reset_index(drop=True)\n",
    "print('Количество дублей после удаления:', scoring.duplicated().sum())\n",
    "\n",
    "# теперь можно оставить только необходимые колонки\n",
    "scoring = scoring.drop(['days_employed','dob_years', 'education', 'education_id', 'gender', 'income_type'], axis='columns')"
   ]
  },
  {
   "cell_type": "markdown",
   "metadata": {},
   "source": [
    "### Вывод"
   ]
  },
  {
   "cell_type": "markdown",
   "metadata": {},
   "source": [
    "Вероятнее всего повторы возникли из-за повторных отправок форм через сайт или из-за ошибки человека при заполнении. Избавляемся от таких методом drop_duplicates() и сбрасываем индексы, не сохраняя старых методом .reset_index(drop=True). На этом этапе считаю, что можно удалить лишние колонки."
   ]
  },
  {
   "cell_type": "markdown",
   "metadata": {},
   "source": [
    "### Лемматизация"
   ]
  },
  {
   "cell_type": "code",
   "execution_count": 5,
   "metadata": {},
   "outputs": [
    {
     "data": {
      "text/html": [
       "<div>\n",
       "<style scoped>\n",
       "    .dataframe tbody tr th:only-of-type {\n",
       "        vertical-align: middle;\n",
       "    }\n",
       "\n",
       "    .dataframe tbody tr th {\n",
       "        vertical-align: top;\n",
       "    }\n",
       "\n",
       "    .dataframe thead th {\n",
       "        text-align: right;\n",
       "    }\n",
       "</style>\n",
       "<table border=\"1\" class=\"dataframe\">\n",
       "  <thead>\n",
       "    <tr style=\"text-align: right;\">\n",
       "      <th></th>\n",
       "      <th>children</th>\n",
       "      <th>family_status</th>\n",
       "      <th>family_status_id</th>\n",
       "      <th>debt</th>\n",
       "      <th>total_income</th>\n",
       "      <th>purpose</th>\n",
       "      <th>lemmas</th>\n",
       "    </tr>\n",
       "  </thead>\n",
       "  <tbody>\n",
       "    <tr>\n",
       "      <td>0</td>\n",
       "      <td>1</td>\n",
       "      <td>женат / замужем</td>\n",
       "      <td>0</td>\n",
       "      <td>0</td>\n",
       "      <td>253875</td>\n",
       "      <td>покупка жилья</td>\n",
       "      <td>[покупка,  , жилье, \\n]</td>\n",
       "    </tr>\n",
       "    <tr>\n",
       "      <td>1</td>\n",
       "      <td>1</td>\n",
       "      <td>женат / замужем</td>\n",
       "      <td>0</td>\n",
       "      <td>0</td>\n",
       "      <td>112080</td>\n",
       "      <td>приобретение автомобиля</td>\n",
       "      <td>[приобретение,  , автомобиль, \\n]</td>\n",
       "    </tr>\n",
       "    <tr>\n",
       "      <td>2</td>\n",
       "      <td>0</td>\n",
       "      <td>женат / замужем</td>\n",
       "      <td>0</td>\n",
       "      <td>0</td>\n",
       "      <td>145885</td>\n",
       "      <td>покупка жилья</td>\n",
       "      <td>[покупка,  , жилье, \\n]</td>\n",
       "    </tr>\n",
       "    <tr>\n",
       "      <td>3</td>\n",
       "      <td>3</td>\n",
       "      <td>женат / замужем</td>\n",
       "      <td>0</td>\n",
       "      <td>0</td>\n",
       "      <td>267628</td>\n",
       "      <td>дополнительное образование</td>\n",
       "      <td>[дополнительный,  , образование, \\n]</td>\n",
       "    </tr>\n",
       "    <tr>\n",
       "      <td>4</td>\n",
       "      <td>0</td>\n",
       "      <td>гражданский брак</td>\n",
       "      <td>1</td>\n",
       "      <td>0</td>\n",
       "      <td>158616</td>\n",
       "      <td>сыграть свадьбу</td>\n",
       "      <td>[сыграть,  , свадьба, \\n]</td>\n",
       "    </tr>\n",
       "    <tr>\n",
       "      <td>...</td>\n",
       "      <td>...</td>\n",
       "      <td>...</td>\n",
       "      <td>...</td>\n",
       "      <td>...</td>\n",
       "      <td>...</td>\n",
       "      <td>...</td>\n",
       "      <td>...</td>\n",
       "    </tr>\n",
       "    <tr>\n",
       "      <td>21449</td>\n",
       "      <td>1</td>\n",
       "      <td>гражданский брак</td>\n",
       "      <td>1</td>\n",
       "      <td>0</td>\n",
       "      <td>224791</td>\n",
       "      <td>операции с жильем</td>\n",
       "      <td>[операция,  , с,  , жилье, \\n]</td>\n",
       "    </tr>\n",
       "    <tr>\n",
       "      <td>21450</td>\n",
       "      <td>0</td>\n",
       "      <td>женат / замужем</td>\n",
       "      <td>0</td>\n",
       "      <td>0</td>\n",
       "      <td>155999</td>\n",
       "      <td>сделка с автомобилем</td>\n",
       "      <td>[сделка,  , с,  , автомобиль, \\n]</td>\n",
       "    </tr>\n",
       "    <tr>\n",
       "      <td>21451</td>\n",
       "      <td>1</td>\n",
       "      <td>гражданский брак</td>\n",
       "      <td>1</td>\n",
       "      <td>1</td>\n",
       "      <td>89672</td>\n",
       "      <td>недвижимость</td>\n",
       "      <td>[недвижимость, \\n]</td>\n",
       "    </tr>\n",
       "    <tr>\n",
       "      <td>21452</td>\n",
       "      <td>3</td>\n",
       "      <td>женат / замужем</td>\n",
       "      <td>0</td>\n",
       "      <td>1</td>\n",
       "      <td>244093</td>\n",
       "      <td>на покупку своего автомобиля</td>\n",
       "      <td>[на,  , покупка,  , свой,  , автомобиль, \\n]</td>\n",
       "    </tr>\n",
       "    <tr>\n",
       "      <td>21453</td>\n",
       "      <td>2</td>\n",
       "      <td>женат / замужем</td>\n",
       "      <td>0</td>\n",
       "      <td>0</td>\n",
       "      <td>82047</td>\n",
       "      <td>на покупку автомобиля</td>\n",
       "      <td>[на,  , покупка,  , автомобиль, \\n]</td>\n",
       "    </tr>\n",
       "  </tbody>\n",
       "</table>\n",
       "<p>21454 rows × 7 columns</p>\n",
       "</div>"
      ],
      "text/plain": [
       "       children     family_status  family_status_id  debt  total_income  \\\n",
       "0             1   женат / замужем                 0     0        253875   \n",
       "1             1   женат / замужем                 0     0        112080   \n",
       "2             0   женат / замужем                 0     0        145885   \n",
       "3             3   женат / замужем                 0     0        267628   \n",
       "4             0  гражданский брак                 1     0        158616   \n",
       "...         ...               ...               ...   ...           ...   \n",
       "21449         1  гражданский брак                 1     0        224791   \n",
       "21450         0   женат / замужем                 0     0        155999   \n",
       "21451         1  гражданский брак                 1     1         89672   \n",
       "21452         3   женат / замужем                 0     1        244093   \n",
       "21453         2   женат / замужем                 0     0         82047   \n",
       "\n",
       "                            purpose  \\\n",
       "0                     покупка жилья   \n",
       "1           приобретение автомобиля   \n",
       "2                     покупка жилья   \n",
       "3        дополнительное образование   \n",
       "4                   сыграть свадьбу   \n",
       "...                             ...   \n",
       "21449             операции с жильем   \n",
       "21450          сделка с автомобилем   \n",
       "21451                  недвижимость   \n",
       "21452  на покупку своего автомобиля   \n",
       "21453         на покупку автомобиля   \n",
       "\n",
       "                                             lemmas  \n",
       "0                           [покупка,  , жилье, \\n]  \n",
       "1                 [приобретение,  , автомобиль, \\n]  \n",
       "2                           [покупка,  , жилье, \\n]  \n",
       "3              [дополнительный,  , образование, \\n]  \n",
       "4                         [сыграть,  , свадьба, \\n]  \n",
       "...                                             ...  \n",
       "21449                [операция,  , с,  , жилье, \\n]  \n",
       "21450             [сделка,  , с,  , автомобиль, \\n]  \n",
       "21451                            [недвижимость, \\n]  \n",
       "21452  [на,  , покупка,  , свой,  , автомобиль, \\n]  \n",
       "21453           [на,  , покупка,  , автомобиль, \\n]  \n",
       "\n",
       "[21454 rows x 7 columns]"
      ]
     },
     "execution_count": 5,
     "metadata": {},
     "output_type": "execute_result"
    }
   ],
   "source": [
    "from pymystem3 import Mystem\n",
    "m = Mystem()\n",
    "# Получение лемм и их запись в новый столбец\n",
    "# обрабатываем построчно объект series (scoring['purpose']) с помощью лямбда-функции ('x' - отдельная строка из колонки 'purpose')\n",
    "scoring['lemmas'] = scoring['purpose'].apply(lambda x: m.lemmatize(x))\n",
    "scoring"
   ]
  },
  {
   "cell_type": "markdown",
   "metadata": {},
   "source": [
    "### Вывод"
   ]
  },
  {
   "cell_type": "markdown",
   "metadata": {},
   "source": [
    "С помощью модуля 'Mystem' библиотеки 'pymystem3' можно определить леммы для каждой строки с целью кредита, что в дальнейшем поможет с точным определением категорий."
   ]
  },
  {
   "cell_type": "markdown",
   "metadata": {},
   "source": [
    "### Категоризация данных"
   ]
  },
  {
   "cell_type": "code",
   "execution_count": 6,
   "metadata": {},
   "outputs": [
    {
     "name": "stdout",
     "output_type": "stream",
     "text": [
      "Список всех лемм:\n",
      " Counter({' ': 33570, '\\n': 21454, 'недвижимость': 6351, 'покупка': 5897, 'жилье': 4460, 'автомобиль': 4306, 'образование': 4013, 'с': 2918, 'операция': 2604, 'свадьба': 2324, 'свой': 2230, 'на': 2222, 'строительство': 1878, 'высокий': 1374, 'получение': 1314, 'коммерческий': 1311, 'для': 1289, 'жилой': 1230, 'сделка': 941, 'дополнительный': 906, 'заниматься': 904, 'проведение': 768, 'сыграть': 765, 'сдача': 651, 'семья': 638, 'собственный': 635, 'со': 627, 'ремонт': 607, 'подержанный': 486, 'подержать': 478, 'приобретение': 461, 'профильный': 436})\n",
      "\n",
      "Список итоговых категорий:\n",
      " Counter({'ипотека': 4459, 'автокредит': 4306, 'образовательный кредит': 4013, 'кредит на недвижимость': 3867, 'потребительский кредит на свадьбу': 2324, 'ипотека на строительство': 1878, 'потребительский кредит на ремонт': 607})\n"
     ]
    }
   ],
   "source": [
    "# определение возможных категорий\n",
    "from collections import Counter\n",
    "\n",
    "# оцениваем список и выделяем ключевые\n",
    "print('Список всех лемм:\\n', Counter(scoring['lemmas'].sum()))\n",
    "\n",
    "# ф-ия присвоения категорий\n",
    "def category(list):\n",
    "    # использую словарь, т.к. леммы и категории не совпадают\n",
    "    # порядок категорий имеет значение, например для : \"строительство жилья\", \"ремонт жильЮ\", \"строительство жилой недвижимости\" и т.д.\n",
    "    # считаю, что пока достаточно такой реализации\n",
    "    dict = {\n",
    "        'строительство': 'ипотека на строительство',\n",
    "        'ремонт': 'потребительский кредит на ремонт',\n",
    "        'жилой': 'ипотека',\n",
    "        'жилье': 'ипотека',\n",
    "        'автомобиль': 'автокредит',\n",
    "        'образование': 'образовательный кредит',\n",
    "        'свадьба': 'потребительский кредит на свадьбу',\n",
    "        'недвижимость': 'кредит на недвижимость',        \n",
    "    }\n",
    "    for word in list:\n",
    "        if word in dict:\n",
    "            return dict[word] # при первом найденном выходим из ф-ии\n",
    "    return 'not_define' # для проверки охвата всех вариантов лемм\n",
    "\n",
    "# добавляем столбец с именами категорий\n",
    "scoring['purpose_category'] = scoring['lemmas'].apply(lambda x: category(x))\n",
    "# проверка, остались ли некатегорированные данные\n",
    "print('\\nСписок итоговых категорий:\\n', Counter(scoring['purpose_category']))\n",
    "\n",
    "# разделим также клиентов по уровню З/П на категории от 1 до 10 по деци́лям.\n",
    "# категория 1 будет соответствовать первому децилю (10% людей с наименьшим доходом)\n",
    "# категория 10 будет соответствовать 10-му децилю (10% людей с наибольшим доходом)\n",
    "# используем для создания новых колонок ф-цию \"pd.qcut\"\n",
    "scoring['total_income_deciles'] = pd.qcut(scoring['total_income'], 10)\n",
    "scoring['total_income_deciles_id'] = pd.qcut(scoring['total_income'], 10, labels=range(1,11))\n"
   ]
  },
  {
   "cell_type": "markdown",
   "metadata": {},
   "source": [
    "### Вывод"
   ]
  },
  {
   "cell_type": "markdown",
   "metadata": {},
   "source": [
    "Исходя из статистики встречаемости лемм считаю правильным выделить ключевые:\n",
    "- 'недвижимость': 6351\n",
    "- 'жилье': 4460\n",
    "- 'автомобиль': 4306\n",
    "- 'образование': 4013\n",
    "- 'свадьба': 2324\n",
    "- 'строительство': 1878\n",
    "- 'жилой': 1230\n",
    "- 'ремонт': 607\n",
    "\n",
    "Им в соответствием можно поставить 7 основных категорий. При этом сочетание лемм 'жилой' и 'недвижимость' можно определить как категорию 'ипотека'\n",
    "\n",
    "Дополнительно создали категории по децилям колонки \"total_income\""
   ]
  },
  {
   "cell_type": "markdown",
   "metadata": {},
   "source": [
    "### Шаг 3. Ответьте на вопросы"
   ]
  },
  {
   "cell_type": "markdown",
   "metadata": {},
   "source": [
    "#### Есть ли зависимость между наличием детей и возвратом кредита в срок?"
   ]
  },
  {
   "cell_type": "code",
   "execution_count": 7,
   "metadata": {},
   "outputs": [
    {
     "data": {
      "text/html": [
       "<div>\n",
       "<style scoped>\n",
       "    .dataframe tbody tr th:only-of-type {\n",
       "        vertical-align: middle;\n",
       "    }\n",
       "\n",
       "    .dataframe tbody tr th {\n",
       "        vertical-align: top;\n",
       "    }\n",
       "\n",
       "    .dataframe thead tr th {\n",
       "        text-align: left;\n",
       "    }\n",
       "\n",
       "    .dataframe thead tr:last-of-type th {\n",
       "        text-align: right;\n",
       "    }\n",
       "</style>\n",
       "<table border=\"1\" class=\"dataframe\">\n",
       "  <thead>\n",
       "    <tr>\n",
       "      <th></th>\n",
       "      <th></th>\n",
       "      <th>debt</th>\n",
       "      <th>percent</th>\n",
       "    </tr>\n",
       "    <tr>\n",
       "      <th></th>\n",
       "      <th></th>\n",
       "      <th>count</th>\n",
       "      <th></th>\n",
       "    </tr>\n",
       "    <tr>\n",
       "      <th>children</th>\n",
       "      <th>debt</th>\n",
       "      <th></th>\n",
       "      <th></th>\n",
       "    </tr>\n",
       "  </thead>\n",
       "  <tbody>\n",
       "    <tr>\n",
       "      <td>5</td>\n",
       "      <td>0</td>\n",
       "      <td>9</td>\n",
       "      <td>100.000000</td>\n",
       "    </tr>\n",
       "    <tr>\n",
       "      <td>0</td>\n",
       "      <td>0</td>\n",
       "      <td>13028</td>\n",
       "      <td>92.456178</td>\n",
       "    </tr>\n",
       "    <tr>\n",
       "      <td>3</td>\n",
       "      <td>0</td>\n",
       "      <td>303</td>\n",
       "      <td>91.818182</td>\n",
       "    </tr>\n",
       "    <tr>\n",
       "      <td>1</td>\n",
       "      <td>0</td>\n",
       "      <td>4410</td>\n",
       "      <td>90.834192</td>\n",
       "    </tr>\n",
       "    <tr>\n",
       "      <td>2</td>\n",
       "      <td>0</td>\n",
       "      <td>1926</td>\n",
       "      <td>90.507519</td>\n",
       "    </tr>\n",
       "    <tr>\n",
       "      <td>4</td>\n",
       "      <td>0</td>\n",
       "      <td>37</td>\n",
       "      <td>90.243902</td>\n",
       "    </tr>\n",
       "  </tbody>\n",
       "</table>\n",
       "</div>"
      ],
      "text/plain": [
       "                debt     percent\n",
       "               count            \n",
       "children debt                   \n",
       "5        0         9  100.000000\n",
       "0        0     13028   92.456178\n",
       "3        0       303   91.818182\n",
       "1        0      4410   90.834192\n",
       "2        0      1926   90.507519\n",
       "4        0        37   90.243902"
      ]
     },
     "execution_count": 7,
     "metadata": {},
     "output_type": "execute_result"
    }
   ],
   "source": [
    "# формируем сводную таблицу по кол-ву детей и фактом задолденности по кредиту\n",
    "children_pt = scoring.pivot_table(scoring, index=['children','debt'], aggfunc={'debt':['count']})\n",
    "# добавляем к ней колонку с подсчетом процента среди клиентов с таким же количеством детей\n",
    "children_pt['percent'] = 100 * children_pt[('debt', 'count')] / scoring.groupby('children')['debt'].count()\n",
    "# для наглядности выводим только \"честных\" клиентов в порядке убывания долей\n",
    "children_pt.query('debt == 0').sort_values(axis=0, by='percent', ascending=False)"
   ]
  },
  {
   "cell_type": "markdown",
   "metadata": {},
   "source": [
    "### Вывод"
   ]
  },
  {
   "cell_type": "markdown",
   "metadata": {},
   "source": [
    "Самыми платежеспособными оказались клиенты с 5-ю детьми, но таких всего лишь 9 человек, поэтому это не объективная статистика.\n",
    "\n",
    "Люди без детей  немного чаще возвращаю кредиты в установленные сроки. \"Честных\" среди них ~92.46%.\n",
    "\n",
    "Клиенты с 3-мя детьми возвращают кредит в срок чаще, чем клиенты с 1,2 и 4-мя детьми. (Таких записей 303 шт., возможно маткапитал на 3-х решает :-D, а может быть дело в сознательности таких людей).\n",
    "\n",
    "Хуже всего дела обстоят у людей с 4-мя детьми. (Зато в старости дети будут обеспечивать... XD)"
   ]
  },
  {
   "cell_type": "markdown",
   "metadata": {},
   "source": [
    "#### Есть ли зависимость между семейным положением и возвратом кредита в срок?"
   ]
  },
  {
   "cell_type": "code",
   "execution_count": 14,
   "metadata": {},
   "outputs": [
    {
     "data": {
      "text/html": [
       "<div>\n",
       "<style scoped>\n",
       "    .dataframe tbody tr th:only-of-type {\n",
       "        vertical-align: middle;\n",
       "    }\n",
       "\n",
       "    .dataframe tbody tr th {\n",
       "        vertical-align: top;\n",
       "    }\n",
       "\n",
       "    .dataframe thead tr th {\n",
       "        text-align: left;\n",
       "    }\n",
       "\n",
       "    .dataframe thead tr:last-of-type th {\n",
       "        text-align: right;\n",
       "    }\n",
       "</style>\n",
       "<table border=\"1\" class=\"dataframe\">\n",
       "  <thead>\n",
       "    <tr>\n",
       "      <th></th>\n",
       "      <th></th>\n",
       "      <th>debt</th>\n",
       "      <th>percent</th>\n",
       "    </tr>\n",
       "    <tr>\n",
       "      <th></th>\n",
       "      <th></th>\n",
       "      <th>count</th>\n",
       "      <th></th>\n",
       "    </tr>\n",
       "    <tr>\n",
       "      <th>family_status</th>\n",
       "      <th>debt</th>\n",
       "      <th></th>\n",
       "      <th></th>\n",
       "    </tr>\n",
       "  </thead>\n",
       "  <tbody>\n",
       "    <tr>\n",
       "      <td>вдовец / вдова</td>\n",
       "      <td>0</td>\n",
       "      <td>896</td>\n",
       "      <td>93.430657</td>\n",
       "    </tr>\n",
       "    <tr>\n",
       "      <td>в разводе</td>\n",
       "      <td>0</td>\n",
       "      <td>1110</td>\n",
       "      <td>92.887029</td>\n",
       "    </tr>\n",
       "    <tr>\n",
       "      <td>женат / замужем</td>\n",
       "      <td>0</td>\n",
       "      <td>11408</td>\n",
       "      <td>92.454818</td>\n",
       "    </tr>\n",
       "    <tr>\n",
       "      <td>гражданский брак</td>\n",
       "      <td>0</td>\n",
       "      <td>3763</td>\n",
       "      <td>90.652855</td>\n",
       "    </tr>\n",
       "    <tr>\n",
       "      <td>не женат / не замужем</td>\n",
       "      <td>0</td>\n",
       "      <td>2536</td>\n",
       "      <td>90.249110</td>\n",
       "    </tr>\n",
       "  </tbody>\n",
       "</table>\n",
       "</div>"
      ],
      "text/plain": [
       "                             debt    percent\n",
       "                            count           \n",
       "family_status         debt                  \n",
       "вдовец / вдова        0       896  93.430657\n",
       "в разводе             0      1110  92.887029\n",
       "женат / замужем       0     11408  92.454818\n",
       "гражданский брак      0      3763  90.652855\n",
       "не женат / не замужем 0      2536  90.249110"
      ]
     },
     "execution_count": 14,
     "metadata": {},
     "output_type": "execute_result"
    }
   ],
   "source": [
    "# формируем сводную таблицу по семейному положению и фактом задолденности по кредиту\n",
    "family_status_pt = scoring.pivot_table(scoring, index=['family_status','debt'], aggfunc={'debt':['count']})\n",
    "# добавляем к ней колонку с подсчетом процента среди клиентов с таким же семейным положением\n",
    "family_status_pt['percent'] = 100 * family_status_pt[('debt', 'count')] / scoring.groupby(['family_status'])['debt'].count()\n",
    "# для наглядности выводим только \"честных\" клиентов в порядке убывания долей\n",
    "family_status_pt.query('debt == 0').sort_values(axis=0, by='percent', ascending=False)"
   ]
  },
  {
   "cell_type": "markdown",
   "metadata": {},
   "source": [
    "### Вывод"
   ]
  },
  {
   "cell_type": "markdown",
   "metadata": {},
   "source": [
    "Клиенты с семейным статусом \"вдовец/вдова\", \"в разводе\" или \"женат/замужем\" примерно на 2% чаще выплачивают кредит в срок, чем клиенты никогда не состоявшие в официальном браке"
   ]
  },
  {
   "cell_type": "markdown",
   "metadata": {},
   "source": [
    "#### Есть ли зависимость между уровнем дохода и возвратом кредита в срок?"
   ]
  },
  {
   "cell_type": "code",
   "execution_count": 11,
   "metadata": {},
   "outputs": [
    {
     "name": "stdout",
     "output_type": "stream",
     "text": [
      "                                                    debt    percent\n",
      "                                                   count           \n",
      "total_income_deciles  total_income_deciles_id debt                 \n",
      "(214606.0, 269797.4]  9                       0     1996  93.053613\n",
      "(269797.4, 2265604.0] 10                      0     1995  92.963653\n",
      "(20666.999, 78721.1]  1                       0     1989  92.684063\n",
      "(116008.6, 135448.4]  4                       0     1970  91.798695\n",
      "(98537.6, 116008.6]   3                       0     1966  91.655012\n",
      "(179794.8, 214606.0]  8                       0     1964  91.561772\n",
      "(135448.4, 145017.0]  5                       0     2922  91.398186\n",
      "(78721.1, 98537.6]    2                       0     1958  91.282051\n",
      "(156425.8, 179794.8]  7                       0     1957  91.192917\n",
      "(145017.0, 156425.8]  6                       0      996  91.125343\n",
      "\n",
      "Количество значений \"145017\" в колонке \"total_income\": 2104\n"
     ]
    }
   ],
   "source": [
    "# формируем сводную таблицу по децилям З/П и фактом задолденности по кредиту\n",
    "total_income_deciles_pt = scoring.pivot_table(scoring, index=['total_income_deciles', 'total_income_deciles_id','debt'], aggfunc={'debt':['count']})\n",
    "# добавляем к ней колонку с подсчетом процента среди клиентов с таким же З/П\n",
    "total_income_deciles_pt['percent'] = 100 * total_income_deciles_pt[('debt', 'count')] / scoring.groupby('total_income_deciles')['debt'].count()\n",
    "# для наглядности выводим только \"честных\" клиентов в порядке убывания долей\n",
    "print(total_income_deciles_pt.query('debt == 0').sort_values(axis=0, by='percent', ascending=False))\n",
    "\n",
    "# количество клиентов в каждом дециле должно быть примерно одинаковое, но имеется сильное отклонение между 5 и 6 отрезком\n",
    "# предположу, что это из-за заполнения пропусков в исходных данных по З/П медианой, которая как раз равняется 145017\n",
    "print('\\nКоличество значений \"145017\" в колонке \"total_income\":', scoring[scoring['total_income'] == scoring['total_income'].median()]['total_income'].count())"
   ]
  },
  {
   "cell_type": "markdown",
   "metadata": {},
   "source": [
    "### Вывод"
   ]
  },
  {
   "cell_type": "markdown",
   "metadata": {},
   "source": [
    "Клиенты с самой высокой (9 и 10 дециль) и самой низкой зарплатой (1 дециль) чаще остальных выплачивают кредит в срок (болей 92%). Остальные значения примерно на 1% меньше."
   ]
  },
  {
   "cell_type": "markdown",
   "metadata": {},
   "source": [
    "#### Как разные цели кредита влияют на его возврат в срок?"
   ]
  },
  {
   "cell_type": "code",
   "execution_count": 10,
   "metadata": {},
   "outputs": [
    {
     "data": {
      "text/html": [
       "<div>\n",
       "<style scoped>\n",
       "    .dataframe tbody tr th:only-of-type {\n",
       "        vertical-align: middle;\n",
       "    }\n",
       "\n",
       "    .dataframe tbody tr th {\n",
       "        vertical-align: top;\n",
       "    }\n",
       "\n",
       "    .dataframe thead tr th {\n",
       "        text-align: left;\n",
       "    }\n",
       "\n",
       "    .dataframe thead tr:last-of-type th {\n",
       "        text-align: right;\n",
       "    }\n",
       "</style>\n",
       "<table border=\"1\" class=\"dataframe\">\n",
       "  <thead>\n",
       "    <tr>\n",
       "      <th></th>\n",
       "      <th></th>\n",
       "      <th>debt</th>\n",
       "      <th>percent</th>\n",
       "    </tr>\n",
       "    <tr>\n",
       "      <th></th>\n",
       "      <th></th>\n",
       "      <th>count</th>\n",
       "      <th></th>\n",
       "    </tr>\n",
       "    <tr>\n",
       "      <th>purpose_category</th>\n",
       "      <th>debt</th>\n",
       "      <th></th>\n",
       "      <th></th>\n",
       "    </tr>\n",
       "  </thead>\n",
       "  <tbody>\n",
       "    <tr>\n",
       "      <td>потребительский кредит на ремонт</td>\n",
       "      <td>0</td>\n",
       "      <td>572</td>\n",
       "      <td>94.233937</td>\n",
       "    </tr>\n",
       "    <tr>\n",
       "      <td>ипотека</td>\n",
       "      <td>0</td>\n",
       "      <td>4145</td>\n",
       "      <td>92.958062</td>\n",
       "    </tr>\n",
       "    <tr>\n",
       "      <td>кредит на недвижимость</td>\n",
       "      <td>0</td>\n",
       "      <td>3578</td>\n",
       "      <td>92.526506</td>\n",
       "    </tr>\n",
       "    <tr>\n",
       "      <td>ипотека на строительство</td>\n",
       "      <td>0</td>\n",
       "      <td>1734</td>\n",
       "      <td>92.332268</td>\n",
       "    </tr>\n",
       "    <tr>\n",
       "      <td>потребительский кредит на свадьбу</td>\n",
       "      <td>0</td>\n",
       "      <td>2138</td>\n",
       "      <td>91.996558</td>\n",
       "    </tr>\n",
       "    <tr>\n",
       "      <td>образовательный кредит</td>\n",
       "      <td>0</td>\n",
       "      <td>3643</td>\n",
       "      <td>90.779965</td>\n",
       "    </tr>\n",
       "    <tr>\n",
       "      <td>автокредит</td>\n",
       "      <td>0</td>\n",
       "      <td>3903</td>\n",
       "      <td>90.640966</td>\n",
       "    </tr>\n",
       "  </tbody>\n",
       "</table>\n",
       "</div>"
      ],
      "text/plain": [
       "                                        debt    percent\n",
       "                                       count           \n",
       "purpose_category                  debt                 \n",
       "потребительский кредит на ремонт  0      572  94.233937\n",
       "ипотека                           0     4145  92.958062\n",
       "кредит на недвижимость            0     3578  92.526506\n",
       "ипотека на строительство          0     1734  92.332268\n",
       "потребительский кредит на свадьбу 0     2138  91.996558\n",
       "образовательный кредит            0     3643  90.779965\n",
       "автокредит                        0     3903  90.640966"
      ]
     },
     "execution_count": 10,
     "metadata": {},
     "output_type": "execute_result"
    }
   ],
   "source": [
    "# формируем сводную таблицу по категориям кредита и фактом задолденности по кредиту\n",
    "purpose_category_pt = scoring.pivot_table(scoring, index=['purpose_category','debt'], aggfunc={'debt':['count']})\n",
    "# добавляем к ней колонку с подсчетом процента среди клиентов с такой же категорией кредита\n",
    "purpose_category_pt['percent'] = 100 * purpose_category_pt[('debt', 'count')] / scoring.groupby('purpose_category')['debt'].count()\n",
    "# для наглядности выводим только \"честных\" клиентов в порядке убывания долей\n",
    "purpose_category_pt.query('debt == 0').sort_values(axis=0, by='percent', ascending=False)"
   ]
  },
  {
   "cell_type": "markdown",
   "metadata": {},
   "source": [
    "### Вывод"
   ]
  },
  {
   "cell_type": "markdown",
   "metadata": {},
   "source": [
    "Потребительские кредиты на ремонт гораздо чаще возвращают в срок. А образовательные кредиты и автокредиты - реже."
   ]
  },
  {
   "cell_type": "markdown",
   "metadata": {},
   "source": [
    "### Шаг 4. Общий вывод"
   ]
  },
  {
   "cell_type": "markdown",
   "metadata": {},
   "source": [
    "Люди без детей  немного чаще возвращаю кредиты в установленные сроки. \"Честных\" среди них ~92.46%. Чем больше детей, тем меньше процент возврата.\n",
    "\n",
    "Клиенты с семейным статусом \"вдовец/вдова\", \"в разводе\" или \"женат/замужем\" примерно на 2% чаще выплачивают кредит в срок, чем клиенты никогда не состоявшие в официальном браке.\n",
    "\n",
    "Клиенты с самой высокой (9 и 10 дециль) и самой низкой зарплатой (1 дециль) чаще остальных выплачивают кредит в срок (болей 92%). Остальные значения примерно на 1% меньше.\n",
    "\n",
    "Потребительские кредиты на ремонт гораздо чаще возвращают в срок. А образовательные кредиты и автокредиты - реже."
   ]
  }
 ],
 "metadata": {
  "kernelspec": {
   "display_name": "Python 3",
   "language": "python",
   "name": "python3"
  },
  "language_info": {
   "codemirror_mode": {
    "name": "ipython",
    "version": 3
   },
   "file_extension": ".py",
   "mimetype": "text/x-python",
   "name": "python",
   "nbconvert_exporter": "python",
   "pygments_lexer": "ipython3",
   "version": "3.8.5"
  },
  "toc": {
   "base_numbering": 1,
   "nav_menu": {},
   "number_sections": true,
   "sideBar": true,
   "skip_h1_title": true,
   "title_cell": "Table of Contents",
   "title_sidebar": "Contents",
   "toc_cell": false,
   "toc_position": {},
   "toc_section_display": true,
   "toc_window_display": false
  }
 },
 "nbformat": 4,
 "nbformat_minor": 2
}

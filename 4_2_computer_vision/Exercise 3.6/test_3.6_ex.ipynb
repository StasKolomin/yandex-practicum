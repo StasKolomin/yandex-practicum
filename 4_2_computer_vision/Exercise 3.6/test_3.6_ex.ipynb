{
 "cells": [
  {
   "cell_type": "code",
   "execution_count": 1,
   "metadata": {},
   "outputs": [],
   "source": [
    "import numpy as np\n",
    "import CV # название файла *.py"
   ]
  },
  {
   "cell_type": "code",
   "execution_count": 2,
   "metadata": {},
   "outputs": [],
   "source": [
    "path = './datasets/fashion_mnist/'"
   ]
  },
  {
   "cell_type": "code",
   "execution_count": 3,
   "metadata": {},
   "outputs": [],
   "source": [
    "features_test = np.load('./datasets/fashion_mnist/test_features.npy')\n",
    "target_test = np.load('./datasets/fashion_mnist/test_target.npy')\n",
    "features_test = features_test.reshape(-1, 28, 28, 1) / 255.0"
   ]
  },
  {
   "cell_type": "code",
   "execution_count": 4,
   "metadata": {},
   "outputs": [],
   "source": [
    "train_data = CV.load_train(path)"
   ]
  },
  {
   "cell_type": "code",
   "execution_count": 5,
   "metadata": {},
   "outputs": [],
   "source": [
    "input_shape = (train_data[0].shape[0], 1, train_data[0].shape[1])\n",
    "\n",
    "model = CV.create_model(input_shape)"
   ]
  },
  {
   "cell_type": "code",
   "execution_count": 6,
   "metadata": {},
   "outputs": [
    {
     "name": "stdout",
     "output_type": "stream",
     "text": [
      "Epoch 1/10\n",
      "1875/1875 - 12s - loss: 0.5526 - acc: 0.7961 - val_loss: 0.4373 - val_acc: 0.8431\n",
      "Epoch 2/10\n",
      "1875/1875 - 12s - loss: 0.3822 - acc: 0.8606 - val_loss: 0.3653 - val_acc: 0.8661\n",
      "Epoch 3/10\n",
      "1875/1875 - 12s - loss: 0.3290 - acc: 0.8800 - val_loss: 0.3329 - val_acc: 0.8767\n",
      "Epoch 4/10\n",
      "1875/1875 - 12s - loss: 0.2987 - acc: 0.8895 - val_loss: 0.3108 - val_acc: 0.8898\n",
      "Epoch 5/10\n",
      "1875/1875 - 12s - loss: 0.2753 - acc: 0.8978 - val_loss: 0.3202 - val_acc: 0.8824\n",
      "Epoch 6/10\n",
      "1875/1875 - 12s - loss: 0.2587 - acc: 0.9044 - val_loss: 0.2973 - val_acc: 0.8954\n",
      "Epoch 7/10\n",
      "1875/1875 - 12s - loss: 0.2410 - acc: 0.9106 - val_loss: 0.2819 - val_acc: 0.8986\n",
      "Epoch 8/10\n",
      "1875/1875 - 12s - loss: 0.2283 - acc: 0.9148 - val_loss: 0.2758 - val_acc: 0.9005\n",
      "Epoch 9/10\n",
      "1875/1875 - 12s - loss: 0.2161 - acc: 0.9188 - val_loss: 0.2705 - val_acc: 0.9038\n",
      "Epoch 10/10\n",
      "1875/1875 - 12s - loss: 0.2053 - acc: 0.9236 - val_loss: 0.2614 - val_acc: 0.9085\n"
     ]
    }
   ],
   "source": [
    "test_data = (features_test, target_test)\n",
    "\n",
    "model = CV.train_model(model, train_data, test_data)"
   ]
  }
 ],
 "metadata": {
  "kernelspec": {
   "display_name": "Python 3",
   "language": "python",
   "name": "python3"
  },
  "language_info": {
   "codemirror_mode": {
    "name": "ipython",
    "version": 3
   },
   "file_extension": ".py",
   "mimetype": "text/x-python",
   "name": "python",
   "nbconvert_exporter": "python",
   "pygments_lexer": "ipython3",
   "version": "3.7.9"
  }
 },
 "nbformat": 4,
 "nbformat_minor": 4
}

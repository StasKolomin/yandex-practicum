{
 "cells": [
  {
   "cell_type": "code",
   "execution_count": 1,
   "metadata": {},
   "outputs": [],
   "source": [
    "import numpy as np\n",
    "import CV # название файла *.py"
   ]
  },
  {
   "cell_type": "code",
   "execution_count": 2,
   "metadata": {},
   "outputs": [],
   "source": [
    "path = './datasets/fashion_mnist/'"
   ]
  },
  {
   "cell_type": "code",
   "execution_count": 3,
   "metadata": {},
   "outputs": [],
   "source": [
    "features_test = np.load('./datasets/fashion_mnist/test_features.npy')\n",
    "target_test = np.load('./datasets/fashion_mnist/test_target.npy')\n",
    "features_test = features_test.reshape(features_test.shape[0], 28 * 28) / 255."
   ]
  },
  {
   "cell_type": "code",
   "execution_count": 4,
   "metadata": {},
   "outputs": [],
   "source": [
    "train_data = CV.load_train(path)"
   ]
  },
  {
   "cell_type": "code",
   "execution_count": 5,
   "metadata": {},
   "outputs": [],
   "source": [
    "input_shape = (train_data[0].shape[0], 1, train_data[0].shape[1])\n",
    "\n",
    "model = CV.create_model(input_shape)"
   ]
  },
  {
   "cell_type": "code",
   "execution_count": null,
   "metadata": {},
   "outputs": [
    {
     "name": "stdout",
     "output_type": "stream",
     "text": [
      "Epoch 1/10\n",
      "WARNING:tensorflow:Model was constructed with shape (None, 60000, 1, 784) for input Tensor(\"dense_input:0\", shape=(None, 60000, 1, 784), dtype=float32), but it was called on an input with incompatible shape (32, 784).\n",
      "WARNING:tensorflow:Model was constructed with shape (None, 60000, 1, 784) for input Tensor(\"dense_input:0\", shape=(None, 60000, 1, 784), dtype=float32), but it was called on an input with incompatible shape (32, 784).\n",
      "WARNING:tensorflow:Model was constructed with shape (None, 60000, 1, 784) for input Tensor(\"dense_input:0\", shape=(None, 60000, 1, 784), dtype=float32), but it was called on an input with incompatible shape (None, 784).\n",
      "1875/1875 - 5s - loss: 0.6669 - acc: 0.7821 - val_loss: 0.5121 - val_acc: 0.8268\n",
      "Epoch 2/10\n",
      "1875/1875 - 5s - loss: 0.4635 - acc: 0.8382 - val_loss: 0.4659 - val_acc: 0.8367\n",
      "Epoch 3/10\n",
      "1875/1875 - 5s - loss: 0.4221 - acc: 0.8530 - val_loss: 0.4266 - val_acc: 0.8504\n",
      "Epoch 4/10\n",
      "1875/1875 - 5s - loss: 0.3949 - acc: 0.8610 - val_loss: 0.4313 - val_acc: 0.8471\n",
      "Epoch 5/10\n",
      "1875/1875 - 5s - loss: 0.3764 - acc: 0.8683 - val_loss: 0.4021 - val_acc: 0.8579\n",
      "Epoch 6/10\n",
      "1875/1875 - 5s - loss: 0.3603 - acc: 0.8724 - val_loss: 0.3870 - val_acc: 0.8632\n"
     ]
    }
   ],
   "source": [
    "test_data = (features_test, target_test)\n",
    "\n",
    "model = CV.train_model(model, train_data, test_data)"
   ]
  }
 ],
 "metadata": {
  "kernelspec": {
   "display_name": "Python 3",
   "language": "python",
   "name": "python3"
  },
  "language_info": {
   "codemirror_mode": {
    "name": "ipython",
    "version": 3
   },
   "file_extension": ".py",
   "mimetype": "text/x-python",
   "name": "python",
   "nbconvert_exporter": "python",
   "pygments_lexer": "ipython3",
   "version": "3.8.5"
  }
 },
 "nbformat": 4,
 "nbformat_minor": 4
}

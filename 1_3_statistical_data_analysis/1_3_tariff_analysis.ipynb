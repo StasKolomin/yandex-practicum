{
 "cells": [
  {
   "cell_type": "markdown",
   "metadata": {},
   "source": [
    "<br><br/>\n",
    "<center><span style=\"color:black; font-weight: bold; font-size:24pt\">Определение перспективного тарифа для телеком компании</span></center>\n",
    "<br><br/>"
   ]
  },
  {
   "cell_type": "markdown",
   "metadata": {},
   "source": [
    "# 1. Введение"
   ]
  },
  {
   "cell_type": "markdown",
   "metadata": {},
   "source": [
    "***Описание проекта***\n",
    "\n",
    "Вы аналитик компании «Мегалайн» — федерального оператора сотовой связи. Клиентам предлагают два тарифных плана: «Смарт» и «Ультра». Чтобы скорректировать рекламный бюджет, коммерческий департамент хочет понять, какой тариф приносит больше денег.\n",
    "Вам предстоит сделать предварительный анализ тарифов на небольшой выборке клиентов. В вашем распоряжении данные 500 пользователей «Мегалайна»: кто они, откуда, каким тарифом пользуются, сколько звонков и сообщений каждый отправил за 2018 год. Нужно проанализировать поведение клиентов и сделать вывод — какой тариф лучше."
   ]
  },
  {
   "cell_type": "markdown",
   "metadata": {},
   "source": [
    "***Описание тарифов***\n",
    "\n",
    "*Тариф «Смарт»*\n",
    "\n",
    "1. Ежемесячная плата: 550 рублей\n",
    "1. Включено 500 минут разговора, 50 сообщений и 15 Гб интернет-трафика\n",
    "1. Стоимость услуг сверх тарифного пакета:\n",
    "    - минута разговора: 3 рубля\n",
    "    - сообщение: 3 рубля\n",
    "    - 1 Гб интернет-трафика: 200 рублей\n",
    "\n",
    "*Тариф «Ультра»*\n",
    "\n",
    "1. Ежемесячная плата: 1950 рублей\n",
    "1. Включено 3000 минут разговора, 1000 сообщений и 30 Гб интернет-трафика\n",
    "1. Стоимость услуг сверх тарифного пакета:\n",
    "    - минута разговора: 1 рубль\n",
    "    - сообщение: 1 рубль\n",
    "    - 1 Гб интернет-трафика: 150 рублей\n",
    "    \n",
    "**Обратите внимание:** «Мегалайн» всегда округляет вверх значения минут и мегабайтов. Если пользователь проговорил всего 1 секунду, в тарифе засчитывается целая минута."
   ]
  },
  {
   "cell_type": "markdown",
   "metadata": {},
   "source": [
    "## 1.1. Imports"
   ]
  },
  {
   "cell_type": "code",
   "execution_count": 1,
   "metadata": {},
   "outputs": [],
   "source": [
    "import pandas as pd\n",
    "import numpy as np\n",
    "from math import ceil\n",
    "from scipy import stats as st\n",
    "import matplotlib.pyplot as plt"
   ]
  },
  {
   "cell_type": "markdown",
   "metadata": {},
   "source": [
    "## 1.2. Чтение данных"
   ]
  },
  {
   "cell_type": "code",
   "execution_count": 2,
   "metadata": {},
   "outputs": [],
   "source": [
    "# локальная работа\n",
    "# path = './datasets/'\n",
    "\n",
    "# сервер Практикума\n",
    "path = '/datasets/'\n",
    "\n",
    "users = pd.read_csv(path + 'users.csv')\n",
    "calls = pd.read_csv(path + 'calls.csv')\n",
    "messages = pd.read_csv(path + 'messages.csv')\n",
    "internet = pd.read_csv(path + 'internet.csv')\n",
    "tariffs = pd.read_csv(path + 'tariffs.csv')"
   ]
  },
  {
   "cell_type": "markdown",
   "metadata": {},
   "source": [
    "Сразу добавим параметр с именем для датасетов для дальнейшего удобства"
   ]
  },
  {
   "cell_type": "code",
   "execution_count": 3,
   "metadata": {},
   "outputs": [],
   "source": [
    "all_df = [users,calls,messages,internet,tariffs]"
   ]
  },
  {
   "cell_type": "code",
   "execution_count": 4,
   "metadata": {},
   "outputs": [],
   "source": [
    "users.name = 'users'\n",
    "calls.name = 'calls'\n",
    "messages.name = 'messages'\n",
    "internet.name = 'internet'\n",
    "tariffs.name = 'tariffs'"
   ]
  },
  {
   "cell_type": "markdown",
   "metadata": {},
   "source": [
    "***\n",
    "Таблица `users` (информация о пользователях):\n",
    "- user_id — уникальный идентификатор пользователя\n",
    "- first_name — имя пользователя\n",
    "- last_name — фамилия пользователя\n",
    "- age — возраст пользователя (годы)\n",
    "- reg_date — дата подключения тарифа (день, месяц, год)\n",
    "- churn_date — дата прекращения пользования тарифом (если значение пропущено, то тариф ещё действовал на момент выгрузки данных)\n",
    "- city — город проживания пользователя\n",
    "- tariff — название тарифного плана"
   ]
  },
  {
   "cell_type": "code",
   "execution_count": 5,
   "metadata": {},
   "outputs": [
    {
     "data": {
      "text/html": [
       "<div>\n",
       "<style scoped>\n",
       "    .dataframe tbody tr th:only-of-type {\n",
       "        vertical-align: middle;\n",
       "    }\n",
       "\n",
       "    .dataframe tbody tr th {\n",
       "        vertical-align: top;\n",
       "    }\n",
       "\n",
       "    .dataframe thead th {\n",
       "        text-align: right;\n",
       "    }\n",
       "</style>\n",
       "<table border=\"1\" class=\"dataframe\">\n",
       "  <thead>\n",
       "    <tr style=\"text-align: right;\">\n",
       "      <th></th>\n",
       "      <th>user_id</th>\n",
       "      <th>age</th>\n",
       "      <th>churn_date</th>\n",
       "      <th>city</th>\n",
       "      <th>first_name</th>\n",
       "      <th>last_name</th>\n",
       "      <th>reg_date</th>\n",
       "      <th>tariff</th>\n",
       "    </tr>\n",
       "  </thead>\n",
       "  <tbody>\n",
       "    <tr>\n",
       "      <td>0</td>\n",
       "      <td>1000</td>\n",
       "      <td>52</td>\n",
       "      <td>NaN</td>\n",
       "      <td>Краснодар</td>\n",
       "      <td>Рафаил</td>\n",
       "      <td>Верещагин</td>\n",
       "      <td>2018-05-25</td>\n",
       "      <td>ultra</td>\n",
       "    </tr>\n",
       "    <tr>\n",
       "      <td>1</td>\n",
       "      <td>1001</td>\n",
       "      <td>41</td>\n",
       "      <td>NaN</td>\n",
       "      <td>Москва</td>\n",
       "      <td>Иван</td>\n",
       "      <td>Ежов</td>\n",
       "      <td>2018-11-01</td>\n",
       "      <td>smart</td>\n",
       "    </tr>\n",
       "    <tr>\n",
       "      <td>2</td>\n",
       "      <td>1002</td>\n",
       "      <td>59</td>\n",
       "      <td>NaN</td>\n",
       "      <td>Стерлитамак</td>\n",
       "      <td>Евгений</td>\n",
       "      <td>Абрамович</td>\n",
       "      <td>2018-06-17</td>\n",
       "      <td>smart</td>\n",
       "    </tr>\n",
       "    <tr>\n",
       "      <td>3</td>\n",
       "      <td>1003</td>\n",
       "      <td>23</td>\n",
       "      <td>NaN</td>\n",
       "      <td>Москва</td>\n",
       "      <td>Белла</td>\n",
       "      <td>Белякова</td>\n",
       "      <td>2018-08-17</td>\n",
       "      <td>ultra</td>\n",
       "    </tr>\n",
       "    <tr>\n",
       "      <td>4</td>\n",
       "      <td>1004</td>\n",
       "      <td>68</td>\n",
       "      <td>NaN</td>\n",
       "      <td>Новокузнецк</td>\n",
       "      <td>Татьяна</td>\n",
       "      <td>Авдеенко</td>\n",
       "      <td>2018-05-14</td>\n",
       "      <td>ultra</td>\n",
       "    </tr>\n",
       "  </tbody>\n",
       "</table>\n",
       "</div>"
      ],
      "text/plain": [
       "   user_id  age churn_date         city first_name  last_name    reg_date  \\\n",
       "0     1000   52        NaN    Краснодар     Рафаил  Верещагин  2018-05-25   \n",
       "1     1001   41        NaN       Москва       Иван       Ежов  2018-11-01   \n",
       "2     1002   59        NaN  Стерлитамак    Евгений  Абрамович  2018-06-17   \n",
       "3     1003   23        NaN       Москва      Белла   Белякова  2018-08-17   \n",
       "4     1004   68        NaN  Новокузнецк    Татьяна   Авдеенко  2018-05-14   \n",
       "\n",
       "  tariff  \n",
       "0  ultra  \n",
       "1  smart  \n",
       "2  smart  \n",
       "3  ultra  \n",
       "4  ultra  "
      ]
     },
     "metadata": {},
     "output_type": "display_data"
    },
    {
     "name": "stdout",
     "output_type": "stream",
     "text": [
      "<class 'pandas.core.frame.DataFrame'>\n",
      "RangeIndex: 500 entries, 0 to 499\n",
      "Data columns (total 8 columns):\n",
      "user_id       500 non-null int64\n",
      "age           500 non-null int64\n",
      "churn_date    38 non-null object\n",
      "city          500 non-null object\n",
      "first_name    500 non-null object\n",
      "last_name     500 non-null object\n",
      "reg_date      500 non-null object\n",
      "tariff        500 non-null object\n",
      "dtypes: int64(2), object(6)\n",
      "memory usage: 31.4+ KB\n"
     ]
    }
   ],
   "source": [
    "display(users.head())\n",
    "users.info()"
   ]
  },
  {
   "cell_type": "markdown",
   "metadata": {},
   "source": [
    "***\n",
    "Таблица `calls` (информация о звонках):\n",
    "- id — уникальный номер звонка\n",
    "- call_date — дата звонка\n",
    "- duration — длительность звонка в минутах\n",
    "- user_id — идентификатор пользователя, сделавшего звонок"
   ]
  },
  {
   "cell_type": "code",
   "execution_count": 6,
   "metadata": {},
   "outputs": [
    {
     "data": {
      "text/html": [
       "<div>\n",
       "<style scoped>\n",
       "    .dataframe tbody tr th:only-of-type {\n",
       "        vertical-align: middle;\n",
       "    }\n",
       "\n",
       "    .dataframe tbody tr th {\n",
       "        vertical-align: top;\n",
       "    }\n",
       "\n",
       "    .dataframe thead th {\n",
       "        text-align: right;\n",
       "    }\n",
       "</style>\n",
       "<table border=\"1\" class=\"dataframe\">\n",
       "  <thead>\n",
       "    <tr style=\"text-align: right;\">\n",
       "      <th></th>\n",
       "      <th>id</th>\n",
       "      <th>call_date</th>\n",
       "      <th>duration</th>\n",
       "      <th>user_id</th>\n",
       "    </tr>\n",
       "  </thead>\n",
       "  <tbody>\n",
       "    <tr>\n",
       "      <td>0</td>\n",
       "      <td>1000_0</td>\n",
       "      <td>2018-07-25</td>\n",
       "      <td>0.00</td>\n",
       "      <td>1000</td>\n",
       "    </tr>\n",
       "    <tr>\n",
       "      <td>1</td>\n",
       "      <td>1000_1</td>\n",
       "      <td>2018-08-17</td>\n",
       "      <td>0.00</td>\n",
       "      <td>1000</td>\n",
       "    </tr>\n",
       "    <tr>\n",
       "      <td>2</td>\n",
       "      <td>1000_2</td>\n",
       "      <td>2018-06-11</td>\n",
       "      <td>2.85</td>\n",
       "      <td>1000</td>\n",
       "    </tr>\n",
       "    <tr>\n",
       "      <td>3</td>\n",
       "      <td>1000_3</td>\n",
       "      <td>2018-09-21</td>\n",
       "      <td>13.80</td>\n",
       "      <td>1000</td>\n",
       "    </tr>\n",
       "    <tr>\n",
       "      <td>4</td>\n",
       "      <td>1000_4</td>\n",
       "      <td>2018-12-15</td>\n",
       "      <td>5.18</td>\n",
       "      <td>1000</td>\n",
       "    </tr>\n",
       "  </tbody>\n",
       "</table>\n",
       "</div>"
      ],
      "text/plain": [
       "       id   call_date  duration  user_id\n",
       "0  1000_0  2018-07-25      0.00     1000\n",
       "1  1000_1  2018-08-17      0.00     1000\n",
       "2  1000_2  2018-06-11      2.85     1000\n",
       "3  1000_3  2018-09-21     13.80     1000\n",
       "4  1000_4  2018-12-15      5.18     1000"
      ]
     },
     "metadata": {},
     "output_type": "display_data"
    },
    {
     "name": "stdout",
     "output_type": "stream",
     "text": [
      "<class 'pandas.core.frame.DataFrame'>\n",
      "RangeIndex: 202607 entries, 0 to 202606\n",
      "Data columns (total 4 columns):\n",
      "id           202607 non-null object\n",
      "call_date    202607 non-null object\n",
      "duration     202607 non-null float64\n",
      "user_id      202607 non-null int64\n",
      "dtypes: float64(1), int64(1), object(2)\n",
      "memory usage: 6.2+ MB\n"
     ]
    }
   ],
   "source": [
    "display(calls.head())\n",
    "calls.info()"
   ]
  },
  {
   "cell_type": "markdown",
   "metadata": {},
   "source": [
    "***\n",
    "Таблица `messages` (информация о сообщениях):\n",
    "- id — уникальный номер сообщения\n",
    "- message_date — дата сообщения\n",
    "- user_id — идентификатор пользователя, отправившего сообщение"
   ]
  },
  {
   "cell_type": "code",
   "execution_count": 7,
   "metadata": {},
   "outputs": [
    {
     "data": {
      "text/html": [
       "<div>\n",
       "<style scoped>\n",
       "    .dataframe tbody tr th:only-of-type {\n",
       "        vertical-align: middle;\n",
       "    }\n",
       "\n",
       "    .dataframe tbody tr th {\n",
       "        vertical-align: top;\n",
       "    }\n",
       "\n",
       "    .dataframe thead th {\n",
       "        text-align: right;\n",
       "    }\n",
       "</style>\n",
       "<table border=\"1\" class=\"dataframe\">\n",
       "  <thead>\n",
       "    <tr style=\"text-align: right;\">\n",
       "      <th></th>\n",
       "      <th>id</th>\n",
       "      <th>message_date</th>\n",
       "      <th>user_id</th>\n",
       "    </tr>\n",
       "  </thead>\n",
       "  <tbody>\n",
       "    <tr>\n",
       "      <td>0</td>\n",
       "      <td>1000_0</td>\n",
       "      <td>2018-06-27</td>\n",
       "      <td>1000</td>\n",
       "    </tr>\n",
       "    <tr>\n",
       "      <td>1</td>\n",
       "      <td>1000_1</td>\n",
       "      <td>2018-10-08</td>\n",
       "      <td>1000</td>\n",
       "    </tr>\n",
       "    <tr>\n",
       "      <td>2</td>\n",
       "      <td>1000_2</td>\n",
       "      <td>2018-08-04</td>\n",
       "      <td>1000</td>\n",
       "    </tr>\n",
       "    <tr>\n",
       "      <td>3</td>\n",
       "      <td>1000_3</td>\n",
       "      <td>2018-06-16</td>\n",
       "      <td>1000</td>\n",
       "    </tr>\n",
       "    <tr>\n",
       "      <td>4</td>\n",
       "      <td>1000_4</td>\n",
       "      <td>2018-12-05</td>\n",
       "      <td>1000</td>\n",
       "    </tr>\n",
       "  </tbody>\n",
       "</table>\n",
       "</div>"
      ],
      "text/plain": [
       "       id message_date  user_id\n",
       "0  1000_0   2018-06-27     1000\n",
       "1  1000_1   2018-10-08     1000\n",
       "2  1000_2   2018-08-04     1000\n",
       "3  1000_3   2018-06-16     1000\n",
       "4  1000_4   2018-12-05     1000"
      ]
     },
     "metadata": {},
     "output_type": "display_data"
    },
    {
     "name": "stdout",
     "output_type": "stream",
     "text": [
      "<class 'pandas.core.frame.DataFrame'>\n",
      "RangeIndex: 123036 entries, 0 to 123035\n",
      "Data columns (total 3 columns):\n",
      "id              123036 non-null object\n",
      "message_date    123036 non-null object\n",
      "user_id         123036 non-null int64\n",
      "dtypes: int64(1), object(2)\n",
      "memory usage: 2.8+ MB\n"
     ]
    }
   ],
   "source": [
    "display(messages.head())\n",
    "messages.info()"
   ]
  },
  {
   "cell_type": "markdown",
   "metadata": {},
   "source": [
    "***\n",
    "Таблица `internet` (информация об интернет-сессиях):\n",
    "- id — уникальный номер сессии\n",
    "- mb_used — объём потраченного за сессию интернет-трафика (в мегабайтах)\n",
    "- session_date — дата интернет-сессии\n",
    "- user_id — идентификатор пользователя"
   ]
  },
  {
   "cell_type": "code",
   "execution_count": 8,
   "metadata": {},
   "outputs": [
    {
     "data": {
      "text/html": [
       "<div>\n",
       "<style scoped>\n",
       "    .dataframe tbody tr th:only-of-type {\n",
       "        vertical-align: middle;\n",
       "    }\n",
       "\n",
       "    .dataframe tbody tr th {\n",
       "        vertical-align: top;\n",
       "    }\n",
       "\n",
       "    .dataframe thead th {\n",
       "        text-align: right;\n",
       "    }\n",
       "</style>\n",
       "<table border=\"1\" class=\"dataframe\">\n",
       "  <thead>\n",
       "    <tr style=\"text-align: right;\">\n",
       "      <th></th>\n",
       "      <th>Unnamed: 0</th>\n",
       "      <th>id</th>\n",
       "      <th>mb_used</th>\n",
       "      <th>session_date</th>\n",
       "      <th>user_id</th>\n",
       "    </tr>\n",
       "  </thead>\n",
       "  <tbody>\n",
       "    <tr>\n",
       "      <td>0</td>\n",
       "      <td>0</td>\n",
       "      <td>1000_0</td>\n",
       "      <td>112.95</td>\n",
       "      <td>2018-11-25</td>\n",
       "      <td>1000</td>\n",
       "    </tr>\n",
       "    <tr>\n",
       "      <td>1</td>\n",
       "      <td>1</td>\n",
       "      <td>1000_1</td>\n",
       "      <td>1052.81</td>\n",
       "      <td>2018-09-07</td>\n",
       "      <td>1000</td>\n",
       "    </tr>\n",
       "    <tr>\n",
       "      <td>2</td>\n",
       "      <td>2</td>\n",
       "      <td>1000_2</td>\n",
       "      <td>1197.26</td>\n",
       "      <td>2018-06-25</td>\n",
       "      <td>1000</td>\n",
       "    </tr>\n",
       "    <tr>\n",
       "      <td>3</td>\n",
       "      <td>3</td>\n",
       "      <td>1000_3</td>\n",
       "      <td>550.27</td>\n",
       "      <td>2018-08-22</td>\n",
       "      <td>1000</td>\n",
       "    </tr>\n",
       "    <tr>\n",
       "      <td>4</td>\n",
       "      <td>4</td>\n",
       "      <td>1000_4</td>\n",
       "      <td>302.56</td>\n",
       "      <td>2018-09-24</td>\n",
       "      <td>1000</td>\n",
       "    </tr>\n",
       "  </tbody>\n",
       "</table>\n",
       "</div>"
      ],
      "text/plain": [
       "   Unnamed: 0      id  mb_used session_date  user_id\n",
       "0           0  1000_0   112.95   2018-11-25     1000\n",
       "1           1  1000_1  1052.81   2018-09-07     1000\n",
       "2           2  1000_2  1197.26   2018-06-25     1000\n",
       "3           3  1000_3   550.27   2018-08-22     1000\n",
       "4           4  1000_4   302.56   2018-09-24     1000"
      ]
     },
     "metadata": {},
     "output_type": "display_data"
    },
    {
     "name": "stdout",
     "output_type": "stream",
     "text": [
      "<class 'pandas.core.frame.DataFrame'>\n",
      "RangeIndex: 149396 entries, 0 to 149395\n",
      "Data columns (total 5 columns):\n",
      "Unnamed: 0      149396 non-null int64\n",
      "id              149396 non-null object\n",
      "mb_used         149396 non-null float64\n",
      "session_date    149396 non-null object\n",
      "user_id         149396 non-null int64\n",
      "dtypes: float64(1), int64(2), object(2)\n",
      "memory usage: 5.7+ MB\n"
     ]
    }
   ],
   "source": [
    "display(internet.head())\n",
    "internet.info()"
   ]
  },
  {
   "cell_type": "markdown",
   "metadata": {},
   "source": [
    "***\n",
    "Таблица `tariffs` (информация о тарифах):\n",
    "- tariff_name — название тарифа\n",
    "- rub_monthly_fee — ежемесячная абонентская плата в рублях\n",
    "- minutes_included — количество минут разговора в месяц, включённых в абонентскую плату\n",
    "- messages_included — количество сообщений в месяц, включённых в абонентскую плату\n",
    "- mb_per_month_included — объём интернет-трафика, включённого в абонентскую плату (в мегабайтах)\n",
    "- rub_per_minute — стоимость минуты разговора сверх тарифного пакета (например, если в тарифе 100 минут разговора в месяц, то со 101 минуты будет взиматься плата)\n",
    "- rub_per_message — стоимость отправки сообщения сверх тарифного пакета\n",
    "- rub_per_gb — стоимость дополнительного гигабайта интернет-трафика сверх тарифного пакета (1 гигабайт = 1024 мегабайта)"
   ]
  },
  {
   "cell_type": "code",
   "execution_count": 9,
   "metadata": {},
   "outputs": [
    {
     "data": {
      "text/html": [
       "<div>\n",
       "<style scoped>\n",
       "    .dataframe tbody tr th:only-of-type {\n",
       "        vertical-align: middle;\n",
       "    }\n",
       "\n",
       "    .dataframe tbody tr th {\n",
       "        vertical-align: top;\n",
       "    }\n",
       "\n",
       "    .dataframe thead th {\n",
       "        text-align: right;\n",
       "    }\n",
       "</style>\n",
       "<table border=\"1\" class=\"dataframe\">\n",
       "  <thead>\n",
       "    <tr style=\"text-align: right;\">\n",
       "      <th></th>\n",
       "      <th>messages_included</th>\n",
       "      <th>mb_per_month_included</th>\n",
       "      <th>minutes_included</th>\n",
       "      <th>rub_monthly_fee</th>\n",
       "      <th>rub_per_gb</th>\n",
       "      <th>rub_per_message</th>\n",
       "      <th>rub_per_minute</th>\n",
       "      <th>tariff_name</th>\n",
       "    </tr>\n",
       "  </thead>\n",
       "  <tbody>\n",
       "    <tr>\n",
       "      <td>0</td>\n",
       "      <td>50</td>\n",
       "      <td>15360</td>\n",
       "      <td>500</td>\n",
       "      <td>550</td>\n",
       "      <td>200</td>\n",
       "      <td>3</td>\n",
       "      <td>3</td>\n",
       "      <td>smart</td>\n",
       "    </tr>\n",
       "    <tr>\n",
       "      <td>1</td>\n",
       "      <td>1000</td>\n",
       "      <td>30720</td>\n",
       "      <td>3000</td>\n",
       "      <td>1950</td>\n",
       "      <td>150</td>\n",
       "      <td>1</td>\n",
       "      <td>1</td>\n",
       "      <td>ultra</td>\n",
       "    </tr>\n",
       "  </tbody>\n",
       "</table>\n",
       "</div>"
      ],
      "text/plain": [
       "   messages_included  mb_per_month_included  minutes_included  \\\n",
       "0                 50                  15360               500   \n",
       "1               1000                  30720              3000   \n",
       "\n",
       "   rub_monthly_fee  rub_per_gb  rub_per_message  rub_per_minute tariff_name  \n",
       "0              550         200                3               3       smart  \n",
       "1             1950         150                1               1       ultra  "
      ]
     },
     "metadata": {},
     "output_type": "display_data"
    },
    {
     "name": "stdout",
     "output_type": "stream",
     "text": [
      "<class 'pandas.core.frame.DataFrame'>\n",
      "RangeIndex: 2 entries, 0 to 1\n",
      "Data columns (total 8 columns):\n",
      "messages_included        2 non-null int64\n",
      "mb_per_month_included    2 non-null int64\n",
      "minutes_included         2 non-null int64\n",
      "rub_monthly_fee          2 non-null int64\n",
      "rub_per_gb               2 non-null int64\n",
      "rub_per_message          2 non-null int64\n",
      "rub_per_minute           2 non-null int64\n",
      "tariff_name              2 non-null object\n",
      "dtypes: int64(7), object(1)\n",
      "memory usage: 256.0+ bytes\n"
     ]
    }
   ],
   "source": [
    "display(tariffs.head())\n",
    "tariffs.info()"
   ]
  },
  {
   "cell_type": "markdown",
   "metadata": {},
   "source": [
    "**Вывод по 1.2** :\n",
    "- на первый взгляд данные хорошо подготовлены\n",
    "- пропуски только в `churn_date` таблицы `users`, что вполне логично\n",
    "- также необходимо преобразовать некоторые колонки к корректному типу данных\n",
    "- первая колонка таблицы `internet` дублирует индексы"
   ]
  },
  {
   "cell_type": "markdown",
   "metadata": {},
   "source": [
    "## 1.3. Проверки"
   ]
  },
  {
   "cell_type": "markdown",
   "metadata": {},
   "source": [
    "### 1.3.1. Пропуски"
   ]
  },
  {
   "cell_type": "code",
   "execution_count": 10,
   "metadata": {},
   "outputs": [
    {
     "name": "stdout",
     "output_type": "stream",
     "text": [
      "Пропуски 'users':\n",
      "\t['churn_date', 462]\n"
     ]
    }
   ],
   "source": [
    "# Ищем пропуски во всех имеющихся `DataFrame` и выводим на экран\n",
    "for df in all_df:\n",
    "    na = [[col, df[col].isna().sum()] for col in df.columns if df[col].isna().sum()!=0]\n",
    "    if na:\n",
    "        print(f'Пропуски \\'{df.name}\\':', sep='\\n\\t', *na)"
   ]
  },
  {
   "cell_type": "markdown",
   "metadata": {},
   "source": [
    "Одна колонка с пропусками, что логично, т.к. 462 абонента из 500 всё еще пользуются мобильной связью оператора"
   ]
  },
  {
   "cell_type": "markdown",
   "metadata": {},
   "source": [
    "### 1.3.2. Типы данных"
   ]
  },
  {
   "cell_type": "code",
   "execution_count": 11,
   "metadata": {
    "scrolled": false
   },
   "outputs": [
    {
     "name": "stdout",
     "output_type": "stream",
     "text": [
      "Колонки даты 'users': churn_date reg_date\n",
      "Колонки даты 'calls': call_date\n",
      "Колонки даты 'messages': message_date\n",
      "Колонки даты 'internet': session_date\n"
     ]
    }
   ],
   "source": [
    "# Ищем колонки `date` во всех имеющихся `DataFrame`, выводим на экран и дополнительно сохраняем в словарь `date_col_dict`\n",
    "date_col_dict = {}\n",
    "for df in all_df:\n",
    "    date_col = [col for col in df.columns if 'date' in col]\n",
    "    if date_col:\n",
    "        date_col_dict[df.name] = date_col\n",
    "        print(f'Колонки даты \\'{df.name}\\':', *date_col)"
   ]
  },
  {
   "cell_type": "markdown",
   "metadata": {},
   "source": [
    "Далее в п.2.2 будем приводить эти колонки к типу `DateTime`"
   ]
  },
  {
   "cell_type": "markdown",
   "metadata": {},
   "source": [
    "### 1.3.3. Дубликаты"
   ]
  },
  {
   "cell_type": "code",
   "execution_count": 12,
   "metadata": {
    "scrolled": true
   },
   "outputs": [
    {
     "name": "stdout",
     "output_type": "stream",
     "text": [
      "Дубликаты в 'users': 0\n",
      "Дубликаты в 'calls': 0\n",
      "Дубликаты в 'messages': 0\n",
      "Дубликаты в 'internet': 0\n",
      "Дубликаты в 'tariffs': 0\n"
     ]
    }
   ],
   "source": [
    "# Ищем дубликаты во всех имеющихся `DataFrame` и выводим на экран\n",
    "for df in all_df:\n",
    "    print(f'Дубликаты в \\'{df.name}\\':', df.duplicated().sum())"
   ]
  },
  {
   "cell_type": "markdown",
   "metadata": {},
   "source": [
    "Очевидных дублей нет"
   ]
  },
  {
   "cell_type": "markdown",
   "metadata": {},
   "source": [
    "### 1.3.4. Ошибки"
   ]
  },
  {
   "cell_type": "markdown",
   "metadata": {},
   "source": [
    "Проверим имеющиеся числовые значения: `users['age']`, `calls['duration']`, `internet['mb_used']` на выбросы"
   ]
  },
  {
   "cell_type": "code",
   "execution_count": 13,
   "metadata": {
    "scrolled": true
   },
   "outputs": [
    {
     "data": {
      "image/png": "[encoded data removed]",
      "text/plain": [
       "<Figure size 1080x72 with 1 Axes>"
      ]
     },
     "metadata": {
      "needs_background": "light"
     },
     "output_type": "display_data"
    },
    {
     "data": {
      "image/png": "[encoded data removed]",
      "text/plain": [
       "<Figure size 1080x72 with 1 Axes>"
      ]
     },
     "metadata": {
      "needs_background": "light"
     },
     "output_type": "display_data"
    },
    {
     "data": {
      "image/png": "[encoded data removed]",
      "text/plain": [
       "<Figure size 1080x72 with 1 Axes>"
      ]
     },
     "metadata": {
      "needs_background": "light"
     },
     "output_type": "display_data"
    }
   ],
   "source": [
    "# Можно так\n",
    "# print(users['age'].describe(),'\\n') # возраст в годах\n",
    "# print(calls['duration'].describe(),'\\n') # длительность разговора в минутах\n",
    "# print(internet['mb_used'].describe(),'\\n') # объем трафика в МБ\n",
    "\n",
    "# Но так нагляднее\n",
    "users['age'].plot.box(figsize=(15,1), grid=True, vert=False)\n",
    "plt.show()\n",
    "calls['duration'].plot.box(figsize=(15,1), grid=True, vert=False, sym='|')\n",
    "plt.show()\n",
    "internet['mb_used'].plot.box(figsize=(15,1), grid=True, vert=False, sym='|')\n",
    "plt.show()"
   ]
  },
  {
   "cell_type": "markdown",
   "metadata": {},
   "source": [
    "Вроде бы всё неплохо, теперь посмотрим на распределения этих данных"
   ]
  },
  {
   "cell_type": "code",
   "execution_count": 14,
   "metadata": {
    "scrolled": true
   },
   "outputs": [
    {
     "data": {
      "image/png": "[encoded data removed]",
      "text/plain": [
       "<Figure size 720x288 with 1 Axes>"
      ]
     },
     "metadata": {
      "needs_background": "light"
     },
     "output_type": "display_data"
    }
   ],
   "source": [
    "plt.figure(figsize=(10,4))\n",
    "users['age'].hist(bins=len(users['age'].unique()))\n",
    "plt.title('Возраст', fontsize=16)\n",
    "plt.show()"
   ]
  },
  {
   "cell_type": "code",
   "execution_count": 15,
   "metadata": {},
   "outputs": [
    {
     "data": {
      "image/png": "[encoded data removed]",
      "text/plain": [
       "<Figure size 720x288 with 1 Axes>"
      ]
     },
     "metadata": {
      "needs_background": "light"
     },
     "output_type": "display_data"
    }
   ],
   "source": [
    "plt.figure(figsize=(10,4))\n",
    "calls['duration'].hist(bins=50)\n",
    "plt.title('Длительность звонка', fontsize=16)\n",
    "plt.xlabel('Минуты')\n",
    "plt.ylabel('Частота')\n",
    "plt.show()"
   ]
  },
  {
   "cell_type": "code",
   "execution_count": 16,
   "metadata": {
    "scrolled": true
   },
   "outputs": [
    {
     "data": {
      "image/png": "[encoded data removed]",
      "text/plain": [
       "<Figure size 720x288 with 1 Axes>"
      ]
     },
     "metadata": {
      "needs_background": "light"
     },
     "output_type": "display_data"
    }
   ],
   "source": [
    "plt.figure(figsize=(10,4))\n",
    "internet['mb_used'].hist(bins=50)\n",
    "plt.title('Объем трафика', fontsize=16)\n",
    "plt.xlabel('Мегабайты')\n",
    "plt.ylabel('Частота')\n",
    "plt.show()"
   ]
  },
  {
   "cell_type": "markdown",
   "metadata": {},
   "source": [
    "**Вывод по 1.3:**\n",
    "- с нулевыми пиками на гистограммах звонков и трафика необходимо что-то делать\n",
    "- колонки с датами необходимо привести к типу `DateTime`\n",
    "- выбросов нет\n",
    "- явных дублей нет\n",
    "- критичных пропусков нет"
   ]
  },
  {
   "cell_type": "markdown",
   "metadata": {},
   "source": [
    "Критических ошибок в данных обнаружено не было.\n",
    "        \n",
    "Большое количество \"пустых\" звонков - очевидно, что это несостоявщиеся разговоры. Т.к. у оператора они никак не тарифицируются, то для дальнейших вычислений нам эти значения попросту не нужны.\n",
    "        \n",
    "Аналогичная ситуация с \"пустыми\" сессиями. Вероятно, многие пользователи постоянно используют режим пакетной передачи данных на своих смартфонах, но при этом никаких данных не передают.     "
   ]
  },
  {
   "cell_type": "markdown",
   "metadata": {},
   "source": [
    "# 2. Предобработка"
   ]
  },
  {
   "cell_type": "markdown",
   "metadata": {},
   "source": [
    "### 2.1. Пропуски\n",
    "Оставим пропуски `churn_date` на местах"
   ]
  },
  {
   "cell_type": "markdown",
   "metadata": {},
   "source": [
    "### 2.2. Типы данных"
   ]
  },
  {
   "cell_type": "markdown",
   "metadata": {},
   "source": [
    "Приводим к типу `DateTime`"
   ]
  },
  {
   "cell_type": "code",
   "execution_count": 17,
   "metadata": {},
   "outputs": [],
   "source": [
    "for df in all_df:\n",
    "    if df.name in date_col_dict: # словарь date_col_dict был определен в п.1.3.2\n",
    "        for col in date_col_dict[df.name]:\n",
    "            df[col] = pd.to_datetime(df[col], format='%Y-%m-%d')"
   ]
  },
  {
   "cell_type": "markdown",
   "metadata": {},
   "source": [
    "Проверяем"
   ]
  },
  {
   "cell_type": "code",
   "execution_count": 18,
   "metadata": {
    "scrolled": false
   },
   "outputs": [
    {
     "name": "stdout",
     "output_type": "stream",
     "text": [
      "Тип users['user_id'] = int64\n",
      "Тип users['age'] = int64\n",
      "Тип users['churn_date'] = datetime64[ns]\n",
      "Тип users['city'] = object\n",
      "Тип users['first_name'] = object\n",
      "Тип users['last_name'] = object\n",
      "Тип users['reg_date'] = datetime64[ns]\n",
      "Тип users['tariff'] = object\n",
      "\n",
      "Тип calls['id'] = object\n",
      "Тип calls['call_date'] = datetime64[ns]\n",
      "Тип calls['duration'] = float64\n",
      "Тип calls['user_id'] = int64\n",
      "\n",
      "Тип messages['id'] = object\n",
      "Тип messages['message_date'] = datetime64[ns]\n",
      "Тип messages['user_id'] = int64\n",
      "\n",
      "Тип internet['Unnamed: 0'] = int64\n",
      "Тип internet['id'] = object\n",
      "Тип internet['mb_used'] = float64\n",
      "Тип internet['session_date'] = datetime64[ns]\n",
      "Тип internet['user_id'] = int64\n",
      "\n",
      "Тип tariffs['messages_included'] = int64\n",
      "Тип tariffs['mb_per_month_included'] = int64\n",
      "Тип tariffs['minutes_included'] = int64\n",
      "Тип tariffs['rub_monthly_fee'] = int64\n",
      "Тип tariffs['rub_per_gb'] = int64\n",
      "Тип tariffs['rub_per_message'] = int64\n",
      "Тип tariffs['rub_per_minute'] = int64\n",
      "Тип tariffs['tariff_name'] = object\n",
      "\n"
     ]
    }
   ],
   "source": [
    "for df in all_df:\n",
    "    for col in df.columns:\n",
    "        print(f'Тип {df.name}[\\'{col}\\'] = {df[col].dtype.name}')\n",
    "    print()"
   ]
  },
  {
   "cell_type": "markdown",
   "metadata": {},
   "source": [
    "Альтернативное отображение:"
   ]
  },
  {
   "cell_type": "code",
   "execution_count": 19,
   "metadata": {},
   "outputs": [
    {
     "data": {
      "text/html": [
       "<div>\n",
       "<style scoped>\n",
       "    .dataframe tbody tr th:only-of-type {\n",
       "        vertical-align: middle;\n",
       "    }\n",
       "\n",
       "    .dataframe tbody tr th {\n",
       "        vertical-align: top;\n",
       "    }\n",
       "\n",
       "    .dataframe thead th {\n",
       "        text-align: right;\n",
       "    }\n",
       "</style>\n",
       "<table border=\"1\" class=\"dataframe\">\n",
       "  <thead>\n",
       "    <tr style=\"text-align: right;\">\n",
       "      <th></th>\n",
       "      <th></th>\n",
       "      <th>dtype</th>\n",
       "    </tr>\n",
       "    <tr>\n",
       "      <th>table</th>\n",
       "      <th>column</th>\n",
       "      <th></th>\n",
       "    </tr>\n",
       "  </thead>\n",
       "  <tbody>\n",
       "    <tr>\n",
       "      <td rowspan=\"8\" valign=\"top\">users</td>\n",
       "      <td>user_id</td>\n",
       "      <td>int64</td>\n",
       "    </tr>\n",
       "    <tr>\n",
       "      <td>age</td>\n",
       "      <td>int64</td>\n",
       "    </tr>\n",
       "    <tr>\n",
       "      <td>churn_date</td>\n",
       "      <td>datetime64[ns]</td>\n",
       "    </tr>\n",
       "    <tr>\n",
       "      <td>city</td>\n",
       "      <td>object</td>\n",
       "    </tr>\n",
       "    <tr>\n",
       "      <td>first_name</td>\n",
       "      <td>object</td>\n",
       "    </tr>\n",
       "    <tr>\n",
       "      <td>last_name</td>\n",
       "      <td>object</td>\n",
       "    </tr>\n",
       "    <tr>\n",
       "      <td>reg_date</td>\n",
       "      <td>datetime64[ns]</td>\n",
       "    </tr>\n",
       "    <tr>\n",
       "      <td>tariff</td>\n",
       "      <td>object</td>\n",
       "    </tr>\n",
       "    <tr>\n",
       "      <td rowspan=\"4\" valign=\"top\">calls</td>\n",
       "      <td>id</td>\n",
       "      <td>object</td>\n",
       "    </tr>\n",
       "    <tr>\n",
       "      <td>call_date</td>\n",
       "      <td>datetime64[ns]</td>\n",
       "    </tr>\n",
       "    <tr>\n",
       "      <td>duration</td>\n",
       "      <td>float64</td>\n",
       "    </tr>\n",
       "    <tr>\n",
       "      <td>user_id</td>\n",
       "      <td>int64</td>\n",
       "    </tr>\n",
       "    <tr>\n",
       "      <td rowspan=\"3\" valign=\"top\">messages</td>\n",
       "      <td>id</td>\n",
       "      <td>object</td>\n",
       "    </tr>\n",
       "    <tr>\n",
       "      <td>message_date</td>\n",
       "      <td>datetime64[ns]</td>\n",
       "    </tr>\n",
       "    <tr>\n",
       "      <td>user_id</td>\n",
       "      <td>int64</td>\n",
       "    </tr>\n",
       "    <tr>\n",
       "      <td rowspan=\"5\" valign=\"top\">internet</td>\n",
       "      <td>Unnamed: 0</td>\n",
       "      <td>int64</td>\n",
       "    </tr>\n",
       "    <tr>\n",
       "      <td>id</td>\n",
       "      <td>object</td>\n",
       "    </tr>\n",
       "    <tr>\n",
       "      <td>mb_used</td>\n",
       "      <td>float64</td>\n",
       "    </tr>\n",
       "    <tr>\n",
       "      <td>session_date</td>\n",
       "      <td>datetime64[ns]</td>\n",
       "    </tr>\n",
       "    <tr>\n",
       "      <td>user_id</td>\n",
       "      <td>int64</td>\n",
       "    </tr>\n",
       "    <tr>\n",
       "      <td rowspan=\"8\" valign=\"top\">tariffs</td>\n",
       "      <td>messages_included</td>\n",
       "      <td>int64</td>\n",
       "    </tr>\n",
       "    <tr>\n",
       "      <td>mb_per_month_included</td>\n",
       "      <td>int64</td>\n",
       "    </tr>\n",
       "    <tr>\n",
       "      <td>minutes_included</td>\n",
       "      <td>int64</td>\n",
       "    </tr>\n",
       "    <tr>\n",
       "      <td>rub_monthly_fee</td>\n",
       "      <td>int64</td>\n",
       "    </tr>\n",
       "    <tr>\n",
       "      <td>rub_per_gb</td>\n",
       "      <td>int64</td>\n",
       "    </tr>\n",
       "    <tr>\n",
       "      <td>rub_per_message</td>\n",
       "      <td>int64</td>\n",
       "    </tr>\n",
       "    <tr>\n",
       "      <td>rub_per_minute</td>\n",
       "      <td>int64</td>\n",
       "    </tr>\n",
       "    <tr>\n",
       "      <td>tariff_name</td>\n",
       "      <td>object</td>\n",
       "    </tr>\n",
       "  </tbody>\n",
       "</table>\n",
       "</div>"
      ],
      "text/plain": [
       "                                         dtype\n",
       "table    column                               \n",
       "users    user_id                         int64\n",
       "         age                             int64\n",
       "         churn_date             datetime64[ns]\n",
       "         city                           object\n",
       "         first_name                     object\n",
       "         last_name                      object\n",
       "         reg_date               datetime64[ns]\n",
       "         tariff                         object\n",
       "calls    id                             object\n",
       "         call_date              datetime64[ns]\n",
       "         duration                      float64\n",
       "         user_id                         int64\n",
       "messages id                             object\n",
       "         message_date           datetime64[ns]\n",
       "         user_id                         int64\n",
       "internet Unnamed: 0                      int64\n",
       "         id                             object\n",
       "         mb_used                       float64\n",
       "         session_date           datetime64[ns]\n",
       "         user_id                         int64\n",
       "tariffs  messages_included               int64\n",
       "         mb_per_month_included           int64\n",
       "         minutes_included                int64\n",
       "         rub_monthly_fee                 int64\n",
       "         rub_per_gb                      int64\n",
       "         rub_per_message                 int64\n",
       "         rub_per_minute                  int64\n",
       "         tariff_name                    object"
      ]
     },
     "execution_count": 19,
     "metadata": {},
     "output_type": "execute_result"
    }
   ],
   "source": [
    "dtypes = pd.DataFrame(columns=['table','column','dtype'])\n",
    "\n",
    "for df in all_df:\n",
    "    for col in df.columns:\n",
    "        dtypes = dtypes.append({'table': df.name, 'column': col, 'dtype': df[col].dtype.name}, ignore_index=True)\n",
    "\n",
    "dtypes.set_index(['table','column'])"
   ]
  },
  {
   "cell_type": "markdown",
   "metadata": {},
   "source": [
    "### 2.3. Замены ошибок"
   ]
  },
  {
   "cell_type": "markdown",
   "metadata": {},
   "source": [
    "#### 2.3.1"
   ]
  },
  {
   "cell_type": "markdown",
   "metadata": {},
   "source": [
    "Установим корректный индекс в `internet`"
   ]
  },
  {
   "cell_type": "code",
   "execution_count": 20,
   "metadata": {},
   "outputs": [],
   "source": [
    "internet.set_index('Unnamed: 0', inplace=True)"
   ]
  },
  {
   "cell_type": "markdown",
   "metadata": {},
   "source": [
    "#### 2.3.2. Длительность звонка"
   ]
  },
  {
   "cell_type": "markdown",
   "metadata": {},
   "source": [
    "Скорее всего поля `0` минут - это неотвеченные вызовы. Посмотрим, какова ситуация без них"
   ]
  },
  {
   "cell_type": "code",
   "execution_count": 21,
   "metadata": {},
   "outputs": [
    {
     "name": "stdout",
     "output_type": "stream",
     "text": [
      "Кол-во пропущенных вызовов: 39613\n",
      "\n",
      "С пропущенными вызовами:\n",
      " count    202607.000000\n",
      "mean          6.755887\n",
      "std           5.843365\n",
      "min           0.000000\n",
      "25%           1.300000\n",
      "50%           6.000000\n",
      "75%          10.700000\n",
      "max          38.000000\n",
      "Name: duration, dtype: float64\n",
      "\n",
      "Без пропущенных вызовов:\n",
      " count    162994.000000\n",
      "mean          8.397794\n",
      "std           5.353022\n",
      "min           0.010000\n",
      "25%           4.170000\n",
      "50%           7.740000\n",
      "75%          11.850000\n",
      "max          38.000000\n",
      "Name: duration, dtype: float64\n"
     ]
    },
    {
     "data": {
      "image/png": "[encoded data removed]",
      "text/plain": [
       "<Figure size 720x288 with 1 Axes>"
      ]
     },
     "metadata": {
      "needs_background": "light"
     },
     "output_type": "display_data"
    }
   ],
   "source": [
    "print('Кол-во пропущенных вызовов:',(calls['duration'] == 0).sum())\n",
    "print()\n",
    "print('С пропущенными вызовами:\\n',calls['duration'].describe())\n",
    "print()\n",
    "print('Без пропущенных вызовов:\\n',calls[calls['duration'] != 0]['duration'].describe())\n",
    "\n",
    "plt.figure(figsize=(10,4))\n",
    "calls[(calls['duration'] != 0)]['duration'].hist(bins=50)\n",
    "plt.title('Длительность звонка', fontsize=16)\n",
    "plt.xlabel('Минуты')\n",
    "plt.ylabel('Частота')\n",
    "plt.show()"
   ]
  },
  {
   "cell_type": "markdown",
   "metadata": {},
   "source": [
    "#### 2.3.3 Объем трафика\n",
    "Оценим теперь маленькие значения трафика"
   ]
  },
  {
   "cell_type": "code",
   "execution_count": 22,
   "metadata": {},
   "outputs": [
    {
     "name": "stdout",
     "output_type": "stream",
     "text": [
      "Кол-во сессий без трафика: 19598\n",
      "\n",
      "С нулевыми сессиями:\n",
      " count    149396.000000\n",
      "mean        370.192426\n",
      "std         278.300951\n",
      "min           0.000000\n",
      "25%         138.187500\n",
      "50%         348.015000\n",
      "75%         559.552500\n",
      "max        1724.830000\n",
      "Name: mb_used, dtype: float64\n",
      "\n",
      "Без нулевых сессий:\n",
      " count    129798.000000\n",
      "mean        426.087210\n",
      "std         255.596447\n",
      "min           0.030000\n",
      "25%         227.460000\n",
      "50%         400.540000\n",
      "75%         592.947500\n",
      "max        1724.830000\n",
      "Name: mb_used, dtype: float64\n"
     ]
    },
    {
     "data": {
      "image/png": "[encoded data removed]",
      "text/plain": [
       "<Figure size 720x288 with 1 Axes>"
      ]
     },
     "metadata": {
      "needs_background": "light"
     },
     "output_type": "display_data"
    }
   ],
   "source": [
    "print('Кол-во сессий без трафика:',(internet[internet['mb_used'] == 0]['mb_used'].count()))\n",
    "print()\n",
    "print('С нулевыми сессиями:\\n',internet['mb_used'].describe())\n",
    "print()\n",
    "print('Без нулевых сессий:\\n',internet[internet['mb_used'] != 0]['mb_used'].describe())\n",
    "\n",
    "plt.figure(figsize=(10,4))\n",
    "internet[internet['mb_used'] != 0]['mb_used'].hist(bins=50)\n",
    "plt.title('Объем трафика', fontsize=16)\n",
    "plt.xlabel('Мегабайты')\n",
    "plt.ylabel('Частота')\n",
    "plt.show()"
   ]
  },
  {
   "cell_type": "markdown",
   "metadata": {},
   "source": [
    "**Вывод 2.3:** Очевидно, что необходимо будет при рассчетах учитывать влияние 39613 пропущенных звонков и 19598 сессий без трафика. Но т.к. в описании к тарифам не указано, оплачиваются ли такие звонки и интернет-сессии, то учитывать последние не обязательно"
   ]
  },
  {
   "cell_type": "markdown",
   "metadata": {},
   "source": [
    "# 3. Рассчеты\n",
    "Добавим колонку с округленной вверх длительностью разговоров и объемом трафика:"
   ]
  },
  {
   "cell_type": "code",
   "execution_count": 23,
   "metadata": {},
   "outputs": [],
   "source": [
    "calls['duration_ceil'] = calls['duration'].apply(ceil)\n",
    "internet['mb_used_ceil'] = internet['mb_used'].apply(ceil)"
   ]
  },
  {
   "cell_type": "markdown",
   "metadata": {},
   "source": [
    "Для каждого пользователя произведем следующие рассчеты:"
   ]
  },
  {
   "cell_type": "markdown",
   "metadata": {},
   "source": [
    "## 3.1. Количество сделанных звонков и израсходованных минут разговора по месяцам"
   ]
  },
  {
   "cell_type": "markdown",
   "metadata": {},
   "source": [
    "Создадим сводные таблицы для количества пропущенных и нормальных звонков и суммарной длительности разговоров по месяцам для каждого пользователя"
   ]
  },
  {
   "cell_type": "code",
   "execution_count": 24,
   "metadata": {
    "scrolled": false
   },
   "outputs": [],
   "source": [
    "# Количество и длительность нормальных звонков по месяцам\n",
    "by_month = calls[calls['duration_ceil'] != 0].pivot_table(index=['user_id',calls['call_date'].dt.month],\n",
    "                                                          aggfunc={'duration_ceil':['count', 'sum']},\n",
    "                                                          dropna=False,\n",
    "                                                          fill_value=0\n",
    "                                                         )\n",
    "# переименуем oсь индексов `call_date` на `month`\n",
    "by_month.rename_axis(['user_id','month'], inplace=True)\n",
    "# Уберем мультииндекс колонок\n",
    "by_month.columns = ['calls_count','calls_duration']"
   ]
  },
  {
   "cell_type": "code",
   "execution_count": 25,
   "metadata": {},
   "outputs": [
    {
     "data": {
      "text/html": [
       "<div>\n",
       "<style scoped>\n",
       "    .dataframe tbody tr th:only-of-type {\n",
       "        vertical-align: middle;\n",
       "    }\n",
       "\n",
       "    .dataframe tbody tr th {\n",
       "        vertical-align: top;\n",
       "    }\n",
       "\n",
       "    .dataframe thead th {\n",
       "        text-align: right;\n",
       "    }\n",
       "</style>\n",
       "<table border=\"1\" class=\"dataframe\">\n",
       "  <thead>\n",
       "    <tr style=\"text-align: right;\">\n",
       "      <th></th>\n",
       "      <th></th>\n",
       "      <th>calls_count</th>\n",
       "      <th>calls_duration</th>\n",
       "    </tr>\n",
       "    <tr>\n",
       "      <th>user_id</th>\n",
       "      <th>month</th>\n",
       "      <th></th>\n",
       "      <th></th>\n",
       "    </tr>\n",
       "  </thead>\n",
       "  <tbody>\n",
       "    <tr>\n",
       "      <td rowspan=\"5\" valign=\"top\">1000</td>\n",
       "      <td>1</td>\n",
       "      <td>0</td>\n",
       "      <td>0</td>\n",
       "    </tr>\n",
       "    <tr>\n",
       "      <td>2</td>\n",
       "      <td>0</td>\n",
       "      <td>0</td>\n",
       "    </tr>\n",
       "    <tr>\n",
       "      <td>3</td>\n",
       "      <td>0</td>\n",
       "      <td>0</td>\n",
       "    </tr>\n",
       "    <tr>\n",
       "      <td>4</td>\n",
       "      <td>0</td>\n",
       "      <td>0</td>\n",
       "    </tr>\n",
       "    <tr>\n",
       "      <td>5</td>\n",
       "      <td>17</td>\n",
       "      <td>159</td>\n",
       "    </tr>\n",
       "    <tr>\n",
       "      <td>...</td>\n",
       "      <td>...</td>\n",
       "      <td>...</td>\n",
       "      <td>...</td>\n",
       "    </tr>\n",
       "    <tr>\n",
       "      <td rowspan=\"5\" valign=\"top\">1499</td>\n",
       "      <td>8</td>\n",
       "      <td>0</td>\n",
       "      <td>0</td>\n",
       "    </tr>\n",
       "    <tr>\n",
       "      <td>9</td>\n",
       "      <td>8</td>\n",
       "      <td>70</td>\n",
       "    </tr>\n",
       "    <tr>\n",
       "      <td>10</td>\n",
       "      <td>44</td>\n",
       "      <td>449</td>\n",
       "    </tr>\n",
       "    <tr>\n",
       "      <td>11</td>\n",
       "      <td>62</td>\n",
       "      <td>612</td>\n",
       "    </tr>\n",
       "    <tr>\n",
       "      <td>12</td>\n",
       "      <td>56</td>\n",
       "      <td>492</td>\n",
       "    </tr>\n",
       "  </tbody>\n",
       "</table>\n",
       "<p>5904 rows × 2 columns</p>\n",
       "</div>"
      ],
      "text/plain": [
       "               calls_count  calls_duration\n",
       "user_id month                             \n",
       "1000    1                0               0\n",
       "        2                0               0\n",
       "        3                0               0\n",
       "        4                0               0\n",
       "        5               17             159\n",
       "...                    ...             ...\n",
       "1499    8                0               0\n",
       "        9                8              70\n",
       "        10              44             449\n",
       "        11              62             612\n",
       "        12              56             492\n",
       "\n",
       "[5904 rows x 2 columns]"
      ]
     },
     "execution_count": 25,
     "metadata": {},
     "output_type": "execute_result"
    }
   ],
   "source": [
    "# проверка\n",
    "by_month"
   ]
  },
  {
   "cell_type": "markdown",
   "metadata": {},
   "source": [
    "Можно не хранить все данные, убрав параметр dropna=False из метода .pivot_table()\n",
    "        \n",
    "Объясню, почему сделал полную таблицу: мне хотелось видеть полную статистику по всем 500 абонентам за каждый из 12 месяцев (6000 строк). Так можно понять, что некоторые абоненты совсем не проявляют активности. в пункте 3.2 видно, что записей станет 5976, что соответствует 498 абонентам, т.е. 2 человека целый год не пользовались связью"
   ]
  },
  {
   "cell_type": "markdown",
   "metadata": {},
   "source": [
    "## 3.2. Количество отправленных сообщений по месяцам\n",
    "Аналогичные рассчеты для количества сообщений"
   ]
  },
  {
   "cell_type": "code",
   "execution_count": 26,
   "metadata": {},
   "outputs": [],
   "source": [
    "# применяем склеивание данных из обоих таблиц, чтобы не упустить непересекающиеся индексы\n",
    "by_month = pd.concat([by_month, messages.pivot_table(index=['user_id', messages['message_date'].dt.month],\n",
    "                                                     aggfunc={'id':'count'},\n",
    "                                                     dropna=False,\n",
    "                                                     fill_value=0)],\n",
    "                     axis = 1)\n",
    "by_month.columns = ['calls_count', 'calls_duration', 'message_count']"
   ]
  },
  {
   "cell_type": "markdown",
   "metadata": {},
   "source": [
    "Заменим появившиеся после сколеивания `NaN` на `0`"
   ]
  },
  {
   "cell_type": "code",
   "execution_count": 27,
   "metadata": {
    "scrolled": false
   },
   "outputs": [
    {
     "data": {
      "text/html": [
       "<div>\n",
       "<style scoped>\n",
       "    .dataframe tbody tr th:only-of-type {\n",
       "        vertical-align: middle;\n",
       "    }\n",
       "\n",
       "    .dataframe tbody tr th {\n",
       "        vertical-align: top;\n",
       "    }\n",
       "\n",
       "    .dataframe thead th {\n",
       "        text-align: right;\n",
       "    }\n",
       "</style>\n",
       "<table border=\"1\" class=\"dataframe\">\n",
       "  <thead>\n",
       "    <tr style=\"text-align: right;\">\n",
       "      <th></th>\n",
       "      <th></th>\n",
       "      <th>calls_count</th>\n",
       "      <th>calls_duration</th>\n",
       "      <th>message_count</th>\n",
       "    </tr>\n",
       "    <tr>\n",
       "      <th>user_id</th>\n",
       "      <th>month</th>\n",
       "      <th></th>\n",
       "      <th></th>\n",
       "      <th></th>\n",
       "    </tr>\n",
       "  </thead>\n",
       "  <tbody>\n",
       "    <tr>\n",
       "      <td rowspan=\"5\" valign=\"top\">1000</td>\n",
       "      <td>1</td>\n",
       "      <td>0.0</td>\n",
       "      <td>0.0</td>\n",
       "      <td>0.0</td>\n",
       "    </tr>\n",
       "    <tr>\n",
       "      <td>2</td>\n",
       "      <td>0.0</td>\n",
       "      <td>0.0</td>\n",
       "      <td>0.0</td>\n",
       "    </tr>\n",
       "    <tr>\n",
       "      <td>3</td>\n",
       "      <td>0.0</td>\n",
       "      <td>0.0</td>\n",
       "      <td>0.0</td>\n",
       "    </tr>\n",
       "    <tr>\n",
       "      <td>4</td>\n",
       "      <td>0.0</td>\n",
       "      <td>0.0</td>\n",
       "      <td>0.0</td>\n",
       "    </tr>\n",
       "    <tr>\n",
       "      <td>5</td>\n",
       "      <td>17.0</td>\n",
       "      <td>159.0</td>\n",
       "      <td>22.0</td>\n",
       "    </tr>\n",
       "    <tr>\n",
       "      <td>...</td>\n",
       "      <td>...</td>\n",
       "      <td>...</td>\n",
       "      <td>...</td>\n",
       "      <td>...</td>\n",
       "    </tr>\n",
       "    <tr>\n",
       "      <td rowspan=\"5\" valign=\"top\">1499</td>\n",
       "      <td>8</td>\n",
       "      <td>0.0</td>\n",
       "      <td>0.0</td>\n",
       "      <td>0.0</td>\n",
       "    </tr>\n",
       "    <tr>\n",
       "      <td>9</td>\n",
       "      <td>8.0</td>\n",
       "      <td>70.0</td>\n",
       "      <td>11.0</td>\n",
       "    </tr>\n",
       "    <tr>\n",
       "      <td>10</td>\n",
       "      <td>44.0</td>\n",
       "      <td>449.0</td>\n",
       "      <td>48.0</td>\n",
       "    </tr>\n",
       "    <tr>\n",
       "      <td>11</td>\n",
       "      <td>62.0</td>\n",
       "      <td>612.0</td>\n",
       "      <td>59.0</td>\n",
       "    </tr>\n",
       "    <tr>\n",
       "      <td>12</td>\n",
       "      <td>56.0</td>\n",
       "      <td>492.0</td>\n",
       "      <td>66.0</td>\n",
       "    </tr>\n",
       "  </tbody>\n",
       "</table>\n",
       "<p>5976 rows × 3 columns</p>\n",
       "</div>"
      ],
      "text/plain": [
       "               calls_count  calls_duration  message_count\n",
       "user_id month                                            \n",
       "1000    1              0.0             0.0            0.0\n",
       "        2              0.0             0.0            0.0\n",
       "        3              0.0             0.0            0.0\n",
       "        4              0.0             0.0            0.0\n",
       "        5             17.0           159.0           22.0\n",
       "...                    ...             ...            ...\n",
       "1499    8              0.0             0.0            0.0\n",
       "        9              8.0            70.0           11.0\n",
       "        10            44.0           449.0           48.0\n",
       "        11            62.0           612.0           59.0\n",
       "        12            56.0           492.0           66.0\n",
       "\n",
       "[5976 rows x 3 columns]"
      ]
     },
     "execution_count": 27,
     "metadata": {},
     "output_type": "execute_result"
    }
   ],
   "source": [
    "by_month.fillna(0, inplace=True)\n",
    "by_month.rename_axis(['user_id','month'], inplace=True)\n",
    "by_month"
   ]
  },
  {
   "cell_type": "markdown",
   "metadata": {},
   "source": [
    "Добавилось 72 строки, видимо к первой таблице добавились дополнительные индексы (некоторые клиенты в какие-то месяцы пользовались только СМС)"
   ]
  },
  {
   "cell_type": "markdown",
   "metadata": {},
   "source": [
    "## 3.3. Объем израсходованного интернет-трафика по месяцам\n"
   ]
  },
  {
   "cell_type": "code",
   "execution_count": 28,
   "metadata": {},
   "outputs": [],
   "source": [
    "# применяем склеивание данных из обоих таблиц, чтобы не упустить непересекающиеся индексы\n",
    "by_month = pd.concat([by_month, internet.pivot_table(index=['user_id', internet['session_date'].dt.month],\n",
    "                                          aggfunc={'mb_used_ceil':'sum'},\n",
    "                                          dropna=False,\n",
    "                                          fill_value=0)], axis = 1)\n",
    "by_month.columns = ['calls_count', 'calls_duration', 'message_count', 'traffic_mb']"
   ]
  },
  {
   "cell_type": "markdown",
   "metadata": {},
   "source": [
    "Заменим появившиеся после сколеивания `NaN` на `0`"
   ]
  },
  {
   "cell_type": "code",
   "execution_count": 29,
   "metadata": {},
   "outputs": [],
   "source": [
    "by_month.fillna(0, inplace=True)"
   ]
  },
  {
   "cell_type": "code",
   "execution_count": 30,
   "metadata": {},
   "outputs": [
    {
     "data": {
      "text/html": [
       "<div>\n",
       "<style scoped>\n",
       "    .dataframe tbody tr th:only-of-type {\n",
       "        vertical-align: middle;\n",
       "    }\n",
       "\n",
       "    .dataframe tbody tr th {\n",
       "        vertical-align: top;\n",
       "    }\n",
       "\n",
       "    .dataframe thead th {\n",
       "        text-align: right;\n",
       "    }\n",
       "</style>\n",
       "<table border=\"1\" class=\"dataframe\">\n",
       "  <thead>\n",
       "    <tr style=\"text-align: right;\">\n",
       "      <th></th>\n",
       "      <th></th>\n",
       "      <th>calls_count</th>\n",
       "      <th>calls_duration</th>\n",
       "      <th>message_count</th>\n",
       "      <th>traffic_mb</th>\n",
       "    </tr>\n",
       "    <tr>\n",
       "      <th>user_id</th>\n",
       "      <th>month</th>\n",
       "      <th></th>\n",
       "      <th></th>\n",
       "      <th></th>\n",
       "      <th></th>\n",
       "    </tr>\n",
       "  </thead>\n",
       "  <tbody>\n",
       "    <tr>\n",
       "      <td rowspan=\"5\" valign=\"top\">1000</td>\n",
       "      <td>1</td>\n",
       "      <td>0.0</td>\n",
       "      <td>0.0</td>\n",
       "      <td>0.0</td>\n",
       "      <td>0.0</td>\n",
       "    </tr>\n",
       "    <tr>\n",
       "      <td>2</td>\n",
       "      <td>0.0</td>\n",
       "      <td>0.0</td>\n",
       "      <td>0.0</td>\n",
       "      <td>0.0</td>\n",
       "    </tr>\n",
       "    <tr>\n",
       "      <td>3</td>\n",
       "      <td>0.0</td>\n",
       "      <td>0.0</td>\n",
       "      <td>0.0</td>\n",
       "      <td>0.0</td>\n",
       "    </tr>\n",
       "    <tr>\n",
       "      <td>4</td>\n",
       "      <td>0.0</td>\n",
       "      <td>0.0</td>\n",
       "      <td>0.0</td>\n",
       "      <td>0.0</td>\n",
       "    </tr>\n",
       "    <tr>\n",
       "      <td>5</td>\n",
       "      <td>17.0</td>\n",
       "      <td>159.0</td>\n",
       "      <td>22.0</td>\n",
       "      <td>2256.0</td>\n",
       "    </tr>\n",
       "  </tbody>\n",
       "</table>\n",
       "</div>"
      ],
      "text/plain": [
       "               calls_count  calls_duration  message_count  traffic_mb\n",
       "user_id month                                                        \n",
       "1000    1              0.0             0.0            0.0         0.0\n",
       "        2              0.0             0.0            0.0         0.0\n",
       "        3              0.0             0.0            0.0         0.0\n",
       "        4              0.0             0.0            0.0         0.0\n",
       "        5             17.0           159.0           22.0      2256.0"
      ]
     },
     "execution_count": 30,
     "metadata": {},
     "output_type": "execute_result"
    }
   ],
   "source": [
    "# почему-то слетает название оси с индексами\n",
    "# поэтому устанавливаем снова и смотрим итог\n",
    "by_month.rename_axis(['user_id','month'], inplace=True)\n",
    "by_month.head()"
   ]
  },
  {
   "cell_type": "markdown",
   "metadata": {},
   "source": [
    "## 3.4. Помесячная выручка с каждого пользователя\n"
   ]
  },
  {
   "cell_type": "markdown",
   "metadata": {},
   "source": [
    "Сначала в `by_month` добавим по `user_id` колонки `reg_date`,`churn_date`,`city`,`tariff` из таблицы `users`"
   ]
  },
  {
   "cell_type": "code",
   "execution_count": 31,
   "metadata": {},
   "outputs": [],
   "source": [
    "by_month = (by_month\n",
    " .join(users.set_index('user_id')[['reg_date','churn_date','city','tariff']])\n",
    "#  .join(tariffs.set_index('tariff_name'), on='tariff')\n",
    ")"
   ]
  },
  {
   "cell_type": "code",
   "execution_count": 32,
   "metadata": {},
   "outputs": [
    {
     "data": {
      "text/html": [
       "<div>\n",
       "<style scoped>\n",
       "    .dataframe tbody tr th:only-of-type {\n",
       "        vertical-align: middle;\n",
       "    }\n",
       "\n",
       "    .dataframe tbody tr th {\n",
       "        vertical-align: top;\n",
       "    }\n",
       "\n",
       "    .dataframe thead th {\n",
       "        text-align: right;\n",
       "    }\n",
       "</style>\n",
       "<table border=\"1\" class=\"dataframe\">\n",
       "  <thead>\n",
       "    <tr style=\"text-align: right;\">\n",
       "      <th></th>\n",
       "      <th>user_id</th>\n",
       "      <th>month</th>\n",
       "      <th>calls_count</th>\n",
       "      <th>calls_duration</th>\n",
       "      <th>message_count</th>\n",
       "      <th>traffic_mb</th>\n",
       "      <th>reg_date</th>\n",
       "      <th>churn_date</th>\n",
       "      <th>city</th>\n",
       "      <th>tariff</th>\n",
       "    </tr>\n",
       "  </thead>\n",
       "  <tbody>\n",
       "    <tr>\n",
       "      <td>0</td>\n",
       "      <td>1000</td>\n",
       "      <td>1</td>\n",
       "      <td>0.0</td>\n",
       "      <td>0.0</td>\n",
       "      <td>0.0</td>\n",
       "      <td>0.0</td>\n",
       "      <td>2018-05-25</td>\n",
       "      <td>NaT</td>\n",
       "      <td>Краснодар</td>\n",
       "      <td>ultra</td>\n",
       "    </tr>\n",
       "    <tr>\n",
       "      <td>1</td>\n",
       "      <td>1000</td>\n",
       "      <td>2</td>\n",
       "      <td>0.0</td>\n",
       "      <td>0.0</td>\n",
       "      <td>0.0</td>\n",
       "      <td>0.0</td>\n",
       "      <td>2018-05-25</td>\n",
       "      <td>NaT</td>\n",
       "      <td>Краснодар</td>\n",
       "      <td>ultra</td>\n",
       "    </tr>\n",
       "    <tr>\n",
       "      <td>2</td>\n",
       "      <td>1000</td>\n",
       "      <td>3</td>\n",
       "      <td>0.0</td>\n",
       "      <td>0.0</td>\n",
       "      <td>0.0</td>\n",
       "      <td>0.0</td>\n",
       "      <td>2018-05-25</td>\n",
       "      <td>NaT</td>\n",
       "      <td>Краснодар</td>\n",
       "      <td>ultra</td>\n",
       "    </tr>\n",
       "    <tr>\n",
       "      <td>3</td>\n",
       "      <td>1000</td>\n",
       "      <td>4</td>\n",
       "      <td>0.0</td>\n",
       "      <td>0.0</td>\n",
       "      <td>0.0</td>\n",
       "      <td>0.0</td>\n",
       "      <td>2018-05-25</td>\n",
       "      <td>NaT</td>\n",
       "      <td>Краснодар</td>\n",
       "      <td>ultra</td>\n",
       "    </tr>\n",
       "    <tr>\n",
       "      <td>4</td>\n",
       "      <td>1000</td>\n",
       "      <td>5</td>\n",
       "      <td>17.0</td>\n",
       "      <td>159.0</td>\n",
       "      <td>22.0</td>\n",
       "      <td>2256.0</td>\n",
       "      <td>2018-05-25</td>\n",
       "      <td>NaT</td>\n",
       "      <td>Краснодар</td>\n",
       "      <td>ultra</td>\n",
       "    </tr>\n",
       "  </tbody>\n",
       "</table>\n",
       "</div>"
      ],
      "text/plain": [
       "   user_id  month  calls_count  calls_duration  message_count  traffic_mb  \\\n",
       "0     1000      1          0.0             0.0            0.0         0.0   \n",
       "1     1000      2          0.0             0.0            0.0         0.0   \n",
       "2     1000      3          0.0             0.0            0.0         0.0   \n",
       "3     1000      4          0.0             0.0            0.0         0.0   \n",
       "4     1000      5         17.0           159.0           22.0      2256.0   \n",
       "\n",
       "    reg_date churn_date       city tariff  \n",
       "0 2018-05-25        NaT  Краснодар  ultra  \n",
       "1 2018-05-25        NaT  Краснодар  ultra  \n",
       "2 2018-05-25        NaT  Краснодар  ultra  \n",
       "3 2018-05-25        NaT  Краснодар  ultra  \n",
       "4 2018-05-25        NaT  Краснодар  ultra  "
      ]
     },
     "execution_count": 32,
     "metadata": {},
     "output_type": "execute_result"
    }
   ],
   "source": [
    "by_month.reset_index(inplace=True)\n",
    "# пример\n",
    "by_month.head()"
   ]
  },
  {
   "cell_type": "markdown",
   "metadata": {},
   "source": [
    "Определяем функцию для подсчета выручки из нашей таблицы\n",
    "\n",
    "Необходимо:\n",
    "1. вычесть бесплатный лимит из суммарного количества звонков, сообщений и интернет-трафика\n",
    "2. остаток умножить на значение из тарифного плана\n",
    "3. прибавить абонентскую плату, соответствующую тарифному плану"
   ]
  },
  {
   "cell_type": "code",
   "execution_count": 33,
   "metadata": {},
   "outputs": [],
   "source": [
    "tariffs.set_index('tariff_name', inplace=True)"
   ]
  },
  {
   "cell_type": "code",
   "execution_count": 34,
   "metadata": {},
   "outputs": [],
   "source": [
    "def profit(row):\n",
    "    # до/сверх тарифа\n",
    "    minuts = row['calls_duration'] - tariffs.loc[row['tariff'],'minutes_included']\n",
    "    message = row['message_count'] - tariffs.loc[row['tariff'],'messages_included']\n",
    "    traffic = row['traffic_mb'] - tariffs.loc[row['tariff'],'mb_per_month_included']\n",
    "    # переплаты\n",
    "    over_minuts = 0\n",
    "    over_message = 0\n",
    "    over_traffic = 0\n",
    "    if minuts > 0:\n",
    "        over_minuts = minuts*tariffs.loc[row['tariff'],'rub_per_minute']\n",
    "    if message > 0:\n",
    "        over_message = message*tariffs.loc[row['tariff'],'rub_per_message']\n",
    "    if traffic > 0:\n",
    "        over_traffic = ceil(traffic/1024)*tariffs.loc[row['tariff'],'rub_per_gb']\n",
    "    # возвращаем суммарные затраты абонента за 1 месяц\n",
    "    return tariffs.loc[row['tariff'],'rub_monthly_fee'] + over_minuts + over_message + over_traffic"
   ]
  },
  {
   "cell_type": "markdown",
   "metadata": {},
   "source": [
    "Оставим только месяца, в которые абонент пользовался оператором и посчитаем выручку"
   ]
  },
  {
   "cell_type": "code",
   "execution_count": 35,
   "metadata": {
    "scrolled": false
   },
   "outputs": [],
   "source": [
    "by_month['profit'] = (by_month\n",
    " .query('reg_date.dt.month <= month')\n",
    " .query('churn_date==\"NaN\" | month <= churn_date.dt.month')\n",
    " .apply(profit, axis=1)\n",
    ")\n",
    "by_month['profit'] = by_month['profit'].fillna(0).astype('int')"
   ]
  },
  {
   "cell_type": "code",
   "execution_count": 36,
   "metadata": {
    "scrolled": false
   },
   "outputs": [
    {
     "data": {
      "text/html": [
       "<div>\n",
       "<style scoped>\n",
       "    .dataframe tbody tr th:only-of-type {\n",
       "        vertical-align: middle;\n",
       "    }\n",
       "\n",
       "    .dataframe tbody tr th {\n",
       "        vertical-align: top;\n",
       "    }\n",
       "\n",
       "    .dataframe thead th {\n",
       "        text-align: right;\n",
       "    }\n",
       "</style>\n",
       "<table border=\"1\" class=\"dataframe\">\n",
       "  <thead>\n",
       "    <tr style=\"text-align: right;\">\n",
       "      <th></th>\n",
       "      <th>user_id</th>\n",
       "      <th>month</th>\n",
       "      <th>calls_count</th>\n",
       "      <th>calls_duration</th>\n",
       "      <th>message_count</th>\n",
       "      <th>traffic_mb</th>\n",
       "      <th>reg_date</th>\n",
       "      <th>churn_date</th>\n",
       "      <th>city</th>\n",
       "      <th>tariff</th>\n",
       "      <th>profit</th>\n",
       "    </tr>\n",
       "  </thead>\n",
       "  <tbody>\n",
       "    <tr>\n",
       "      <td>0</td>\n",
       "      <td>1000</td>\n",
       "      <td>1</td>\n",
       "      <td>0.0</td>\n",
       "      <td>0.0</td>\n",
       "      <td>0.0</td>\n",
       "      <td>0.0</td>\n",
       "      <td>2018-05-25</td>\n",
       "      <td>NaT</td>\n",
       "      <td>Краснодар</td>\n",
       "      <td>ultra</td>\n",
       "      <td>0</td>\n",
       "    </tr>\n",
       "    <tr>\n",
       "      <td>1</td>\n",
       "      <td>1000</td>\n",
       "      <td>2</td>\n",
       "      <td>0.0</td>\n",
       "      <td>0.0</td>\n",
       "      <td>0.0</td>\n",
       "      <td>0.0</td>\n",
       "      <td>2018-05-25</td>\n",
       "      <td>NaT</td>\n",
       "      <td>Краснодар</td>\n",
       "      <td>ultra</td>\n",
       "      <td>0</td>\n",
       "    </tr>\n",
       "    <tr>\n",
       "      <td>2</td>\n",
       "      <td>1000</td>\n",
       "      <td>3</td>\n",
       "      <td>0.0</td>\n",
       "      <td>0.0</td>\n",
       "      <td>0.0</td>\n",
       "      <td>0.0</td>\n",
       "      <td>2018-05-25</td>\n",
       "      <td>NaT</td>\n",
       "      <td>Краснодар</td>\n",
       "      <td>ultra</td>\n",
       "      <td>0</td>\n",
       "    </tr>\n",
       "    <tr>\n",
       "      <td>3</td>\n",
       "      <td>1000</td>\n",
       "      <td>4</td>\n",
       "      <td>0.0</td>\n",
       "      <td>0.0</td>\n",
       "      <td>0.0</td>\n",
       "      <td>0.0</td>\n",
       "      <td>2018-05-25</td>\n",
       "      <td>NaT</td>\n",
       "      <td>Краснодар</td>\n",
       "      <td>ultra</td>\n",
       "      <td>0</td>\n",
       "    </tr>\n",
       "    <tr>\n",
       "      <td>4</td>\n",
       "      <td>1000</td>\n",
       "      <td>5</td>\n",
       "      <td>17.0</td>\n",
       "      <td>159.0</td>\n",
       "      <td>22.0</td>\n",
       "      <td>2256.0</td>\n",
       "      <td>2018-05-25</td>\n",
       "      <td>NaT</td>\n",
       "      <td>Краснодар</td>\n",
       "      <td>ultra</td>\n",
       "      <td>1950</td>\n",
       "    </tr>\n",
       "    <tr>\n",
       "      <td>...</td>\n",
       "      <td>...</td>\n",
       "      <td>...</td>\n",
       "      <td>...</td>\n",
       "      <td>...</td>\n",
       "      <td>...</td>\n",
       "      <td>...</td>\n",
       "      <td>...</td>\n",
       "      <td>...</td>\n",
       "      <td>...</td>\n",
       "      <td>...</td>\n",
       "      <td>...</td>\n",
       "    </tr>\n",
       "    <tr>\n",
       "      <td>5971</td>\n",
       "      <td>1499</td>\n",
       "      <td>8</td>\n",
       "      <td>0.0</td>\n",
       "      <td>0.0</td>\n",
       "      <td>0.0</td>\n",
       "      <td>0.0</td>\n",
       "      <td>2018-09-27</td>\n",
       "      <td>NaT</td>\n",
       "      <td>Пермь</td>\n",
       "      <td>smart</td>\n",
       "      <td>0</td>\n",
       "    </tr>\n",
       "    <tr>\n",
       "      <td>5972</td>\n",
       "      <td>1499</td>\n",
       "      <td>9</td>\n",
       "      <td>8.0</td>\n",
       "      <td>70.0</td>\n",
       "      <td>11.0</td>\n",
       "      <td>1848.0</td>\n",
       "      <td>2018-09-27</td>\n",
       "      <td>NaT</td>\n",
       "      <td>Пермь</td>\n",
       "      <td>smart</td>\n",
       "      <td>550</td>\n",
       "    </tr>\n",
       "    <tr>\n",
       "      <td>5973</td>\n",
       "      <td>1499</td>\n",
       "      <td>10</td>\n",
       "      <td>44.0</td>\n",
       "      <td>449.0</td>\n",
       "      <td>48.0</td>\n",
       "      <td>17809.0</td>\n",
       "      <td>2018-09-27</td>\n",
       "      <td>NaT</td>\n",
       "      <td>Пермь</td>\n",
       "      <td>smart</td>\n",
       "      <td>1150</td>\n",
       "    </tr>\n",
       "    <tr>\n",
       "      <td>5974</td>\n",
       "      <td>1499</td>\n",
       "      <td>11</td>\n",
       "      <td>62.0</td>\n",
       "      <td>612.0</td>\n",
       "      <td>59.0</td>\n",
       "      <td>17984.0</td>\n",
       "      <td>2018-09-27</td>\n",
       "      <td>NaT</td>\n",
       "      <td>Пермь</td>\n",
       "      <td>smart</td>\n",
       "      <td>1513</td>\n",
       "    </tr>\n",
       "    <tr>\n",
       "      <td>5975</td>\n",
       "      <td>1499</td>\n",
       "      <td>12</td>\n",
       "      <td>56.0</td>\n",
       "      <td>492.0</td>\n",
       "      <td>66.0</td>\n",
       "      <td>13077.0</td>\n",
       "      <td>2018-09-27</td>\n",
       "      <td>NaT</td>\n",
       "      <td>Пермь</td>\n",
       "      <td>smart</td>\n",
       "      <td>598</td>\n",
       "    </tr>\n",
       "  </tbody>\n",
       "</table>\n",
       "<p>5976 rows × 11 columns</p>\n",
       "</div>"
      ],
      "text/plain": [
       "      user_id  month  calls_count  calls_duration  message_count  traffic_mb  \\\n",
       "0        1000      1          0.0             0.0            0.0         0.0   \n",
       "1        1000      2          0.0             0.0            0.0         0.0   \n",
       "2        1000      3          0.0             0.0            0.0         0.0   \n",
       "3        1000      4          0.0             0.0            0.0         0.0   \n",
       "4        1000      5         17.0           159.0           22.0      2256.0   \n",
       "...       ...    ...          ...             ...            ...         ...   \n",
       "5971     1499      8          0.0             0.0            0.0         0.0   \n",
       "5972     1499      9          8.0            70.0           11.0      1848.0   \n",
       "5973     1499     10         44.0           449.0           48.0     17809.0   \n",
       "5974     1499     11         62.0           612.0           59.0     17984.0   \n",
       "5975     1499     12         56.0           492.0           66.0     13077.0   \n",
       "\n",
       "       reg_date churn_date       city tariff  profit  \n",
       "0    2018-05-25        NaT  Краснодар  ultra       0  \n",
       "1    2018-05-25        NaT  Краснодар  ultra       0  \n",
       "2    2018-05-25        NaT  Краснодар  ultra       0  \n",
       "3    2018-05-25        NaT  Краснодар  ultra       0  \n",
       "4    2018-05-25        NaT  Краснодар  ultra    1950  \n",
       "...         ...        ...        ...    ...     ...  \n",
       "5971 2018-09-27        NaT      Пермь  smart       0  \n",
       "5972 2018-09-27        NaT      Пермь  smart     550  \n",
       "5973 2018-09-27        NaT      Пермь  smart    1150  \n",
       "5974 2018-09-27        NaT      Пермь  smart    1513  \n",
       "5975 2018-09-27        NaT      Пермь  smart     598  \n",
       "\n",
       "[5976 rows x 11 columns]"
      ]
     },
     "execution_count": 36,
     "metadata": {},
     "output_type": "execute_result"
    }
   ],
   "source": [
    "by_month"
   ]
  },
  {
   "cell_type": "markdown",
   "metadata": {},
   "source": [
    "# 4. Анализ данных\n",
    "Неоходимо:\n",
    "- описать поведение клиентов оператора, исходя из выборки. Сколько минут разговора, сколько сообщений и какой объём интернет-трафика требуется пользователям каждого тарифа в месяц?\n",
    "- посчитать среднее количество, дисперсию и стандартное отклонение\n",
    "- построить гистограммы\n",
    "- описать распределения"
   ]
  },
  {
   "cell_type": "markdown",
   "metadata": {},
   "source": [
    "Посчитаем статистики:"
   ]
  },
  {
   "cell_type": "code",
   "execution_count": 37,
   "metadata": {
    "scrolled": false
   },
   "outputs": [
    {
     "name": "stdout",
     "output_type": "stream",
     "text": [
      "______________Количество звонков______________\n"
     ]
    },
    {
     "data": {
      "text/html": [
       "<style  type=\"text/css\" >\n",
       "</style><table id=\"T_b71c9b16_d68a_11ea_a920_02420a39786c\" ><thead>    <tr>        <th class=\"blank level0\" ></th>        <th class=\"col_heading level0 col0\" >count</th>        <th class=\"col_heading level0 col1\" >mean</th>        <th class=\"col_heading level0 col2\" >std</th>        <th class=\"col_heading level0 col3\" >min</th>        <th class=\"col_heading level0 col4\" >25%</th>        <th class=\"col_heading level0 col5\" >50%</th>        <th class=\"col_heading level0 col6\" >75%</th>        <th class=\"col_heading level0 col7\" >max</th>    </tr>    <tr>        <th class=\"index_name level0\" >tariff</th>        <th class=\"blank\" ></th>        <th class=\"blank\" ></th>        <th class=\"blank\" ></th>        <th class=\"blank\" ></th>        <th class=\"blank\" ></th>        <th class=\"blank\" ></th>        <th class=\"blank\" ></th>        <th class=\"blank\" ></th>    </tr></thead><tbody>\n",
       "                <tr>\n",
       "                        <th id=\"T_b71c9b16_d68a_11ea_a920_02420a39786clevel0_row0\" class=\"row_heading level0 row0\" >smart</th>\n",
       "                        <td id=\"T_b71c9b16_d68a_11ea_a920_02420a39786crow0_col0\" class=\"data row0 col0\" >2229.0</td>\n",
       "                        <td id=\"T_b71c9b16_d68a_11ea_a920_02420a39786crow0_col1\" class=\"data row0 col1\" >46.9</td>\n",
       "                        <td id=\"T_b71c9b16_d68a_11ea_a920_02420a39786crow0_col2\" class=\"data row0 col2\" >21.0</td>\n",
       "                        <td id=\"T_b71c9b16_d68a_11ea_a920_02420a39786crow0_col3\" class=\"data row0 col3\" >0.0</td>\n",
       "                        <td id=\"T_b71c9b16_d68a_11ea_a920_02420a39786crow0_col4\" class=\"data row0 col4\" >32.0</td>\n",
       "                        <td id=\"T_b71c9b16_d68a_11ea_a920_02420a39786crow0_col5\" class=\"data row0 col5\" >47.0</td>\n",
       "                        <td id=\"T_b71c9b16_d68a_11ea_a920_02420a39786crow0_col6\" class=\"data row0 col6\" >61.0</td>\n",
       "                        <td id=\"T_b71c9b16_d68a_11ea_a920_02420a39786crow0_col7\" class=\"data row0 col7\" >162.0</td>\n",
       "            </tr>\n",
       "            <tr>\n",
       "                        <th id=\"T_b71c9b16_d68a_11ea_a920_02420a39786clevel0_row1\" class=\"row_heading level0 row1\" >ultra</th>\n",
       "                        <td id=\"T_b71c9b16_d68a_11ea_a920_02420a39786crow1_col0\" class=\"data row1 col0\" >985.0</td>\n",
       "                        <td id=\"T_b71c9b16_d68a_11ea_a920_02420a39786crow1_col1\" class=\"data row1 col1\" >59.2</td>\n",
       "                        <td id=\"T_b71c9b16_d68a_11ea_a920_02420a39786crow1_col2\" class=\"data row1 col2\" >35.6</td>\n",
       "                        <td id=\"T_b71c9b16_d68a_11ea_a920_02420a39786crow1_col3\" class=\"data row1 col3\" >0.0</td>\n",
       "                        <td id=\"T_b71c9b16_d68a_11ea_a920_02420a39786crow1_col4\" class=\"data row1 col4\" >33.0</td>\n",
       "                        <td id=\"T_b71c9b16_d68a_11ea_a920_02420a39786crow1_col5\" class=\"data row1 col5\" >58.0</td>\n",
       "                        <td id=\"T_b71c9b16_d68a_11ea_a920_02420a39786crow1_col6\" class=\"data row1 col6\" >84.0</td>\n",
       "                        <td id=\"T_b71c9b16_d68a_11ea_a920_02420a39786crow1_col7\" class=\"data row1 col7\" >190.0</td>\n",
       "            </tr>\n",
       "    </tbody></table>"
      ],
      "text/plain": [
       "<pandas.io.formats.style.Styler at 0x7ff92bf9f750>"
      ]
     },
     "metadata": {},
     "output_type": "display_data"
    },
    {
     "name": "stdout",
     "output_type": "stream",
     "text": [
      "\n",
      "_______________Длительность звонков_______________\n"
     ]
    },
    {
     "data": {
      "text/html": [
       "<style  type=\"text/css\" >\n",
       "</style><table id=\"T_b7200922_d68a_11ea_a920_02420a39786c\" ><thead>    <tr>        <th class=\"blank level0\" ></th>        <th class=\"col_heading level0 col0\" >count</th>        <th class=\"col_heading level0 col1\" >mean</th>        <th class=\"col_heading level0 col2\" >std</th>        <th class=\"col_heading level0 col3\" >min</th>        <th class=\"col_heading level0 col4\" >25%</th>        <th class=\"col_heading level0 col5\" >50%</th>        <th class=\"col_heading level0 col6\" >75%</th>        <th class=\"col_heading level0 col7\" >max</th>    </tr>    <tr>        <th class=\"index_name level0\" >tariff</th>        <th class=\"blank\" ></th>        <th class=\"blank\" ></th>        <th class=\"blank\" ></th>        <th class=\"blank\" ></th>        <th class=\"blank\" ></th>        <th class=\"blank\" ></th>        <th class=\"blank\" ></th>        <th class=\"blank\" ></th>    </tr></thead><tbody>\n",
       "                <tr>\n",
       "                        <th id=\"T_b7200922_d68a_11ea_a920_02420a39786clevel0_row0\" class=\"row_heading level0 row0\" >smart</th>\n",
       "                        <td id=\"T_b7200922_d68a_11ea_a920_02420a39786crow0_col0\" class=\"data row0 col0\" >2229.0</td>\n",
       "                        <td id=\"T_b7200922_d68a_11ea_a920_02420a39786crow0_col1\" class=\"data row0 col1\" >417.9</td>\n",
       "                        <td id=\"T_b7200922_d68a_11ea_a920_02420a39786crow0_col2\" class=\"data row0 col2\" >190.3</td>\n",
       "                        <td id=\"T_b7200922_d68a_11ea_a920_02420a39786crow0_col3\" class=\"data row0 col3\" >0.0</td>\n",
       "                        <td id=\"T_b7200922_d68a_11ea_a920_02420a39786crow0_col4\" class=\"data row0 col4\" >282.0</td>\n",
       "                        <td id=\"T_b7200922_d68a_11ea_a920_02420a39786crow0_col5\" class=\"data row0 col5\" >422.0</td>\n",
       "                        <td id=\"T_b7200922_d68a_11ea_a920_02420a39786crow0_col6\" class=\"data row0 col6\" >545.0</td>\n",
       "                        <td id=\"T_b7200922_d68a_11ea_a920_02420a39786crow0_col7\" class=\"data row0 col7\" >1435.0</td>\n",
       "            </tr>\n",
       "            <tr>\n",
       "                        <th id=\"T_b7200922_d68a_11ea_a920_02420a39786clevel0_row1\" class=\"row_heading level0 row1\" >ultra</th>\n",
       "                        <td id=\"T_b7200922_d68a_11ea_a920_02420a39786crow1_col0\" class=\"data row1 col0\" >985.0</td>\n",
       "                        <td id=\"T_b7200922_d68a_11ea_a920_02420a39786crow1_col1\" class=\"data row1 col1\" >526.6</td>\n",
       "                        <td id=\"T_b7200922_d68a_11ea_a920_02420a39786crow1_col2\" class=\"data row1 col2\" >317.6</td>\n",
       "                        <td id=\"T_b7200922_d68a_11ea_a920_02420a39786crow1_col3\" class=\"data row1 col3\" >0.0</td>\n",
       "                        <td id=\"T_b7200922_d68a_11ea_a920_02420a39786crow1_col4\" class=\"data row1 col4\" >284.0</td>\n",
       "                        <td id=\"T_b7200922_d68a_11ea_a920_02420a39786crow1_col5\" class=\"data row1 col5\" >518.0</td>\n",
       "                        <td id=\"T_b7200922_d68a_11ea_a920_02420a39786crow1_col6\" class=\"data row1 col6\" >752.0</td>\n",
       "                        <td id=\"T_b7200922_d68a_11ea_a920_02420a39786crow1_col7\" class=\"data row1 col7\" >1673.0</td>\n",
       "            </tr>\n",
       "    </tbody></table>"
      ],
      "text/plain": [
       "<pandas.io.formats.style.Styler at 0x7ff92e879b50>"
      ]
     },
     "metadata": {},
     "output_type": "display_data"
    },
    {
     "name": "stdout",
     "output_type": "stream",
     "text": [
      "\n",
      "__________________Сообщения___________________\n"
     ]
    },
    {
     "data": {
      "text/html": [
       "<style  type=\"text/css\" >\n",
       "</style><table id=\"T_b7226d7a_d68a_11ea_a920_02420a39786c\" ><thead>    <tr>        <th class=\"blank level0\" ></th>        <th class=\"col_heading level0 col0\" >count</th>        <th class=\"col_heading level0 col1\" >mean</th>        <th class=\"col_heading level0 col2\" >std</th>        <th class=\"col_heading level0 col3\" >min</th>        <th class=\"col_heading level0 col4\" >25%</th>        <th class=\"col_heading level0 col5\" >50%</th>        <th class=\"col_heading level0 col6\" >75%</th>        <th class=\"col_heading level0 col7\" >max</th>    </tr>    <tr>        <th class=\"index_name level0\" >tariff</th>        <th class=\"blank\" ></th>        <th class=\"blank\" ></th>        <th class=\"blank\" ></th>        <th class=\"blank\" ></th>        <th class=\"blank\" ></th>        <th class=\"blank\" ></th>        <th class=\"blank\" ></th>        <th class=\"blank\" ></th>    </tr></thead><tbody>\n",
       "                <tr>\n",
       "                        <th id=\"T_b7226d7a_d68a_11ea_a920_02420a39786clevel0_row0\" class=\"row_heading level0 row0\" >smart</th>\n",
       "                        <td id=\"T_b7226d7a_d68a_11ea_a920_02420a39786crow0_col0\" class=\"data row0 col0\" >2229.0</td>\n",
       "                        <td id=\"T_b7226d7a_d68a_11ea_a920_02420a39786crow0_col1\" class=\"data row0 col1\" >33.4</td>\n",
       "                        <td id=\"T_b7226d7a_d68a_11ea_a920_02420a39786crow0_col2\" class=\"data row0 col2\" >28.2</td>\n",
       "                        <td id=\"T_b7226d7a_d68a_11ea_a920_02420a39786crow0_col3\" class=\"data row0 col3\" >0.0</td>\n",
       "                        <td id=\"T_b7226d7a_d68a_11ea_a920_02420a39786crow0_col4\" class=\"data row0 col4\" >10.0</td>\n",
       "                        <td id=\"T_b7226d7a_d68a_11ea_a920_02420a39786crow0_col5\" class=\"data row0 col5\" >28.0</td>\n",
       "                        <td id=\"T_b7226d7a_d68a_11ea_a920_02420a39786crow0_col6\" class=\"data row0 col6\" >51.0</td>\n",
       "                        <td id=\"T_b7226d7a_d68a_11ea_a920_02420a39786crow0_col7\" class=\"data row0 col7\" >143.0</td>\n",
       "            </tr>\n",
       "            <tr>\n",
       "                        <th id=\"T_b7226d7a_d68a_11ea_a920_02420a39786clevel0_row1\" class=\"row_heading level0 row1\" >ultra</th>\n",
       "                        <td id=\"T_b7226d7a_d68a_11ea_a920_02420a39786crow1_col0\" class=\"data row1 col0\" >985.0</td>\n",
       "                        <td id=\"T_b7226d7a_d68a_11ea_a920_02420a39786crow1_col1\" class=\"data row1 col1\" >49.4</td>\n",
       "                        <td id=\"T_b7226d7a_d68a_11ea_a920_02420a39786crow1_col2\" class=\"data row1 col2\" >47.8</td>\n",
       "                        <td id=\"T_b7226d7a_d68a_11ea_a920_02420a39786crow1_col3\" class=\"data row1 col3\" >0.0</td>\n",
       "                        <td id=\"T_b7226d7a_d68a_11ea_a920_02420a39786crow1_col4\" class=\"data row1 col4\" >6.0</td>\n",
       "                        <td id=\"T_b7226d7a_d68a_11ea_a920_02420a39786crow1_col5\" class=\"data row1 col5\" >38.0</td>\n",
       "                        <td id=\"T_b7226d7a_d68a_11ea_a920_02420a39786crow1_col6\" class=\"data row1 col6\" >79.0</td>\n",
       "                        <td id=\"T_b7226d7a_d68a_11ea_a920_02420a39786crow1_col7\" class=\"data row1 col7\" >224.0</td>\n",
       "            </tr>\n",
       "    </tbody></table>"
      ],
      "text/plain": [
       "<pandas.io.formats.style.Styler at 0x7ff931968490>"
      ]
     },
     "metadata": {},
     "output_type": "display_data"
    },
    {
     "name": "stdout",
     "output_type": "stream",
     "text": [
      "\n",
      "__________________________Траффик___________________________\n"
     ]
    },
    {
     "data": {
      "text/html": [
       "<style  type=\"text/css\" >\n",
       "</style><table id=\"T_b7275538_d68a_11ea_a920_02420a39786c\" ><thead>    <tr>        <th class=\"blank level0\" ></th>        <th class=\"col_heading level0 col0\" >count</th>        <th class=\"col_heading level0 col1\" >mean</th>        <th class=\"col_heading level0 col2\" >std</th>        <th class=\"col_heading level0 col3\" >min</th>        <th class=\"col_heading level0 col4\" >25%</th>        <th class=\"col_heading level0 col5\" >50%</th>        <th class=\"col_heading level0 col6\" >75%</th>        <th class=\"col_heading level0 col7\" >max</th>    </tr>    <tr>        <th class=\"index_name level0\" >tariff</th>        <th class=\"blank\" ></th>        <th class=\"blank\" ></th>        <th class=\"blank\" ></th>        <th class=\"blank\" ></th>        <th class=\"blank\" ></th>        <th class=\"blank\" ></th>        <th class=\"blank\" ></th>        <th class=\"blank\" ></th>    </tr></thead><tbody>\n",
       "                <tr>\n",
       "                        <th id=\"T_b7275538_d68a_11ea_a920_02420a39786clevel0_row0\" class=\"row_heading level0 row0\" >smart</th>\n",
       "                        <td id=\"T_b7275538_d68a_11ea_a920_02420a39786crow0_col0\" class=\"data row0 col0\" >2229.0</td>\n",
       "                        <td id=\"T_b7275538_d68a_11ea_a920_02420a39786crow0_col1\" class=\"data row0 col1\" >16229.2</td>\n",
       "                        <td id=\"T_b7275538_d68a_11ea_a920_02420a39786crow0_col2\" class=\"data row0 col2\" >5877.6</td>\n",
       "                        <td id=\"T_b7275538_d68a_11ea_a920_02420a39786crow0_col3\" class=\"data row0 col3\" >0.0</td>\n",
       "                        <td id=\"T_b7275538_d68a_11ea_a920_02420a39786crow0_col4\" class=\"data row0 col4\" >12658.0</td>\n",
       "                        <td id=\"T_b7275538_d68a_11ea_a920_02420a39786crow0_col5\" class=\"data row0 col5\" >16531.0</td>\n",
       "                        <td id=\"T_b7275538_d68a_11ea_a920_02420a39786crow0_col6\" class=\"data row0 col6\" >20068.0</td>\n",
       "                        <td id=\"T_b7275538_d68a_11ea_a920_02420a39786crow0_col7\" class=\"data row0 col7\" >38610.0</td>\n",
       "            </tr>\n",
       "            <tr>\n",
       "                        <th id=\"T_b7275538_d68a_11ea_a920_02420a39786clevel0_row1\" class=\"row_heading level0 row1\" >ultra</th>\n",
       "                        <td id=\"T_b7275538_d68a_11ea_a920_02420a39786crow1_col0\" class=\"data row1 col0\" >985.0</td>\n",
       "                        <td id=\"T_b7275538_d68a_11ea_a920_02420a39786crow1_col1\" class=\"data row1 col1\" >19486.9</td>\n",
       "                        <td id=\"T_b7275538_d68a_11ea_a920_02420a39786crow1_col2\" class=\"data row1 col2\" >10096.3</td>\n",
       "                        <td id=\"T_b7275538_d68a_11ea_a920_02420a39786crow1_col3\" class=\"data row1 col3\" >0.0</td>\n",
       "                        <td id=\"T_b7275538_d68a_11ea_a920_02420a39786crow1_col4\" class=\"data row1 col4\" >11785.0</td>\n",
       "                        <td id=\"T_b7275538_d68a_11ea_a920_02420a39786crow1_col5\" class=\"data row1 col5\" >19324.0</td>\n",
       "                        <td id=\"T_b7275538_d68a_11ea_a920_02420a39786crow1_col6\" class=\"data row1 col6\" >26863.0</td>\n",
       "                        <td id=\"T_b7275538_d68a_11ea_a920_02420a39786crow1_col7\" class=\"data row1 col7\" >49789.0</td>\n",
       "            </tr>\n",
       "    </tbody></table>"
      ],
      "text/plain": [
       "<pandas.io.formats.style.Styler at 0x7ff92ff95f50>"
      ]
     },
     "metadata": {},
     "output_type": "display_data"
    }
   ],
   "source": [
    "print('{:_^46}'.format('Количество звонков'))\n",
    "display(by_month[by_month['profit']!=0]\n",
    " .groupby(by=['tariff'])['calls_count']\n",
    " .describe()\n",
    " .style.format(\"{:.1f}\"))\n",
    "\n",
    "print('\\n{:_^50}'.format('Длительность звонков'))\n",
    "display(by_month[by_month['profit']!=0]\n",
    " .groupby(by=['tariff'])['calls_duration']\n",
    " .describe()\n",
    " .style.format(\"{:.1f}\"))\n",
    "\n",
    "print('\\n{:_^46}'.format('Сообщения'))\n",
    "display(by_month[by_month['profit']!=0]\n",
    " .groupby(by=['tariff'])['message_count']\n",
    " .describe()\n",
    " .style.format(\"{:.1f}\"))\n",
    "\n",
    "print('\\n{:_^60}'.format('Траффик'))\n",
    "display(by_month[by_month['profit']!=0]\n",
    " .groupby(by=['tariff'])['traffic_mb']\n",
    " .describe()\n",
    " .style.format(\"{:.1f}\"))"
   ]
  },
  {
   "cell_type": "markdown",
   "metadata": {},
   "source": [
    "Сделаю немного короче и вывод только необходимых статистик:"
   ]
  },
  {
   "cell_type": "code",
   "execution_count": 38,
   "metadata": {
    "scrolled": true
   },
   "outputs": [
    {
     "data": {
      "text/html": [
       "<style  type=\"text/css\" >\n",
       "</style><table id=\"T_b72dfc62_d68a_11ea_a920_02420a39786c\" ><thead>    <tr>        <th class=\"blank level0\" ></th>        <th class=\"col_heading level0 col0\" colspan=3>calls_count</th>        <th class=\"col_heading level0 col3\" colspan=3>calls_duration</th>        <th class=\"col_heading level0 col6\" colspan=3>message_count</th>        <th class=\"col_heading level0 col9\" colspan=3>traffic_mb</th>    </tr>    <tr>        <th class=\"blank level1\" ></th>        <th class=\"col_heading level1 col0\" >mean</th>        <th class=\"col_heading level1 col1\" >std</th>        <th class=\"col_heading level1 col2\" >var</th>        <th class=\"col_heading level1 col3\" >mean</th>        <th class=\"col_heading level1 col4\" >std</th>        <th class=\"col_heading level1 col5\" >var</th>        <th class=\"col_heading level1 col6\" >mean</th>        <th class=\"col_heading level1 col7\" >std</th>        <th class=\"col_heading level1 col8\" >var</th>        <th class=\"col_heading level1 col9\" >mean</th>        <th class=\"col_heading level1 col10\" >std</th>        <th class=\"col_heading level1 col11\" >var</th>    </tr>    <tr>        <th class=\"index_name level0\" >tariff</th>        <th class=\"blank\" ></th>        <th class=\"blank\" ></th>        <th class=\"blank\" ></th>        <th class=\"blank\" ></th>        <th class=\"blank\" ></th>        <th class=\"blank\" ></th>        <th class=\"blank\" ></th>        <th class=\"blank\" ></th>        <th class=\"blank\" ></th>        <th class=\"blank\" ></th>        <th class=\"blank\" ></th>        <th class=\"blank\" ></th>    </tr></thead><tbody>\n",
       "                <tr>\n",
       "                        <th id=\"T_b72dfc62_d68a_11ea_a920_02420a39786clevel0_row0\" class=\"row_heading level0 row0\" >smart</th>\n",
       "                        <td id=\"T_b72dfc62_d68a_11ea_a920_02420a39786crow0_col0\" class=\"data row0 col0\" >46.9</td>\n",
       "                        <td id=\"T_b72dfc62_d68a_11ea_a920_02420a39786crow0_col1\" class=\"data row0 col1\" >21.0</td>\n",
       "                        <td id=\"T_b72dfc62_d68a_11ea_a920_02420a39786crow0_col2\" class=\"data row0 col2\" >442.6</td>\n",
       "                        <td id=\"T_b72dfc62_d68a_11ea_a920_02420a39786crow0_col3\" class=\"data row0 col3\" >417.9</td>\n",
       "                        <td id=\"T_b72dfc62_d68a_11ea_a920_02420a39786crow0_col4\" class=\"data row0 col4\" >190.3</td>\n",
       "                        <td id=\"T_b72dfc62_d68a_11ea_a920_02420a39786crow0_col5\" class=\"data row0 col5\" >36219.3</td>\n",
       "                        <td id=\"T_b72dfc62_d68a_11ea_a920_02420a39786crow0_col6\" class=\"data row0 col6\" >33.4</td>\n",
       "                        <td id=\"T_b72dfc62_d68a_11ea_a920_02420a39786crow0_col7\" class=\"data row0 col7\" >28.2</td>\n",
       "                        <td id=\"T_b72dfc62_d68a_11ea_a920_02420a39786crow0_col8\" class=\"data row0 col8\" >796.8</td>\n",
       "                        <td id=\"T_b72dfc62_d68a_11ea_a920_02420a39786crow0_col9\" class=\"data row0 col9\" >16229.2</td>\n",
       "                        <td id=\"T_b72dfc62_d68a_11ea_a920_02420a39786crow0_col10\" class=\"data row0 col10\" >5877.6</td>\n",
       "                        <td id=\"T_b72dfc62_d68a_11ea_a920_02420a39786crow0_col11\" class=\"data row0 col11\" >34545911.1</td>\n",
       "            </tr>\n",
       "            <tr>\n",
       "                        <th id=\"T_b72dfc62_d68a_11ea_a920_02420a39786clevel0_row1\" class=\"row_heading level0 row1\" >ultra</th>\n",
       "                        <td id=\"T_b72dfc62_d68a_11ea_a920_02420a39786crow1_col0\" class=\"data row1 col0\" >59.2</td>\n",
       "                        <td id=\"T_b72dfc62_d68a_11ea_a920_02420a39786crow1_col1\" class=\"data row1 col1\" >35.6</td>\n",
       "                        <td id=\"T_b72dfc62_d68a_11ea_a920_02420a39786crow1_col2\" class=\"data row1 col2\" >1264.7</td>\n",
       "                        <td id=\"T_b72dfc62_d68a_11ea_a920_02420a39786crow1_col3\" class=\"data row1 col3\" >526.6</td>\n",
       "                        <td id=\"T_b72dfc62_d68a_11ea_a920_02420a39786crow1_col4\" class=\"data row1 col4\" >317.6</td>\n",
       "                        <td id=\"T_b72dfc62_d68a_11ea_a920_02420a39786crow1_col5\" class=\"data row1 col5\" >100873.6</td>\n",
       "                        <td id=\"T_b72dfc62_d68a_11ea_a920_02420a39786crow1_col6\" class=\"data row1 col6\" >49.4</td>\n",
       "                        <td id=\"T_b72dfc62_d68a_11ea_a920_02420a39786crow1_col7\" class=\"data row1 col7\" >47.8</td>\n",
       "                        <td id=\"T_b72dfc62_d68a_11ea_a920_02420a39786crow1_col8\" class=\"data row1 col8\" >2285.3</td>\n",
       "                        <td id=\"T_b72dfc62_d68a_11ea_a920_02420a39786crow1_col9\" class=\"data row1 col9\" >19486.9</td>\n",
       "                        <td id=\"T_b72dfc62_d68a_11ea_a920_02420a39786crow1_col10\" class=\"data row1 col10\" >10096.3</td>\n",
       "                        <td id=\"T_b72dfc62_d68a_11ea_a920_02420a39786crow1_col11\" class=\"data row1 col11\" >101935621.0</td>\n",
       "            </tr>\n",
       "    </tbody></table>"
      ],
      "text/plain": [
       "<pandas.io.formats.style.Styler at 0x7ff92bf98a90>"
      ]
     },
     "execution_count": 38,
     "metadata": {},
     "output_type": "execute_result"
    }
   ],
   "source": [
    "(by_month[by_month['profit']!=0]\n",
    " .pivot_table(index=['tariff'], aggfunc={'calls_count':['mean','var','std'],\n",
    "                                         'calls_duration':['mean','var','std'],\n",
    "                                         'message_count':['mean','var','std'],\n",
    "                                         'traffic_mb':['mean','var','std'],\n",
    "                                        })\n",
    " .style.format(\"{:.1f}\")\n",
    ")"
   ]
  },
  {
   "cell_type": "markdown",
   "metadata": {},
   "source": [
    "Заметно, что по тарифу `ultra` пользователи немного активнее по всем показателям.\n",
    "\n",
    "Построим теперь гистограммы"
   ]
  },
  {
   "cell_type": "code",
   "execution_count": 39,
   "metadata": {
    "scrolled": false
   },
   "outputs": [
    {
     "data": {
      "image/png": "[encoded data removed]",
      "text/plain": [
       "<Figure size 1080x432 with 4 Axes>"
      ]
     },
     "metadata": {
      "needs_background": "light"
     },
     "output_type": "display_data"
    }
   ],
   "source": [
    "fig, axes  = plt.subplots(nrows = 2, ncols = 2, figsize=(15,6))\n",
    "\n",
    "(by_month[by_month['profit']!=0]\n",
    " .groupby(by=['tariff'])['calls_count']\n",
    " .plot(kind='hist', title='Количество звонков', bins=50, alpha=0.5, grid=True, ax=axes[0, 0], legend=True))\n",
    "\n",
    "(by_month[by_month['profit']!=0]\n",
    " .groupby(by=['tariff'])['calls_duration']\n",
    " .plot(kind='hist', title='Длительность звонков', bins=50, alpha=0.5, grid=True, ax=axes[0, 1], legend=True))\n",
    "\n",
    "(by_month[by_month['profit']!=0]\n",
    " .groupby(by=['tariff'])['message_count']\n",
    " .plot(kind='hist', title='Количество сообщений', bins=50, alpha=0.5, grid=True, ax=axes[1, 0], legend=True))\n",
    "\n",
    "(by_month[by_month['profit']!=0]\n",
    " .groupby(by=['tariff'])['traffic_mb']\n",
    " .plot(kind='hist', title='Объем траффика', bins=50, alpha=0.5, grid=True, ax=axes[1, 1], legend=True))\n",
    "plt.show()"
   ]
  },
  {
   "cell_type": "markdown",
   "metadata": {},
   "source": [
    "Из-за того, что количество пользователей `smart` больше, на всех гистограммах `smart` расположен заметно выше, поэтому для наглядности используем плотности распределений:"
   ]
  },
  {
   "cell_type": "code",
   "execution_count": 40,
   "metadata": {},
   "outputs": [
    {
     "data": {
      "image/png": "[encoded data removed]",
      "text/plain": [
       "<Figure size 1080x432 with 4 Axes>"
      ]
     },
     "metadata": {
      "needs_background": "light"
     },
     "output_type": "display_data"
    }
   ],
   "source": [
    "fig, axes  = plt.subplots(nrows = 2, ncols = 2, figsize=(15,6))\n",
    "\n",
    "(by_month[by_month['profit']!=0]\n",
    " .groupby(by=['tariff'])['calls_count']\n",
    " .plot(kind='kde', title='Количество звонков', xlim=(0,200), grid=True, ax=axes[0, 0], legend=True))\n",
    "\n",
    "(by_month[by_month['profit']!=0]\n",
    " .groupby(by=['tariff'])['calls_duration']\n",
    " .plot(kind='kde', title='Длительность звонков', xlim=(0,1750), grid=True, ax=axes[0, 1], legend=True))\n",
    "\n",
    "(by_month[by_month['profit']!=0]\n",
    " .groupby(by=['tariff'])['message_count']\n",
    " .plot(kind='kde', title='Количество сообщений', xlim=(0,250), grid=True, ax=axes[1, 0], legend=True))\n",
    "\n",
    "(by_month[by_month['profit']!=0]\n",
    " .groupby(by=['tariff'])['traffic_mb']\n",
    " .plot(kind='kde', title='Объем траффика', xlim=(0,50000), grid=True, ax=axes[1, 1], legend=True))\n",
    "plt.show()"
   ]
  },
  {
   "cell_type": "markdown",
   "metadata": {},
   "source": [
    "**Выводы:**\n",
    "- пользователи тарифа `ultra` расположены в более широком диапазоне графиков, что вероятно связано с бОльшими лимитами по этому тарифу\n",
    "- все распределения имеют достаточно длинный \"хвост\"\n",
    "- пики графиков 'Длительность звонков' и 'Объем траффика' тарифа `smart` практически совпадают с тарифными лимитами (500 мин и 15 ГБ)\n",
    "- сообщениями в 21 веке пользуются редко"
   ]
  },
  {
   "cell_type": "markdown",
   "metadata": {},
   "source": [
    "Вывод в цикле:"
   ]
  },
  {
   "cell_type": "code",
   "execution_count": 41,
   "metadata": {},
   "outputs": [
    {
     "data": {
      "image/png": "[encoded data removed]",
      "text/plain": [
       "<Figure size 720x576 with 4 Axes>"
      ]
     },
     "metadata": {
      "needs_background": "light"
     },
     "output_type": "display_data"
    }
   ],
   "source": [
    "col = {'calls_count':'Количество звонков',\n",
    "       'calls_duration':'Длительность звонков',\n",
    "       'message_count':'Количество сообщений',\n",
    "       'traffic_mb':'Объем трафика'}\n",
    "fig, axes  = plt.subplots(nrows = 4, ncols = 1, figsize=(10,8))\n",
    "n=0\n",
    "for i,j in col.items():\n",
    "    (by_month[by_month['profit']!=0]\n",
    "     .groupby(by=['tariff'])[i]\n",
    "     .plot(kind='hist', title=j, bins=50, alpha=0.5, grid=True, ax=axes[n], legend=True))\n",
    "    n+=1"
   ]
  },
  {
   "cell_type": "markdown",
   "metadata": {},
   "source": [
    "# 5. Проверка гипотез"
   ]
  },
  {
   "cell_type": "markdown",
   "metadata": {},
   "source": [
    "## 5.1. Средняя выручка пользователей тарифов `«Ультра»` и `«Смарт»` различается\n",
    "Сформулируем нулевую гипотезу: выручка пользователей тарифов `«Ультра»` и `«Смарт»` совпадает\n",
    "\n",
    "Альтернативная гипотеза: выручки различаются\n",
    "\n",
    "Уровень значимости зададим в 5%. Используем метод `ttest_ind` для сравнения двух независимых выборок с параметром `equal_var=False`, т.к. дисперсии у наших выборок будут различаться"
   ]
  },
  {
   "cell_type": "markdown",
   "metadata": {},
   "source": [
    "Проверка равенства дисперсий   "
   ]
  },
  {
   "cell_type": "code",
   "execution_count": 42,
   "metadata": {},
   "outputs": [
    {
     "data": {
      "text/html": [
       "<style  type=\"text/css\" >\n",
       "</style><table id=\"T_bb76563e_d68a_11ea_a920_02420a39786c\" ><thead>    <tr>        <th class=\"blank level0\" ></th>        <th class=\"col_heading level0 col0\" >profit</th>    </tr>    <tr>        <th class=\"index_name level0\" >tariff</th>        <th class=\"blank\" ></th>    </tr></thead><tbody>\n",
       "                <tr>\n",
       "                        <th id=\"T_bb76563e_d68a_11ea_a920_02420a39786clevel0_row0\" class=\"row_heading level0 row0\" >smart</th>\n",
       "                        <td id=\"T_bb76563e_d68a_11ea_a920_02420a39786crow0_col0\" class=\"data row0 col0\" >673931.3</td>\n",
       "            </tr>\n",
       "            <tr>\n",
       "                        <th id=\"T_bb76563e_d68a_11ea_a920_02420a39786clevel0_row1\" class=\"row_heading level0 row1\" >ultra</th>\n",
       "                        <td id=\"T_bb76563e_d68a_11ea_a920_02420a39786crow1_col0\" class=\"data row1 col0\" >143491.2</td>\n",
       "            </tr>\n",
       "    </tbody></table>"
      ],
      "text/plain": [
       "<pandas.io.formats.style.Styler at 0x7ff969b10fd0>"
      ]
     },
     "execution_count": 42,
     "metadata": {},
     "output_type": "execute_result"
    }
   ],
   "source": [
    "(by_month[by_month['profit']!=0]\n",
    " .pivot_table(index=['tariff'], aggfunc={'profit':'var'})\n",
    " .style.format(\"{:.1f}\")\n",
    ")"
   ]
  },
  {
   "cell_type": "code",
   "execution_count": 43,
   "metadata": {
    "scrolled": true
   },
   "outputs": [
    {
     "name": "stdout",
     "output_type": "stream",
     "text": [
      "p-значение: 2.7240946993530856e-246\n",
      "Отвергаем нулевую гипотезу\n"
     ]
    }
   ],
   "source": [
    "alpha = .05\n",
    "results = st.ttest_ind(\n",
    "    by_month[(by_month['profit']!=0) & (by_month['tariff']=='smart')]['profit'], \n",
    "    by_month[(by_month['profit']!=0) & (by_month['tariff']=='ultra')]['profit'],\n",
    "    equal_var=False\n",
    ")\n",
    "\n",
    "print('p-значение:', results.pvalue)\n",
    "\n",
    "if (results.pvalue < alpha):\n",
    "    print(\"Отвергаем нулевую гипотезу\")\n",
    "else:\n",
    "    print(\"Не получилось отвергнуть нулевую гипотезу\")"
   ]
  },
  {
   "cell_type": "markdown",
   "metadata": {},
   "source": [
    "Можно сделать вывод, что данные противоречат нашей гипотезе о равенстве выручки `«Ультра»` и `«Смарт»`, следовательно, скорее всего **выручки различаются**.\n",
    "\n",
    "Для наглядности сравним методом `describe`:"
   ]
  },
  {
   "cell_type": "code",
   "execution_count": 44,
   "metadata": {
    "scrolled": true
   },
   "outputs": [
    {
     "data": {
      "text/html": [
       "<style  type=\"text/css\" >\n",
       "</style><table id=\"T_bb8258c6_d68a_11ea_a920_02420a39786c\" ><thead>    <tr>        <th class=\"blank level0\" ></th>        <th class=\"col_heading level0 col0\" >count</th>        <th class=\"col_heading level0 col1\" >mean</th>        <th class=\"col_heading level0 col2\" >std</th>        <th class=\"col_heading level0 col3\" >min</th>        <th class=\"col_heading level0 col4\" >25%</th>        <th class=\"col_heading level0 col5\" >50%</th>        <th class=\"col_heading level0 col6\" >75%</th>        <th class=\"col_heading level0 col7\" >max</th>    </tr>    <tr>        <th class=\"index_name level0\" >tariff</th>        <th class=\"blank\" ></th>        <th class=\"blank\" ></th>        <th class=\"blank\" ></th>        <th class=\"blank\" ></th>        <th class=\"blank\" ></th>        <th class=\"blank\" ></th>        <th class=\"blank\" ></th>        <th class=\"blank\" ></th>    </tr></thead><tbody>\n",
       "                <tr>\n",
       "                        <th id=\"T_bb8258c6_d68a_11ea_a920_02420a39786clevel0_row0\" class=\"row_heading level0 row0\" >smart</th>\n",
       "                        <td id=\"T_bb8258c6_d68a_11ea_a920_02420a39786crow0_col0\" class=\"data row0 col0\" >2229.0</td>\n",
       "                        <td id=\"T_bb8258c6_d68a_11ea_a920_02420a39786crow0_col1\" class=\"data row0 col1\" >1294.6</td>\n",
       "                        <td id=\"T_bb8258c6_d68a_11ea_a920_02420a39786crow0_col2\" class=\"data row0 col2\" >820.9</td>\n",
       "                        <td id=\"T_bb8258c6_d68a_11ea_a920_02420a39786crow0_col3\" class=\"data row0 col3\" >550.0</td>\n",
       "                        <td id=\"T_bb8258c6_d68a_11ea_a920_02420a39786crow0_col4\" class=\"data row0 col4\" >550.0</td>\n",
       "                        <td id=\"T_bb8258c6_d68a_11ea_a920_02420a39786crow0_col5\" class=\"data row0 col5\" >1038.0</td>\n",
       "                        <td id=\"T_bb8258c6_d68a_11ea_a920_02420a39786crow0_col6\" class=\"data row0 col6\" >1750.0</td>\n",
       "                        <td id=\"T_bb8258c6_d68a_11ea_a920_02420a39786crow0_col7\" class=\"data row0 col7\" >6770.0</td>\n",
       "            </tr>\n",
       "            <tr>\n",
       "                        <th id=\"T_bb8258c6_d68a_11ea_a920_02420a39786clevel0_row1\" class=\"row_heading level0 row1\" >ultra</th>\n",
       "                        <td id=\"T_bb8258c6_d68a_11ea_a920_02420a39786crow1_col0\" class=\"data row1 col0\" >985.0</td>\n",
       "                        <td id=\"T_bb8258c6_d68a_11ea_a920_02420a39786crow1_col1\" class=\"data row1 col1\" >2071.1</td>\n",
       "                        <td id=\"T_bb8258c6_d68a_11ea_a920_02420a39786crow1_col2\" class=\"data row1 col2\" >378.8</td>\n",
       "                        <td id=\"T_bb8258c6_d68a_11ea_a920_02420a39786crow1_col3\" class=\"data row1 col3\" >1950.0</td>\n",
       "                        <td id=\"T_bb8258c6_d68a_11ea_a920_02420a39786crow1_col4\" class=\"data row1 col4\" >1950.0</td>\n",
       "                        <td id=\"T_bb8258c6_d68a_11ea_a920_02420a39786crow1_col5\" class=\"data row1 col5\" >1950.0</td>\n",
       "                        <td id=\"T_bb8258c6_d68a_11ea_a920_02420a39786crow1_col6\" class=\"data row1 col6\" >1950.0</td>\n",
       "                        <td id=\"T_bb8258c6_d68a_11ea_a920_02420a39786crow1_col7\" class=\"data row1 col7\" >4800.0</td>\n",
       "            </tr>\n",
       "    </tbody></table>"
      ],
      "text/plain": [
       "<pandas.io.formats.style.Styler at 0x7ff969ce2f90>"
      ]
     },
     "execution_count": 44,
     "metadata": {},
     "output_type": "execute_result"
    }
   ],
   "source": [
    "(by_month[by_month['profit']!=0]\n",
    " .groupby(by=['tariff'])['profit']\n",
    " .describe()\n",
    " .style.format(\"{:.1f}\"))"
   ]
  },
  {
   "cell_type": "markdown",
   "metadata": {},
   "source": [
    "График для наглядности"
   ]
  },
  {
   "cell_type": "code",
   "execution_count": 45,
   "metadata": {},
   "outputs": [
    {
     "data": {
      "image/png": "[encoded data removed]",
      "text/plain": [
       "<Figure size 432x288 with 1 Axes>"
      ]
     },
     "metadata": {
      "needs_background": "light"
     },
     "output_type": "display_data"
    }
   ],
   "source": [
    "(by_month[by_month['profit']!=0]\n",
    " .groupby(by=['tariff'])['profit']\n",
    " .plot(kind='kde', title='Средняя выручка по тарифам',xlim=(0,4000), grid=True, legend=True))\n",
    "plt.show()"
   ]
  },
  {
   "cell_type": "markdown",
   "metadata": {},
   "source": [
    "## 5.2. Средняя выручка пользователей из Москвы отличается от выручки пользователей из других регионов\n",
    "Сначала добавим в нашу таблицу колонку `district`, в которой будут два значения `Москва` или `Регион`"
   ]
  },
  {
   "cell_type": "code",
   "execution_count": 46,
   "metadata": {},
   "outputs": [],
   "source": [
    "by_month['district'] = by_month['city'].where(by_month['city'] == 'Москва', 'Регион')"
   ]
  },
  {
   "cell_type": "markdown",
   "metadata": {},
   "source": [
    "Сформулируем нулевую гипотезу: выручка пользователей из Москвы **равна** выручке пользователей из других регионов\n",
    "\n",
    "Альтернативная гипотеза: выручки различаются\n",
    "\n",
    "Уровень значимости зададим в 5%. Используем метод `ttest_ind` для сравнения двух независимых выборок с параметром `equal_var=True`, т.к. нет оснований полагать, что дисперсии разные"
   ]
  },
  {
   "cell_type": "code",
   "execution_count": 47,
   "metadata": {},
   "outputs": [
    {
     "name": "stdout",
     "output_type": "stream",
     "text": [
      "p-значение: 0.531666503831252\n",
      "Не получилось отвергнуть нулевую гипотезу\n"
     ]
    }
   ],
   "source": [
    "alpha = .05\n",
    "results = st.ttest_ind(\n",
    "    by_month[(by_month['profit']!=0) & (by_month['district']=='Москва')]['profit'], \n",
    "    by_month[(by_month['profit']!=0) & (by_month['district']=='Регион')]['profit'],\n",
    "    equal_var=True\n",
    ")\n",
    "\n",
    "print('p-значение:', results.pvalue)\n",
    "\n",
    "if (results.pvalue < alpha):\n",
    "    print(\"Отвергаем нулевую гипотезу\")\n",
    "else:\n",
    "    print(\"Не получилось отвергнуть нулевую гипотезу\")"
   ]
  },
  {
   "cell_type": "markdown",
   "metadata": {},
   "source": [
    "Cредние значения различаются, но с вероятностью в 53% такое или большее различие можно получить случайно. Делаем вывод, что данные не противоречат нашей гипотезе, следовательно, скорее всего **выручки равны**.\n",
    "\n",
    "Для наглядности сравним методом `describe`:"
   ]
  },
  {
   "cell_type": "code",
   "execution_count": 48,
   "metadata": {
    "scrolled": true
   },
   "outputs": [
    {
     "data": {
      "text/html": [
       "<style  type=\"text/css\" >\n",
       "</style><table id=\"T_bbdc5452_d68a_11ea_a920_02420a39786c\" ><thead>    <tr>        <th class=\"blank\" ></th>        <th class=\"blank level0\" ></th>        <th class=\"col_heading level0 col0\" >count</th>        <th class=\"col_heading level0 col1\" >mean</th>        <th class=\"col_heading level0 col2\" >std</th>        <th class=\"col_heading level0 col3\" >min</th>        <th class=\"col_heading level0 col4\" >25%</th>        <th class=\"col_heading level0 col5\" >50%</th>        <th class=\"col_heading level0 col6\" >75%</th>        <th class=\"col_heading level0 col7\" >max</th>    </tr>    <tr>        <th class=\"index_name level0\" >district</th>        <th class=\"index_name level1\" >tariff</th>        <th class=\"blank\" ></th>        <th class=\"blank\" ></th>        <th class=\"blank\" ></th>        <th class=\"blank\" ></th>        <th class=\"blank\" ></th>        <th class=\"blank\" ></th>        <th class=\"blank\" ></th>        <th class=\"blank\" ></th>    </tr></thead><tbody>\n",
       "                <tr>\n",
       "                        <th id=\"T_bbdc5452_d68a_11ea_a920_02420a39786clevel0_row0\" class=\"row_heading level0 row0\" rowspan=2>Москва</th>\n",
       "                        <th id=\"T_bbdc5452_d68a_11ea_a920_02420a39786clevel1_row0\" class=\"row_heading level1 row0\" >smart</th>\n",
       "                        <td id=\"T_bbdc5452_d68a_11ea_a920_02420a39786crow0_col0\" class=\"data row0 col0\" >386.0</td>\n",
       "                        <td id=\"T_bbdc5452_d68a_11ea_a920_02420a39786crow0_col1\" class=\"data row0 col1\" >1245.1</td>\n",
       "                        <td id=\"T_bbdc5452_d68a_11ea_a920_02420a39786crow0_col2\" class=\"data row0 col2\" >755.0</td>\n",
       "                        <td id=\"T_bbdc5452_d68a_11ea_a920_02420a39786crow0_col3\" class=\"data row0 col3\" >550.0</td>\n",
       "                        <td id=\"T_bbdc5452_d68a_11ea_a920_02420a39786crow0_col4\" class=\"data row0 col4\" >550.0</td>\n",
       "                        <td id=\"T_bbdc5452_d68a_11ea_a920_02420a39786crow0_col5\" class=\"data row0 col5\" >1011.5</td>\n",
       "                        <td id=\"T_bbdc5452_d68a_11ea_a920_02420a39786crow0_col6\" class=\"data row0 col6\" >1681.8</td>\n",
       "                        <td id=\"T_bbdc5452_d68a_11ea_a920_02420a39786crow0_col7\" class=\"data row0 col7\" >5321.0</td>\n",
       "            </tr>\n",
       "            <tr>\n",
       "                                <th id=\"T_bbdc5452_d68a_11ea_a920_02420a39786clevel1_row1\" class=\"row_heading level1 row1\" >ultra</th>\n",
       "                        <td id=\"T_bbdc5452_d68a_11ea_a920_02420a39786crow1_col0\" class=\"data row1 col0\" >225.0</td>\n",
       "                        <td id=\"T_bbdc5452_d68a_11ea_a920_02420a39786crow1_col1\" class=\"data row1 col1\" >2075.3</td>\n",
       "                        <td id=\"T_bbdc5452_d68a_11ea_a920_02420a39786crow1_col2\" class=\"data row1 col2\" >353.1</td>\n",
       "                        <td id=\"T_bbdc5452_d68a_11ea_a920_02420a39786crow1_col3\" class=\"data row1 col3\" >1950.0</td>\n",
       "                        <td id=\"T_bbdc5452_d68a_11ea_a920_02420a39786crow1_col4\" class=\"data row1 col4\" >1950.0</td>\n",
       "                        <td id=\"T_bbdc5452_d68a_11ea_a920_02420a39786crow1_col5\" class=\"data row1 col5\" >1950.0</td>\n",
       "                        <td id=\"T_bbdc5452_d68a_11ea_a920_02420a39786crow1_col6\" class=\"data row1 col6\" >1950.0</td>\n",
       "                        <td id=\"T_bbdc5452_d68a_11ea_a920_02420a39786crow1_col7\" class=\"data row1 col7\" >4050.0</td>\n",
       "            </tr>\n",
       "            <tr>\n",
       "                        <th id=\"T_bbdc5452_d68a_11ea_a920_02420a39786clevel0_row2\" class=\"row_heading level0 row2\" rowspan=2>Регион</th>\n",
       "                        <th id=\"T_bbdc5452_d68a_11ea_a920_02420a39786clevel1_row2\" class=\"row_heading level1 row2\" >smart</th>\n",
       "                        <td id=\"T_bbdc5452_d68a_11ea_a920_02420a39786crow2_col0\" class=\"data row2 col0\" >1843.0</td>\n",
       "                        <td id=\"T_bbdc5452_d68a_11ea_a920_02420a39786crow2_col1\" class=\"data row2 col1\" >1305.0</td>\n",
       "                        <td id=\"T_bbdc5452_d68a_11ea_a920_02420a39786crow2_col2\" class=\"data row2 col2\" >833.9</td>\n",
       "                        <td id=\"T_bbdc5452_d68a_11ea_a920_02420a39786crow2_col3\" class=\"data row2 col3\" >550.0</td>\n",
       "                        <td id=\"T_bbdc5452_d68a_11ea_a920_02420a39786crow2_col4\" class=\"data row2 col4\" >553.0</td>\n",
       "                        <td id=\"T_bbdc5452_d68a_11ea_a920_02420a39786crow2_col5\" class=\"data row2 col5\" >1040.0</td>\n",
       "                        <td id=\"T_bbdc5452_d68a_11ea_a920_02420a39786crow2_col6\" class=\"data row2 col6\" >1765.0</td>\n",
       "                        <td id=\"T_bbdc5452_d68a_11ea_a920_02420a39786crow2_col7\" class=\"data row2 col7\" >6770.0</td>\n",
       "            </tr>\n",
       "            <tr>\n",
       "                                <th id=\"T_bbdc5452_d68a_11ea_a920_02420a39786clevel1_row3\" class=\"row_heading level1 row3\" >ultra</th>\n",
       "                        <td id=\"T_bbdc5452_d68a_11ea_a920_02420a39786crow3_col0\" class=\"data row3 col0\" >760.0</td>\n",
       "                        <td id=\"T_bbdc5452_d68a_11ea_a920_02420a39786crow3_col1\" class=\"data row3 col1\" >2069.8</td>\n",
       "                        <td id=\"T_bbdc5452_d68a_11ea_a920_02420a39786crow3_col2\" class=\"data row3 col2\" >386.3</td>\n",
       "                        <td id=\"T_bbdc5452_d68a_11ea_a920_02420a39786crow3_col3\" class=\"data row3 col3\" >1950.0</td>\n",
       "                        <td id=\"T_bbdc5452_d68a_11ea_a920_02420a39786crow3_col4\" class=\"data row3 col4\" >1950.0</td>\n",
       "                        <td id=\"T_bbdc5452_d68a_11ea_a920_02420a39786crow3_col5\" class=\"data row3 col5\" >1950.0</td>\n",
       "                        <td id=\"T_bbdc5452_d68a_11ea_a920_02420a39786crow3_col6\" class=\"data row3 col6\" >1950.0</td>\n",
       "                        <td id=\"T_bbdc5452_d68a_11ea_a920_02420a39786crow3_col7\" class=\"data row3 col7\" >4800.0</td>\n",
       "            </tr>\n",
       "    </tbody></table>"
      ],
      "text/plain": [
       "<pandas.io.formats.style.Styler at 0x7ff969a65150>"
      ]
     },
     "execution_count": 48,
     "metadata": {},
     "output_type": "execute_result"
    }
   ],
   "source": [
    "(by_month[by_month['profit']!=0]\n",
    " .groupby(by=['district','tariff'])['profit']\n",
    " .describe()\n",
    " .style.format(\"{:.1f}\"))"
   ]
  },
  {
   "cell_type": "markdown",
   "metadata": {},
   "source": [
    "График для наглядности:"
   ]
  },
  {
   "cell_type": "code",
   "execution_count": 49,
   "metadata": {
    "scrolled": true
   },
   "outputs": [
    {
     "data": {
      "image/png": "[encoded data removed]",
      "text/plain": [
       "<Figure size 432x288 with 1 Axes>"
      ]
     },
     "metadata": {
      "needs_background": "light"
     },
     "output_type": "display_data"
    }
   ],
   "source": [
    "(by_month[by_month['profit']!=0]\n",
    " .groupby(by=['district'])['profit']\n",
    " .plot(kind='kde', title='Средняя выручка по тарифам',xlim=(0,4000), grid=True, legend=True))\n",
    "plt.show()"
   ]
  },
  {
   "cell_type": "markdown",
   "metadata": {},
   "source": [
    "Визуально заметно, что в регионах первый пик выше, соответственно там больше абонентов с тарифом `smart`.\n",
    "\n",
    "Проверим другую гипотезу: выручка пользователей тарифа `smart` из Москвы **равна** выручке пользователей из других регионов\n",
    "\n",
    "Альтернативная гипотеза: выручки различаются\n",
    "\n",
    "Уровень значимости зададим в 5%. Используем метод `ttest_ind` для сравнения двух независимых выборок с параметром `equal_var=True`, т.к. нет оснований полагать, что дисперсии разные"
   ]
  },
  {
   "cell_type": "code",
   "execution_count": 50,
   "metadata": {},
   "outputs": [
    {
     "name": "stdout",
     "output_type": "stream",
     "text": [
      "p-значение: 0.19196326570657848\n",
      "Не получилось отвергнуть нулевую гипотезу\n"
     ]
    }
   ],
   "source": [
    "alpha = .05\n",
    "results = st.ttest_ind(\n",
    "    by_month[(by_month['profit']!=0) & (by_month['district']=='Москва') & (by_month['tariff']=='smart')]['profit'], \n",
    "    by_month[(by_month['profit']!=0) & (by_month['district']=='Регион') & (by_month['tariff']=='smart')]['profit'],\n",
    "    equal_var=True\n",
    ")\n",
    "\n",
    "print('p-значение:', results.pvalue)\n",
    "\n",
    "if (results.pvalue < alpha):\n",
    "    print(\"Отвергаем нулевую гипотезу\")\n",
    "else:\n",
    "    print(\"Не получилось отвергнуть нулевую гипотезу\")"
   ]
  },
  {
   "cell_type": "markdown",
   "metadata": {},
   "source": [
    "Немного другое p-значение, но не достаточное для альтернативного вывода."
   ]
  },
  {
   "cell_type": "markdown",
   "metadata": {},
   "source": [
    "# 6. Выводы\n",
    "- предоставленные данные не нуждаются в тщательной предобработке. Были исправлены некоторые типы данных, заменен индекс в таблице `internet` и обнаружены нулевые значения в таблицах `calls` и `internet`\n",
    "- собрана таблица с ежемесечным суммарным количеством минут, сообщений и объемом трафика по каждому пользователю\n",
    "- для каждого пользователя в каждом месяце рассчитана выручка\n",
    "- проанализированы потребности абонентов разных тарифов по `длительности звонков`, `количеству сообщений` и `объему трафика`:\n",
    "    - плотности распределений по этим параметрам пользователей тарифа `ultra` имеют бОльшую дисперсию\n",
    "    - средние значения также больше у пользователей тарифа `ultra`\n",
    "- гипотеза о равенстве выручки пользователей разных тарифов была *отвергнута*, что вполне логично\n",
    "- гипотезу о равенстве выручки пользователей из Москвы и других регионов *не получилось отвергнуть*"
   ]
  },
  {
   "cell_type": "markdown",
   "metadata": {},
   "source": [
    "Upd:\n",
    "        \n",
    "- количество ежемесячно активных пользователей \"smart\" более чем в два раза превышает количество пользователей \"ultra\". Изходя из этого суммарная прибыль компании от тарифа \"smart\" будет больше\n",
    "        \n",
    "- в регионах тариф \"smart\" немного популярнее и выгоднее (это предположение, т.к. для эта гипотеза не проверялась)\n",
    "        \n",
    "Если определить, например, метрику выгоды для отдельного абонента равную отношению выручки к количеству звонков и трафика, то, скорее всего, выгоднее для компании будет тариф \"ultra\". Т.к. пользователь \"ultra\" за 1 Гб/Смс/минуту в среднем будет платить больше, чем пользователь \"smart\"\n",
    "        \n",
    "Но рассчет такой метрики лежит за пределом данного проекта, так что в следующий раз"
   ]
  }
 ],
 "metadata": {
  "kernelspec": {
   "display_name": "Python 3",
   "language": "python",
   "name": "python3"
  },
  "language_info": {
   "codemirror_mode": {
    "name": "ipython",
    "version": 3
   },
   "file_extension": ".py",
   "mimetype": "text/x-python",
   "name": "python",
   "nbconvert_exporter": "python",
   "pygments_lexer": "ipython3",
   "version": "3.7.9"
  },
  "toc": {
   "base_numbering": 1,
   "nav_menu": {},
   "number_sections": true,
   "sideBar": true,
   "skip_h1_title": false,
   "title_cell": "Table of Contents",
   "title_sidebar": "Contents",
   "toc_cell": false,
   "toc_position": {
    "height": "calc(100% - 180px)",
    "left": "10px",
    "top": "150px",
    "width": "295.056px"
   },
   "toc_section_display": true,
   "toc_window_display": true
  }
 },
 "nbformat": 4,
 "nbformat_minor": 4
}
